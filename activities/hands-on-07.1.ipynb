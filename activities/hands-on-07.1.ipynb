{
 "cells": [
  {
   "cell_type": "code",
   "execution_count": 1,
   "metadata": {},
   "outputs": [],
   "source": [
    "# Import some basic libraries\n",
    "import numpy as np\n",
    "import matplotlib.pyplot as plt\n",
    "%matplotlib inline\n",
    "import seaborn as sns\n",
    "sns.set_context('paper')"
   ]
  },
  {
   "cell_type": "markdown",
   "metadata": {},
   "source": [
    "# Hands-On Activity 7.1: Pseudo-random number generators\n",
    "\n",
    "## Objectives\n",
    "\n",
    "+ To understand how computers generate \"random\" numbers.\n",
    "\n",
    "## Readings\n",
    "\n",
    "+ These notes.\n",
    "+ [Middlesquare algorithm](https://en.wikipedia.org/wiki/Middle-square_method).\n",
    "+ [Linear congruential generator](https://en.wikipedia.org/wiki/Linear_congruential_generator).\n",
    "\n",
    "## Pseudo-random number generators (PRNG)\n",
    "\n",
    "Random number generation is the backbone of Bayesian inference.\n",
    "Computers are deterministic.\n",
    "So, how can they generate random numbers?\n",
    "Well they cannot!\n",
    "But they can produce sequence of numbers that look like random numbers!\n",
    "These \"fake\" random number generators are called Pseudo-random number generators (PRNG).\n",
    "They are used to generate random numbers between zero and a maximum integer, say $m$.\n",
    "As we will argue later this is sufficient to generate pretty much any random variable you want.\n",
    "\n",
    "### The middlesquare algorithm (Von Neumann)\n",
    "\n",
    "The [middlesquare algorithm](https://en.wikipedia.org/wiki/Middle-square_method) is the simplest PRNG.\n",
    "\n",
    "1. Take a number and square it.\n",
    "2. Pad the result with zeros to get to the desired number of digits.\n",
    "3. Take the middle digits of the resulting number.\n",
    "4. Repeat.\n",
    "\n",
    "Here is an implementation:"
   ]
  },
  {
   "cell_type": "code",
   "execution_count": 2,
   "metadata": {},
   "outputs": [],
   "source": [
    "def middlesquare(s, digits=4):\n",
    "    \"\"\"\n",
    "    Arguments:\n",
    "        s         -    The initial seed.\n",
    "        digits    -    How many digits do you want.\n",
    "    \"\"\"\n",
    "    # Square the number\n",
    "    s2 = s ** 2\n",
    "    # Turn the resulting number into a string padding with zeros to get to the desired number of digits\n",
    "    s2_str = str(s2).zfill(2*digits)\n",
    "    # Keep only the middle\n",
    "    middle_str = s2_str[int(np.floor(digits/2)):][:-int(np.floor(digits/2))]\n",
    "    return int(middle_str)"
   ]
  },
  {
   "cell_type": "markdown",
   "metadata": {},
   "source": [
    "Let's draw some random numbers:"
   ]
  },
  {
   "cell_type": "code",
   "execution_count": 3,
   "metadata": {},
   "outputs": [
    {
     "name": "stdout",
     "output_type": "stream",
     "text": [
      "5227\n",
      "3215\n",
      "3362\n",
      "3030\n",
      "1809\n",
      "2724\n",
      "4201\n",
      "6484\n",
      "422\n",
      "1780\n",
      "1684\n",
      "8358\n",
      "8561\n",
      "2907\n",
      "4506\n",
      "3040\n",
      "2416\n",
      "8370\n",
      "569\n",
      "3237\n"
     ]
    }
   ],
   "source": [
    "seed = 1234\n",
    "s = seed\n",
    "for _ in range(20):\n",
    "    s = middlesquare(s, digits=4)\n",
    "    print(s)"
   ]
  },
  {
   "cell_type": "markdown",
   "metadata": {},
   "source": [
    "Unfortunately, the middlesquare algorithms results in periodic sequences with very small period. For example:"
   ]
  },
  {
   "cell_type": "code",
   "execution_count": 9,
   "metadata": {},
   "outputs": [
    {
     "name": "stdout",
     "output_type": "stream",
     "text": [
      "2916\n",
      "5030\n",
      "3009\n",
      "540\n",
      "2916\n",
      "5030\n",
      "3009\n",
      "540\n",
      "2916\n",
      "5030\n",
      "3009\n",
      "540\n",
      "2916\n",
      "5030\n",
      "3009\n",
      "540\n",
      "2916\n",
      "5030\n",
      "3009\n",
      "540\n"
     ]
    }
   ],
   "source": [
    "seed = 540\n",
    "s = seed\n",
    "for _ in range(20):\n",
    "    s = middlesquare(s, digits=4)\n",
    "    print(s)"
   ]
  },
  {
   "cell_type": "markdown",
   "metadata": {},
   "source": [
    "## Questions\n",
    "\n",
    "+ What is the minimum number that you can get from the middle square algorithm with 4 digits?\n",
    "+ What is the maximum number that you can get from the middle square algorithm with 4 digits?"
   ]
  },
  {
   "cell_type": "markdown",
   "metadata": {},
   "source": [
    "### Linear congruential generator (LCG)\n",
    "The [linear congruential generator](https://en.wikipedia.org/wiki/Linear_congruential_generator) works as follows. You pick three big integers $a$, $b$ and $m$.\n",
    "Pick a seed $x_0$.\n",
    "Then iterate:\n",
    "$$\n",
    "x_{i+1} = (a x_i + b)\\mod m\n",
    "$$\n",
    "\n",
    "Here is a simple implementation:"
   ]
  },
  {
   "cell_type": "code",
   "execution_count": 10,
   "metadata": {},
   "outputs": [],
   "source": [
    "def lcg(x, a=123456, b=978564, m=6012119):\n",
    "    \"\"\"\n",
    "    Arguments:\n",
    "        x     -   The previous number in the sequence.\n",
    "        a     -   A big integer.\n",
    "        b     -   Another big integer.\n",
    "        m     -   Another big integer.\n",
    "    \"\"\"\n",
    "    return (a * x + b) % m"
   ]
  },
  {
   "cell_type": "code",
   "execution_count": 13,
   "metadata": {},
   "outputs": [
    {
     "name": "stdout",
     "output_type": "stream",
     "text": [
      "3020293\n",
      "2650792\n",
      "5494308\n",
      "965075\n",
      "3115541\n",
      "1883116\n",
      "317849\n",
      "243995\n",
      "2909094\n",
      "134725\n",
      "4067010\n",
      "1658958\n",
      "451558\n",
      "4155644\n",
      "2001482\n",
      "3861575\n",
      "4605659\n",
      "1061643\n",
      "2982572\n",
      "5159241\n"
     ]
    }
   ],
   "source": [
    "# Let's draw some random numbers:\n",
    "seed = 1234\n",
    "s = seed\n",
    "for _ in range(20):\n",
    "    s = lcg(s)\n",
    "    print(s)"
   ]
  },
  {
   "cell_type": "markdown",
   "metadata": {},
   "source": [
    "## Questions\n",
    "\n",
    "+ What is the minimum number that you can get from LCG with $m=10$?\n",
    "+ What is the maximum number that you can get from LCG with $m=10$?\n",
    "+ What about the general case of LCG with arbitrary $m$?\n",
    "+ Picking $a=2$ and $b=0$ is a bad choice. But let's do it. Pick also $m=10$ and go ahead and play with the algorithm. See for yourself that these numbers must be very big and ideally prime numbers."
   ]
  }
 ],
 "metadata": {
  "kernelspec": {
   "display_name": "Python 3",
   "language": "python",
   "name": "python3"
  },
  "language_info": {
   "codemirror_mode": {
    "name": "ipython",
    "version": 3
   },
   "file_extension": ".py",
   "mimetype": "text/x-python",
   "name": "python",
   "nbconvert_exporter": "python",
   "pygments_lexer": "ipython3",
   "version": "3.7.6"
  }
 },
 "nbformat": 4,
 "nbformat_minor": 4
}
