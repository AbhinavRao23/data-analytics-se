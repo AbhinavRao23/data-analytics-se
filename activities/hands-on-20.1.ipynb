{
 "cells": [
  {
   "cell_type": "code",
   "execution_count": null,
   "metadata": {},
   "outputs": [],
   "source": [
    "import numpy as np\n",
    "import matplotlib.pyplot as plt\n",
    "import scipy\n",
    "%matplotlib inline\n",
    "import seaborn as sns\n",
    "sns.set_context('paper')\n",
    "\n",
    "# Test plotting ellipses\n",
    "from matplotlib.patches import Ellipse\n",
    "def plot_ellipse(mu, cov, ax, std=1.0, facecolor='none', edgecolor='red'):\n",
    "    a = cov[0, 0]\n",
    "    b = cov[0, 1]\n",
    "    c = cov[1, 1]\n",
    "    lam1 = 0.5 * (a + c) + np.sqrt((0.5 * (a - c)) ** 2 + b ** 2)\n",
    "    lam2 = 0.5 * (a + c) - np.sqrt((0.5 * (a - c)) ** 2 + b ** 2)\n",
    "    if b == 0.0 and a >= c:\n",
    "        theta = 0.0\n",
    "    elif b == 0 and a < c:\n",
    "        theta = 0.5 * np.pi\n",
    "    else:\n",
    "        theta = np.arctan2(lam1 - a, b)\n",
    "    angle = 0.5 * 360.0 * theta / np.pi\n",
    "    ell_radius_x = np.sqrt(lam1)\n",
    "    ell_radius_y = np.sqrt(lam2)\n",
    "    obj = Ellipse(mu, width=ell_radius_x * std, height=ell_radius_y * std,\n",
    "                  angle=angle, facecolor=facecolor, edgecolor=edgecolor)\n",
    "    ax.add_patch(obj)"
   ]
  },
  {
   "cell_type": "markdown",
   "metadata": {},
   "source": [
    "# Hands-on Activity 20.1 - Kalman Filter for Object Tracking Example\n",
    "\n",
    "## Objectives\n",
    "\n",
    "+ Demonstrate the Kalman filter in the context of object tracking\n",
    "\n",
    "Let's bring back the code from the hands-on activity of lecture 19.\n",
    "We do not repeat the theoretical details."
   ]
  },
  {
   "cell_type": "code",
   "execution_count": null,
   "metadata": {},
   "outputs": [],
   "source": [
    "# The timestep\n",
    "Dt = 0.5\n",
    "# The mass\n",
    "m = 1.0\n",
    "# The variance for the process noise for position\n",
    "epsilon = 1e-6\n",
    "# The standard deviation for the process noise for velocity\n",
    "sigma_q = 1e-2\n",
    "# The standard deviation for the measurement noise for position\n",
    "sigma_r = 0.1\n",
    "\n",
    "# INITIAL CONDITIONS\n",
    "# initial mean\n",
    "mu0 = np.zeros((4,))\n",
    "# initial covariance\n",
    "V0 = np.array([0.1**2, 0.1**2, 0.1**2, 0.1**2]) * np.eye(4)\n",
    "\n",
    "# TRANSITION MATRIX\n",
    "A = np.array([[1.0, 0, Dt, 0],\n",
    "              [0.0, 1.0, 0.0, Dt],\n",
    "              [0.0, 0.0, 1.0, 0.0],\n",
    "              [0.0, 0.0, 0.0, 1.0]])\n",
    "# CONTROL MATRIX\n",
    "B = np.array([[0.0, 0.0],\n",
    "              [0.0, 0.0],\n",
    "              [Dt / m, 0.0],\n",
    "              [0.0, Dt / m]])\n",
    "# PROCESS COVARIANCE\n",
    "Q = np.array([epsilon, epsilon, sigma_q ** 2, sigma_q ** 2]) * np.eye(4)\n",
    "# EMISSION MATRIX\n",
    "C = np.array([[1.0, 0.0, 0.0, 0.0],\n",
    "               [0.0, 1.0, 0.0, 0.0]])\n",
    "# MEASUREMENT COVARIANCE\n",
    "R = np.array([sigma_r ** 2, sigma_r ** 2]) * np.eye(2)"
   ]
  },
  {
   "cell_type": "markdown",
   "metadata": {},
   "source": [
    "Generate a trajectory and observations:"
   ]
  },
  {
   "cell_type": "code",
   "execution_count": null,
   "metadata": {},
   "outputs": [],
   "source": [
    "# The number of steps in the trajectory\n",
    "num_steps = 50\n",
    "# Space to store the trajectory (each state is 4-dimensional)\n",
    "true_trajectory = np.ndarray((num_steps + 1, 4))\n",
    "# Space to store the observations (each observation is 2-dimensional)\n",
    "observations = np.ndarray((num_steps, 2))\n",
    "\n",
    "# Sample the initial conditions\n",
    "x0 = mu0 + np.sqrt(np.diag(V0)) * np.random.randn(4)\n",
    "true_trajectory[0] = x0\n",
    "\n",
    "# Pick a set of pre-determined forces to be applied to the object\n",
    "# so that it does something interesting\n",
    "force = .1\n",
    "omega = 2.0 * np.pi / 5\n",
    "times = Dt * np.arange(num_steps + 1)\n",
    "us = np.zeros((num_steps, 2))\n",
    "us[:, 0] = force * np.cos(omega * times[1:])\n",
    "us[:, 1] = force * np.sin(omega * times[1:])\n",
    "\n",
    "# Sample the trajectory\n",
    "for n in range(num_steps):\n",
    "    x = np.dot(A, true_trajectory[n]) + np.dot(B, us[n]) + np.sqrt(np.diag(Q)) * np.random.randn(4)\n",
    "    true_trajectory[n+1] = x\n",
    "    y = np.dot(C, x) + np.sqrt(np.diag(R)) * np.random.randn(2)\n",
    "    observations[n] = y"
   ]
  },
  {
   "cell_type": "markdown",
   "metadata": {},
   "source": [
    "We are not going to implement the filter from scratch.\n",
    "We are going to use the Python module [FilterPy](https://filterpy.readthedocs.io/en/latest/).\n",
    "This is not included in the default version of Google Colab.\n",
    "You need to install it manually.\n",
    "Here is how:"
   ]
  },
  {
   "cell_type": "code",
   "execution_count": null,
   "metadata": {},
   "outputs": [],
   "source": [
    "!pip install filterpy"
   ]
  },
  {
   "cell_type": "markdown",
   "metadata": {},
   "source": [
    "Now you should be able to load the library. Try the code below:"
   ]
  },
  {
   "cell_type": "code",
   "execution_count": null,
   "metadata": {},
   "outputs": [],
   "source": [
    "from filterpy.kalman import KalmanFilter"
   ]
  },
  {
   "cell_type": "markdown",
   "metadata": {},
   "source": [
    "To define the filter in ``FilterPy`` we need to give the dimensionality of the state space (``dim_x``) and the observations (``dim_z``).\n",
    "Here is how:"
   ]
  },
  {
   "cell_type": "code",
   "execution_count": null,
   "metadata": {},
   "outputs": [],
   "source": [
    "kf = KalmanFilter(dim_x=4, dim_z=2)"
   ]
  },
  {
   "cell_type": "markdown",
   "metadata": {},
   "source": [
    "Now we need to make the filter aware of the various vectors and matrices specifing initial conditions, transitions, emissions, covariances, etc.\n",
    "Note that ``FilterPy`` different notation than the one we use.\n",
    "The correspondance of the notation is as follows:\n",
    "\n",
    "\n",
    "| Name | This class  | ``FilterPy``  | \n",
    "|---|---|---|\n",
    "|initial mean vector| $\\mu_n$ | $x$ |\n",
    "|initial covariance matrix| $V_n$ |  $P$ |\n",
    "|state transition matrix| $A$  | $F$ |\n",
    "|control matrix| $B$ | $B$ |\n",
    "|process covariance matrix|  $Q$ | $Q$  |\n",
    "|emission matrix | $C$ | $H$ |\n",
    "|measurement covariance matrix | $R$  | $R$  |\n"
   ]
  },
  {
   "cell_type": "markdown",
   "metadata": {},
   "source": [
    "This is how you can make the ``kf`` object aware of the various matrices:"
   ]
  },
  {
   "cell_type": "code",
   "execution_count": null,
   "metadata": {},
   "outputs": [],
   "source": [
    "kf.x = mu0\n",
    "kf.P = V0\n",
    "kf.Q = Q\n",
    "kf.R = R\n",
    "kf.H = C\n",
    "kf.F = A\n",
    "kf.B = B"
   ]
  },
  {
   "cell_type": "markdown",
   "metadata": {},
   "source": [
    "Now we can do filtering.\n",
    "You can do one time step at a time.\n",
    "This is what you would do if the data points were coming one by one:\n",
    "Here is how:"
   ]
  },
  {
   "cell_type": "code",
   "execution_count": null,
   "metadata": {
    "scrolled": false
   },
   "outputs": [],
   "source": [
    "# DO NOT RERUN THIS WITHOUT RERUNNING THE INITIALIZATION CODE IN THE PREVIOUS\n",
    "# CODE BLOCK\n",
    "for n in range(1, num_steps):\n",
    "    # Predict step (notice that you also need to pass the control (if there is any))\n",
    "    kf.predict(u=us[n])\n",
    "    # Make a figure one every ten time steps\n",
    "    if n % 5 == 0:\n",
    "        fig, ax = plt.subplots(dpi=150)\n",
    "        # Plot the true trajectory up to this point\n",
    "        ax.plot(true_trajectory[:n+1, 0], true_trajectory[:n+1, 1], 'md-', label='True trajectory')\n",
    "        # Plot the observation we just made\n",
    "        ax.plot(observations[n,0], observations[n,1], 'x', label='Observation')\n",
    "        # Plot the mean of the position after the prediction step\n",
    "        ax.plot(kf.x[0], kf.x[1], 'g.', label='After prediction step')\n",
    "        # Plot a 95% credible elipse\n",
    "        plot_ellipse(kf.x[:2], kf.P[:2, :2], ax, edgecolor='green')\n",
    "    # Update step\n",
    "    kf.update(observations[n])\n",
    "    if n % 5 == 0:\n",
    "        # Plot the mean of the position after the update step\n",
    "        ax.plot(kf.x[0], kf.x[1], 'r.', label='After update step')\n",
    "        # Plot a 95 % credible elipse\n",
    "        plot_ellipse(kf.x[:2], kf.P[:2, :2], ax, std=3.0, edgecolor='red')\n",
    "        plt.legend(loc='best')"
   ]
  },
  {
   "cell_type": "markdown",
   "metadata": {},
   "source": [
    "Notice that the filter is very uncertain at the beginning.\n",
    "Then it gradually becomes better and better.\n",
    "\n",
    "The other way to run the filter is with all the data at once.\n",
    "This is called a *batch* filter.\n",
    "Here is how:"
   ]
  },
  {
   "cell_type": "code",
   "execution_count": null,
   "metadata": {},
   "outputs": [],
   "source": [
    "# We need to reset the initial conditions\n",
    "kf.x = mu0\n",
    "kf.P = V0\n",
    "# Here is the code that runs the batch:\n",
    "res = kf.batch_filter(observations, us=us)"
   ]
  },
  {
   "cell_type": "markdown",
   "metadata": {},
   "source": [
    "This returns the means and the covariances that you would have gotten at each timestep:"
   ]
  },
  {
   "cell_type": "code",
   "execution_count": null,
   "metadata": {},
   "outputs": [],
   "source": [
    "means = res[0]\n",
    "covs = res[1]"
   ]
  },
  {
   "cell_type": "markdown",
   "metadata": {},
   "source": [
    "And here is an alternative way to visualize your uncertainty about the state at all times:"
   ]
  },
  {
   "cell_type": "code",
   "execution_count": null,
   "metadata": {},
   "outputs": [],
   "source": [
    "y_labels = ['$x_1$', '$x_2$', '$x_3$', '$x_4$']\n",
    "\n",
    "res_x = 1024\n",
    "res_y = 768\n",
    "dpi = 150\n",
    "w_in = res_x / dpi\n",
    "h_in = res_y / dpi\n",
    "fig, ax = plt.subplots(4, 1, dpi=dpi)\n",
    "fig.set_size_inches(w_in, h_in)\n",
    "\n",
    "times = Dt * np.arange(num_steps + 1)\n",
    "\n",
    "for j in range(4):\n",
    "    ax[j].set_ylabel(y_labels[j])\n",
    "ax[-1].set_xlabel('$t$ (time)')\n",
    "\n",
    "for j in range(4):\n",
    "    ax[j].plot(times[0:num_steps], true_trajectory[0:num_steps, j], 'b.-')\n",
    "    ax[j].plot(times[1:num_steps], means[1:num_steps, j], 'r.')\n",
    "    ax[j].fill_between(times[1:num_steps],\n",
    "                            means[1:num_steps, j] - 2.0 * np.sqrt(covs[1:num_steps, j, j]),\n",
    "                            means[1:num_steps, j] + 2.0 * np.sqrt(covs[1:num_steps, j, j]),\n",
    "                            color='red', alpha=0.25)                \n",
    "    if j < 2:\n",
    "        ax[j].plot(times[1:num_steps], observations[:n, j], 'go')"
   ]
  },
  {
   "cell_type": "markdown",
   "metadata": {},
   "source": [
    "## Questions\n",
    "\n",
    "+ Rerun the code a couple of times to observe different trajectories.\n",
    "+ Double the process noise variance $\\sigma_q^2$. What happens?\n",
    "+ Double the measurement noise variance $\\sigma_r^2$. What happens?\n",
    "+ Zero-out the control vector $\\mathbf{u}_{0:n-1}$. What happens?"
   ]
  }
 ],
 "metadata": {
  "kernelspec": {
   "display_name": "Python 3",
   "language": "python",
   "name": "python3"
  },
  "language_info": {
   "codemirror_mode": {
    "name": "ipython",
    "version": 3
   },
   "file_extension": ".py",
   "mimetype": "text/x-python",
   "name": "python",
   "nbconvert_exporter": "python",
   "pygments_lexer": "ipython3",
   "version": "3.7.7"
  }
 },
 "nbformat": 4,
 "nbformat_minor": 4
}
