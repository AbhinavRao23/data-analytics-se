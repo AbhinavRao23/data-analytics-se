{
 "cells": [
  {
   "cell_type": "code",
   "execution_count": null,
   "metadata": {},
   "outputs": [],
   "source": [
    "# Import some basic libraries\n",
    "import numpy as np\n",
    "import matplotlib.pyplot as plt\n",
    "%matplotlib inline\n",
    "import seaborn as sns\n",
    "sns.set_context('paper')"
   ]
  },
  {
   "cell_type": "markdown",
   "metadata": {},
   "source": [
    "# Hands-on Activity 11.3: The principle of maximum entropy for continuous random variables\n",
    "\n",
    "## Objectives\n",
    "+ Gain intuition about the maximum entropy solution distribution in various continuous cases\n",
    "\n",
    "## References\n",
    "\n",
    "+ [PyMaxEnt](https://www.sciencedirect.com/science/article/pii/S2352711019302456), a software package by Tony Saad and Giovanna Ruai.\n",
    "\n",
    "## Setting up the code\n",
    "\n",
    "It is not trivial to write generic code for finding the maximum entropy distribution in continuous cases.\n",
    "Instead, we will use the [PyMaxEnt](https://www.sciencedirect.com/science/article/pii/S2352711019302456) Python module.\n",
    "This module is not setup for installation via pip, so we will have to do a bit of manual work.\n",
    "All the code is contained in a single file called ``pymaxent.py`` which you can find [here](https://raw.githubusercontent.com/saadgroup/PyMaxEnt/master/src/pymaxent.py).\n",
    "All we need to do is make this file visible from the current working directory of this Jupyter notebook.\n",
    "We could give OS-specific instructions of how to do this but in Python you could do it as follows:"
   ]
  },
  {
   "cell_type": "code",
   "execution_count": null,
   "metadata": {},
   "outputs": [],
   "source": [
    "import requests\n",
    "url = 'https://raw.githubusercontent.com/saadgroup/PyMaxEnt/master/src/pymaxent.py'\n",
    "code = requests.get(url)\n",
    "with open('pymaxent.py', 'wb') as fd:\n",
    "    fd.write(code.content)"
   ]
  },
  {
   "cell_type": "markdown",
   "metadata": {},
   "source": [
    "After running the code above you should be able to import the library:"
   ]
  },
  {
   "cell_type": "code",
   "execution_count": null,
   "metadata": {},
   "outputs": [],
   "source": [
    "# If this fails, please make sure you follow the instructions above to download the file\n",
    "from pymaxent import *"
   ]
  },
  {
   "cell_type": "markdown",
   "metadata": {},
   "source": [
    "## Examples of maximum entropy distributions\n",
    "\n",
    "We work in a 1D random variable setting.\n",
    "The code by Saad requires that you specify the interval support of the distribution, i.e., an interval $[a,b]$ outside of which the probability density function should be zero, and the $M$ *moments* of the distribution, i.e.,\n",
    "$$\n",
    "\\mathbb{E}[X^m] = \\mu_m,\n",
    "$$\n",
    "for $m=0,\\dots,M$.\n",
    "Then, the maximum entropy distribution that satisfies these constraints is given by:\n",
    "$$\n",
    "p(x) = 1_{[a,b]}(x)\\exp\\left\\{-\\sum_{m=1}^M\\lambda_mx^m\\right\\},\n",
    "$$\n",
    "where the $\\lambda_0,\\dots,\\lambda_M$ are fitted so that the constraints are satisfied, and $Z$ is the normalization constant.\n",
    "Note that there is no need for the normalization constant here because it has been absorbed in $\\lambda_0$.\n",
    "Let's do some examples to gain some intuition.\n",
    "\n",
    "### No constraints in [-1,1]\n",
    "The support is $[-1,1]$ and there are no moment constaints.\n",
    "You only have to specify the normalization constraint and the bounds:"
   ]
  },
  {
   "cell_type": "code",
   "execution_count": null,
   "metadata": {},
   "outputs": [],
   "source": [
    "mu = [1.0]\n",
    "pdf, lambdas = reconstruct(mu, bnds=[-1.0, 1.0])\n",
    "# plot the reconstructed solution\n",
    "x = np.linspace(-1.0, 1.0, 100)\n",
    "fig, ax = plt.subplots(dpi=150)\n",
    "ax.plot(x, pdf(x))\n",
    "ax.set_xlabel('$x$')\n",
    "ax.set_ylabel('$p(x)$');"
   ]
  },
  {
   "cell_type": "markdown",
   "metadata": {},
   "source": [
    "## Mean constraint [-1,1]\n",
    "Same as before, but we are now going to impose a mean constraint:\n",
    "$$\n",
    "\\mathbb{E}[X] = \\mu.\n",
    "$$"
   ]
  },
  {
   "cell_type": "code",
   "execution_count": null,
   "metadata": {},
   "outputs": [],
   "source": [
    "mu = [1.0, # The required normalization constraint\n",
    "      0.0] # The mean constraint\n",
    "pdf, lambdas = reconstruct(mu, bnds=[-1.0, 1.0])\n",
    "# plot the reconstructed solution\n",
    "x = np.linspace(-1.0, 1.0, 100)\n",
    "fig, ax = plt.subplots(dpi=150)\n",
    "ax.plot(x, pdf(x))\n",
    "ax.set_xlabel('$x$')\n",
    "ax.set_ylabel('$p(x)$');"
   ]
  },
  {
   "cell_type": "markdown",
   "metadata": {},
   "source": [
    "### Questions\n",
    "\n",
    "+ Modify the mean to $\\mu=0.1$ and observe the resulting maximum entropy pdf.\n",
    "+ Modify the mean to $\\mu=-0.1$ and observe the resulting maximum entropy pdf.\n",
    "+ Try $\\mu=0.9$, what happens to the maximum entropy pdf?\n",
    "+ Try $\\mu=1.1$. Why does the code break down?"
   ]
  },
  {
   "cell_type": "markdown",
   "metadata": {},
   "source": [
    "## Variance constraint\n",
    "In addition to the mean constraint, we now include a variance constraint:\n",
    "$$\n",
    "\\mathbb{V}[X] = \\sigma^2.\n",
    "$$\n",
    "However, note that ``PyMaxEnt`` works only with moment constraints.\n",
    "Therefore, we need to connect the variance to the second and first moments.\n",
    "Here is how to do this:\n",
    "$$\n",
    "\\mathbb{E}[X^2] = \\mathbb{V}[X] + \\left(\\mathbb{E}[X]\\right)^2 = \\sigma^2 + \\mu^2.\n",
    "$$"
   ]
  },
  {
   "cell_type": "code",
   "execution_count": null,
   "metadata": {},
   "outputs": [],
   "source": [
    "mu = 0.0\n",
    "sigma2 = 0.1\n",
    "mus = [1.0, # The required normalization constraint\n",
    "       mu, # The mean constraint\n",
    "       sigma2 + mu ** 2 ] # The second moment constraint \n",
    "pdf, lambdas = reconstruct(mus, bnds=[-1.0, 1.0])\n",
    "# plot the reconstructed solution\n",
    "x = np.linspace(-1.0, 1.0, 100)\n",
    "fig, ax = plt.subplots(dpi=150)\n",
    "ax.plot(x, pdf(x))\n",
    "ax.set_xlabel('$x$')\n",
    "ax.set_ylabel('$p(x)$');"
   ]
  },
  {
   "cell_type": "markdown",
   "metadata": {},
   "source": [
    "### Questions\n",
    "\n",
    "+ Modify the variance to $\\sigma=0.3$ and observe the resulting maximum entropy pdf.\n",
    "+ Modify the mean to $\\sigma=0.4$ and observe the resulting maximum entropy pdf. Why did you get this abrapt change?\n",
    "+ Try $\\sigma=1$. Why does the code break down?"
   ]
  }
 ],
 "metadata": {
  "kernelspec": {
   "display_name": "Python 3",
   "language": "python",
   "name": "python3"
  },
  "language_info": {
   "codemirror_mode": {
    "name": "ipython",
    "version": 3
   },
   "file_extension": ".py",
   "mimetype": "text/x-python",
   "name": "python",
   "nbconvert_exporter": "python",
   "pygments_lexer": "ipython3",
   "version": "3.7.7"
  }
 },
 "nbformat": 4,
 "nbformat_minor": 4
}
