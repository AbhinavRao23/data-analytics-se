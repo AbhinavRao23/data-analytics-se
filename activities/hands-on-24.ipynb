{
 "cells": [
  {
   "cell_type": "code",
   "execution_count": 25,
   "metadata": {},
   "outputs": [],
   "source": [
    "import numpy as np\n",
    "import scipy.stats as st\n",
    "import matplotlib.pyplot as plt\n",
    "%matplotlib inline\n",
    "import seaborn as sns\n",
    "sns.set_context('paper')\n",
    "sns.set_style('white')"
   ]
  },
  {
   "cell_type": "markdown",
   "metadata": {},
   "source": [
    "# Lecture 24 - Deep Neural Networks\n",
    "\n",
    "## Objectives\n",
    "\n",
    "+ Understand the basics of `PyTorch`.\n",
    "+ Set up and train regression DNNs with `PyTorch`\n",
    "\n",
    "## References \n",
    "\n",
    "+ Reading Activity 24\n",
    "+ Chapters 6, 7, and 8 of https://www.deeplearningbook.org/\n",
    "+ [Deep Learning with PyTorch: A 60 minute blitz](https://pytorch.org/tutorials/beginner/deep_learning_60min_blitz.html) and in particular:\n",
    "    - [What is PyTorch?](https://pytorch.org/tutorials/beginner/blitz/tensor_tutorial.html#sphx-glr-beginner-blitz-tensor-tutorial-py)\n",
    "    - [Autograd: Automatic differentation](https://pytorch.org/tutorials/beginner/blitz/autograd_tutorial.html#sphx-glr-beginner-blitz-autograd-tutorial-py)\n",
    "    - [Neural networks](https://pytorch.org/tutorials/beginner/blitz/neural_networks_tutorial.html#sphx-glr-beginner-blitz-neural-networks-tutorial-py)"
   ]
  },
  {
   "cell_type": "markdown",
   "metadata": {},
   "source": [
    "## What is PyTorch and why are we using it?\n",
    "\n",
    "+ PyTorch is an alternative to Numpy that can harness the power of [GPUs](https://en.wikipedia.org/wiki/Graphics_processing_unit).\n",
    "+ PyTorch provides some core functionality for Neural Networks:\n",
    "    - Some basic elements for building them up like linear layers, activation functions, etc.\n",
    "    - Automatic differentation for getting the derivative of loss functions with respect to parameters.\n",
    "    - Some stochastic optimization algorithms for minimizing loss functions\n",
    "    - ...\n",
    "\n",
    "I am not going to provide here a complete tutorial of PyTorch.\n",
    "You are advised to go over the first three topics of the [Deep Learning with PyTorch: A 60 minute blitz](https://pytorch.org/tutorials/beginner/deep_learning_60min_blitz.html) prior to beginning this hands-on activity.\n",
    "Otherwise, it is unlikely that you understand the code that follows.\n",
    "\n",
    "PyTorch was developed by the Facebook AI Research Group.\n",
    "There is another powerful alternative developed by Google Brain: [TensorFlow](https://www.tensorflow.org/).\n",
    "I find PyTorch easier to use than TensorFlow and that's why we only use this in this class."
   ]
  },
  {
   "cell_type": "markdown",
   "metadata": {},
   "source": [
    "## Making neural networks in PyTorch\n",
    "\n",
    "PyTorch is fairly flexible in allowing you to make any type neural network you like.\n",
    "You have absolute freedom on how your model looks like.\n",
    "However, it does provide a super easy way to make dense neural networks with a fixed activation function.\n",
    "That's what we are going to start with.\n",
    "First, import torch:"
   ]
  },
  {
   "cell_type": "code",
   "execution_count": 26,
   "metadata": {},
   "outputs": [],
   "source": [
    "import torch"
   ]
  },
  {
   "cell_type": "markdown",
   "metadata": {},
   "source": [
    "The submodule `torch.nn` is where the neural network building blocks reside:"
   ]
  },
  {
   "cell_type": "code",
   "execution_count": 27,
   "metadata": {},
   "outputs": [],
   "source": [
    "import torch.nn as nn"
   ]
  },
  {
   "cell_type": "markdown",
   "metadata": {},
   "source": [
    "First, let me show you how you can make a single linear layer:\n",
    "$$\n",
    "y = Wx + b.\n",
    "$$\n",
    "The weights are selected randomly if not specified.\n",
    "Here you go:"
   ]
  },
  {
   "cell_type": "code",
   "execution_count": 28,
   "metadata": {},
   "outputs": [],
   "source": [
    "layer = nn.Linear(1, 20)"
   ]
  },
  {
   "cell_type": "markdown",
   "metadata": {},
   "source": [
    "This is now a function that takes one dimensional inputs and spits out 20 dimensional outputs.\n",
    "Here is how it works:"
   ]
  },
  {
   "cell_type": "code",
   "execution_count": 29,
   "metadata": {},
   "outputs": [
    {
     "name": "stdout",
     "output_type": "stream",
     "text": [
      "tensor([[0.3341],\n",
      "        [0.8044],\n",
      "        [0.2742],\n",
      "        [0.8665],\n",
      "        [0.7738],\n",
      "        [0.3158],\n",
      "        [0.6246],\n",
      "        [0.6490],\n",
      "        [0.9892],\n",
      "        [0.6280]])\n"
     ]
    }
   ],
   "source": [
    "x = torch.rand(10, 1) # 10 randomly sampled one dimensinal inputs\n",
    "print(x)"
   ]
  },
  {
   "cell_type": "code",
   "execution_count": 30,
   "metadata": {},
   "outputs": [
    {
     "name": "stdout",
     "output_type": "stream",
     "text": [
      "tensor([[ 5.0784e-01, -3.5283e-01,  2.5785e-01,  7.5132e-01,  3.9920e-01,\n",
      "         -8.6749e-02,  4.7012e-01,  9.4173e-01,  7.0942e-01, -1.8253e-01,\n",
      "         -6.9069e-02, -4.3936e-01, -5.4792e-01, -5.5827e-01,  4.6429e-01,\n",
      "          8.9633e-01, -1.0537e-01, -6.1590e-01, -3.5250e-02,  3.2763e-01],\n",
      "        [ 7.1228e-01, -6.7590e-01, -1.2817e-01,  9.4162e-01,  3.3157e-01,\n",
      "         -4.9168e-01,  7.4657e-01,  8.6173e-01,  3.1289e-01, -4.4753e-01,\n",
      "         -1.2546e-01, -3.3079e-01, -7.6782e-01, -8.1059e-01,  2.6038e-01,\n",
      "          1.1581e+00, -3.3458e-01, -3.5073e-01, -3.2443e-01,  7.1753e-01],\n",
      "        [ 4.8178e-01, -3.1164e-01,  3.0706e-01,  7.2706e-01,  4.0783e-01,\n",
      "         -3.5125e-02,  4.3487e-01,  9.5192e-01,  7.5997e-01, -1.4874e-01,\n",
      "         -6.1879e-02, -4.5320e-01, -5.1988e-01, -5.2610e-01,  4.9029e-01,\n",
      "          8.6297e-01, -7.6151e-02, -6.4971e-01,  1.6172e-03,  2.7792e-01],\n",
      "        [ 7.3925e-01, -7.1853e-01, -1.7911e-01,  9.6673e-01,  3.2264e-01,\n",
      "         -5.4511e-01,  7.8305e-01,  8.5118e-01,  2.6057e-01, -4.8250e-01,\n",
      "         -1.3290e-01, -3.1646e-01, -7.9684e-01, -8.4388e-01,  2.3347e-01,\n",
      "          1.1926e+00, -3.6482e-01, -3.1574e-01, -3.6259e-01,  7.6898e-01],\n",
      "        [ 6.9898e-01, -6.5490e-01, -1.0308e-01,  9.2925e-01,  3.3596e-01,\n",
      "         -4.6535e-01,  7.2860e-01,  8.6693e-01,  3.3867e-01, -4.3031e-01,\n",
      "         -1.2179e-01, -3.3784e-01, -7.5353e-01, -7.9418e-01,  2.7364e-01,\n",
      "          1.1410e+00, -3.1968e-01, -3.6797e-01, -3.0563e-01,  6.9218e-01],\n",
      "        [ 4.9985e-01, -3.4020e-01,  2.7294e-01,  7.4388e-01,  4.0185e-01,\n",
      "         -7.0924e-02,  4.5931e-01,  9.4485e-01,  7.2491e-01, -1.7217e-01,\n",
      "         -6.6865e-02, -4.4360e-01, -5.3933e-01, -5.4840e-01,  4.7226e-01,\n",
      "          8.8611e-01, -9.6415e-02, -6.2626e-01, -2.3949e-02,  3.1239e-01],\n",
      "        [ 6.3411e-01, -5.5238e-01,  1.9420e-02,  8.6886e-01,  3.5743e-01,\n",
      "         -3.3685e-01,  6.4087e-01,  8.9232e-01,  4.6450e-01, -3.4621e-01,\n",
      "         -1.0390e-01, -3.7230e-01, -6.8374e-01, -7.1411e-01,  3.3834e-01,\n",
      "          1.0580e+00, -2.4694e-01, -4.5212e-01, -2.1386e-01,  5.6845e-01],\n",
      "        [ 6.4471e-01, -5.6912e-01, -5.8535e-04,  8.7872e-01,  3.5392e-01,\n",
      "         -3.5784e-01,  6.5520e-01,  8.8817e-01,  4.4395e-01, -3.5994e-01,\n",
      "         -1.0682e-01, -3.6667e-01, -6.9514e-01, -7.2719e-01,  3.2778e-01,\n",
      "          1.0715e+00, -2.5882e-01, -4.3837e-01, -2.2885e-01,  5.8866e-01],\n",
      "        [ 7.9259e-01, -8.0282e-01, -2.7982e-01,  1.0164e+00,  3.0499e-01,\n",
      "         -6.5075e-01,  8.5518e-01,  8.3031e-01,  1.5711e-01, -5.5164e-01,\n",
      "         -1.4761e-01, -2.8813e-01, -8.5421e-01, -9.0971e-01,  1.8027e-01,\n",
      "          1.2609e+00, -4.2462e-01, -2.4656e-01, -4.3803e-01,  8.7070e-01],\n",
      "        [ 6.3560e-01, -5.5473e-01,  1.6610e-02,  8.7025e-01,  3.5693e-01,\n",
      "         -3.3980e-01,  6.4288e-01,  8.9173e-01,  4.6161e-01, -3.4814e-01,\n",
      "         -1.0431e-01, -3.7151e-01, -6.8534e-01, -7.1595e-01,  3.3686e-01,\n",
      "          1.0599e+00, -2.4861e-01, -4.5019e-01, -2.1597e-01,  5.7129e-01]],\n",
      "       grad_fn=<AddmmBackward>)\n"
     ]
    }
   ],
   "source": [
    "y = layer(x)\n",
    "print(y)"
   ]
  },
  {
   "cell_type": "code",
   "execution_count": 7,
   "metadata": {},
   "outputs": [
    {
     "name": "stdout",
     "output_type": "stream",
     "text": [
      "torch.Size([10, 20])\n"
     ]
    }
   ],
   "source": [
    "print(y.shape)"
   ]
  },
  {
   "cell_type": "markdown",
   "metadata": {},
   "source": [
    "So, this took us to 10, 20 dimensional outputs. Looks good.\n",
    "\n",
    "But where are the weights and the bias term?\n",
    "Here they are:"
   ]
  },
  {
   "cell_type": "code",
   "execution_count": 8,
   "metadata": {},
   "outputs": [
    {
     "data": {
      "text/plain": [
       "Parameter containing:\n",
       "tensor([[-0.7244],\n",
       "        [ 0.6246],\n",
       "        [ 0.4859],\n",
       "        [-0.4511],\n",
       "        [ 0.3415],\n",
       "        [ 0.1848],\n",
       "        [-0.2098],\n",
       "        [-0.1523],\n",
       "        [-0.8029],\n",
       "        [-0.0259],\n",
       "        [-0.4943],\n",
       "        [-0.1734],\n",
       "        [-0.3771],\n",
       "        [-0.2689],\n",
       "        [ 0.7109],\n",
       "        [ 0.6460],\n",
       "        [-0.3977],\n",
       "        [ 0.4483],\n",
       "        [ 0.3539],\n",
       "        [-0.8201]], requires_grad=True)"
      ]
     },
     "execution_count": 8,
     "metadata": {},
     "output_type": "execute_result"
    }
   ],
   "source": [
    "layer.weight"
   ]
  },
  {
   "cell_type": "code",
   "execution_count": 9,
   "metadata": {},
   "outputs": [
    {
     "data": {
      "text/plain": [
       "Parameter containing:\n",
       "tensor([-0.6055,  0.4345, -0.4334,  0.1397, -0.2797,  0.4837, -0.6142,  0.4432,\n",
       "         0.4403, -0.8492, -0.5207,  0.7993,  0.3730,  0.1382, -0.1678, -0.4408,\n",
       "         0.5537, -0.3103, -0.2265,  0.6833], requires_grad=True)"
      ]
     },
     "execution_count": 9,
     "metadata": {},
     "output_type": "execute_result"
    }
   ],
   "source": [
    "layer.bias"
   ]
  },
  {
   "cell_type": "markdown",
   "metadata": {},
   "source": [
    "You can directly change them if you wish.\n",
    "Notice the `requires_grad=True` flag.\n",
    "This is because PyTorch knows that these are parameters to be optimized.\n",
    "\n",
    "There is a little bit of flexibility on `nn.Linear`.\n",
    "For example, you can completly drop the bias if you wish.\n",
    "For the complete list of possibilities, you should always [check the docs](https://pytorch.org/docs/stable/generated/torch.nn.Linear.html).\n",
    "\n",
    "Now, let's get to the activation functions.\n",
    "There are a lot already in `torch.nn`.\n",
    "Here is the sigmoid:"
   ]
  },
  {
   "cell_type": "code",
   "execution_count": 10,
   "metadata": {},
   "outputs": [
    {
     "data": {
      "image/png": "[encoded data removed]",
      "text/plain": [
       "<Figure size 600x400 with 1 Axes>"
      ]
     },
     "metadata": {},
     "output_type": "display_data"
    }
   ],
   "source": [
    "h = nn.Sigmoid()\n",
    "\n",
    "fig, ax = plt.subplots(dpi=100)\n",
    "x = torch.linspace(-5, 5, 100)[:, None]\n",
    "ax.plot(x, h(x))\n",
    "ax.set_xlabel('$x$')\n",
    "ax.set_ylabel('$z=h(x)$')\n",
    "ax.set_title('Activation function: ' + str(h));"
   ]
  },
  {
   "cell_type": "markdown",
   "metadata": {},
   "source": [
    "Now, you could also implement the activation fuction by hand.\n",
    "The only restriction is that you should be using `PyTorch` functions instead of `numpy` functions.\n",
    "Here is how we would do it for the sigmoid:"
   ]
  },
  {
   "cell_type": "code",
   "execution_count": 11,
   "metadata": {},
   "outputs": [
    {
     "data": {
      "image/png": "[encoded data removed]",
      "text/plain": [
       "<Figure size 600x400 with 1 Axes>"
      ]
     },
     "metadata": {},
     "output_type": "display_data"
    }
   ],
   "source": [
    "# Here is how you could do this by hand:\n",
    "h_by_hand = lambda x: torch.exp(x) / (1.0 + torch.exp(x))\n",
    "\n",
    "fig, ax = plt.subplots(dpi=100)\n",
    "ax.plot(x, h_by_hand(x))\n",
    "ax.set_xlabel('$x$')\n",
    "ax.set_ylabel('$z=h(x)$')\n",
    "ax.set_title('Activation function: Sigmoid (hand version)');"
   ]
  },
  {
   "cell_type": "markdown",
   "metadata": {},
   "source": [
    "Here are now some of the most commonly used activation functions in `torch.nn`:"
   ]
  },
  {
   "cell_type": "code",
   "execution_count": 12,
   "metadata": {},
   "outputs": [
    {
     "data": {
      "image/png": "[encoded data removed]",
      "text/plain": [
       "<Figure size 600x400 with 1 Axes>"
      ]
     },
     "metadata": {},
     "output_type": "display_data"
    }
   ],
   "source": [
    "fig, ax = plt.subplots(dpi=100)\n",
    "ax.plot(x, h_by_hand(x))\n",
    "\n",
    "for Func in [nn.Sigmoid, nn.ReLU, nn.Tanh]:\n",
    "    h = Func()\n",
    "    ax.plot(x, h(x), label=str(h))\n",
    "    \n",
    "ax.set_xlabel('$x$')\n",
    "ax.set_ylabel('$z=h(x)$')\n",
    "plt.legend(loc='best');"
   ]
  },
  {
   "cell_type": "markdown",
   "metadata": {},
   "source": [
    "Now that we have a linear layer and an activation function here is how we can combine them to make a function that takes us from the input to the internal neurons:"
   ]
  },
  {
   "cell_type": "code",
   "execution_count": 13,
   "metadata": {},
   "outputs": [],
   "source": [
    "h = nn.Sigmoid()\n",
    "z_func = lambda x: h(layer(x))"
   ]
  },
  {
   "cell_type": "markdown",
   "metadata": {},
   "source": [
    "This is pretty much it. And that's now a function:"
   ]
  },
  {
   "cell_type": "code",
   "execution_count": 14,
   "metadata": {},
   "outputs": [
    {
     "data": {
      "text/plain": [
       "tensor([[0.9533, 0.0637, 0.0540,  ..., 0.0723, 0.1196, 0.9917],\n",
       "        [0.9500, 0.0675, 0.0566,  ..., 0.0754, 0.1234, 0.9910],\n",
       "        [0.9464, 0.0716, 0.0593,  ..., 0.0786, 0.1273, 0.9902],\n",
       "        ...,\n",
       "        [0.0166, 0.9687, 0.8696,  ..., 0.8630, 0.8133, 0.0373],\n",
       "        [0.0155, 0.9705, 0.8751,  ..., 0.8683, 0.8187, 0.0344],\n",
       "        [0.0144, 0.9723, 0.8804,  ..., 0.8734, 0.8239, 0.0318]],\n",
       "       grad_fn=<SigmoidBackward>)"
      ]
     },
     "execution_count": 14,
     "metadata": {},
     "output_type": "execute_result"
    }
   ],
   "source": [
    "z_func(x)"
   ]
  },
  {
   "cell_type": "markdown",
   "metadata": {},
   "source": [
    "Now, for regression, we would like to bring this back to a scalar output.\n",
    "To do this, we need to add one more linear layer taking the 20 internal neurons, back to one dimension.\n"
   ]
  },
  {
   "cell_type": "code",
   "execution_count": 15,
   "metadata": {},
   "outputs": [
    {
     "name": "stdout",
     "output_type": "stream",
     "text": [
      "torch.Size([100, 1])\n"
     ]
    }
   ],
   "source": [
    "final_layer = nn.Linear(20, 1)\n",
    "f = lambda x: final_layer(z_func(x))\n",
    "print(f(x).shape)"
   ]
  },
  {
   "cell_type": "markdown",
   "metadata": {},
   "source": [
    "Instead of doing this manually, we can can use the class `nn.Sequential` of PyTorch:"
   ]
  },
  {
   "cell_type": "code",
   "execution_count": 17,
   "metadata": {},
   "outputs": [],
   "source": [
    "f = nn.Sequential(layer, nn.Sigmoid(), final_layer)"
   ]
  },
  {
   "cell_type": "markdown",
   "metadata": {},
   "source": [
    "This is the recommended way, because `nn.Sequential` adds some additional functionality which I will show you in a while.\n",
    "You can evaluate this as a function, and you can also plot it.\n",
    "But to plot it, you have to turn the output into a proper numpy array.\n",
    "This is because matplotlib doesn't like PyTorch tensors that depend on parameters.\n",
    "Here is what you need to do:"
   ]
  },
  {
   "cell_type": "code",
   "execution_count": 18,
   "metadata": {},
   "outputs": [
    {
     "name": "stdout",
     "output_type": "stream",
     "text": [
      "<class 'numpy.ndarray'>\n",
      "(100, 1)\n"
     ]
    }
   ],
   "source": [
    "y = f(x).detach().numpy() # detach freezes the parameters to whatever they are\n",
    "                          # numpy returns a proper numpy array\n",
    "print(type(y))\n",
    "print(y.shape)"
   ]
  },
  {
   "cell_type": "markdown",
   "metadata": {},
   "source": [
    "And here is how it looks like (remember the weights are random):"
   ]
  },
  {
   "cell_type": "code",
   "execution_count": 19,
   "metadata": {},
   "outputs": [
    {
     "data": {
      "image/png": "[encoded data removed]",
      "text/plain": [
       "<Figure size 600x400 with 1 Axes>"
      ]
     },
     "metadata": {},
     "output_type": "display_data"
    }
   ],
   "source": [
    "fig, ax = plt.subplots(dpi=100)\n",
    "ax.plot(x, f(x).detach().numpy())\n",
    "ax.set_xlabel('$x$')\n",
    "ax.set_ylabel('$f(x)$');"
   ]
  },
  {
   "cell_type": "markdown",
   "metadata": {},
   "source": [
    "The class `nn.Sequential` is very convenient, because it allows us to build very deep networks really quickly.\n",
    "Here is a 5-layer network that starts from one input, takes us through 3 layers with 20 neurons each, and ends on a single output:"
   ]
  },
  {
   "cell_type": "code",
   "execution_count": 87,
   "metadata": {},
   "outputs": [],
   "source": [
    "f = nn.Sequential(nn.Linear(1, 20),\n",
    "                  nn.ReLU(),\n",
    "                  nn.Linear(20, 20),\n",
    "                  nn.ReLU(),\n",
    "                  nn.Linear(20, 20),\n",
    "                  nn.ReLU(),\n",
    "                  nn.Linear(20, 20),\n",
    "                  nn.ReLU(),\n",
    "                  nn.Linear(20, 1))"
   ]
  },
  {
   "cell_type": "markdown",
   "metadata": {},
   "source": [
    "Where are the parameters in an object created in this way?\n",
    "Here they are:"
   ]
  },
  {
   "cell_type": "code",
   "execution_count": 88,
   "metadata": {},
   "outputs": [
    {
     "name": "stdout",
     "output_type": "stream",
     "text": [
      "('0.weight', Parameter containing:\n",
      "tensor([[ 0.3035],\n",
      "        [ 0.5930],\n",
      "        [ 0.9063],\n",
      "        [-0.7944],\n",
      "        [-0.0610],\n",
      "        [ 0.2787],\n",
      "        [ 0.1751],\n",
      "        [-0.0431],\n",
      "        [ 0.4629],\n",
      "        [-0.6280],\n",
      "        [-0.3923],\n",
      "        [ 0.7252],\n",
      "        [ 0.0772],\n",
      "        [-0.0883],\n",
      "        [ 0.1975],\n",
      "        [-0.4261],\n",
      "        [ 0.8586],\n",
      "        [ 0.6889],\n",
      "        [-0.5676],\n",
      "        [ 0.6125]], requires_grad=True))\n",
      "('0.bias', Parameter containing:\n",
      "tensor([ 0.2299, -0.4280, -0.7479, -0.9647, -0.1006,  0.5401, -0.5825, -0.0463,\n",
      "         0.2006,  0.0379,  0.6883,  0.5412,  0.6089, -0.6211, -0.7432,  0.8517,\n",
      "        -0.0613,  0.6130, -0.4536, -0.5662], requires_grad=True))\n",
      "('2.weight', Parameter containing:\n",
      "tensor([[ 0.1534, -0.0016,  0.0610, -0.1348,  0.0314, -0.0795,  0.0918,  0.2060,\n",
      "         -0.1986,  0.0733,  0.2074, -0.2046, -0.2092, -0.0370,  0.1118, -0.0611,\n",
      "         -0.1924,  0.0717,  0.0059,  0.0587],\n",
      "        [-0.0519, -0.0580,  0.1242, -0.0063,  0.1547, -0.1757, -0.1501, -0.1815,\n",
      "          0.0824, -0.0878, -0.1655,  0.1379, -0.0997,  0.1338, -0.1861,  0.0878,\n",
      "          0.1096, -0.0469,  0.0700, -0.0899],\n",
      "        [-0.0699, -0.1437, -0.1067,  0.1569, -0.1124,  0.1643,  0.1102, -0.1311,\n",
      "         -0.0365,  0.1768,  0.0106,  0.0047, -0.0260,  0.1269, -0.0626, -0.0009,\n",
      "          0.1170,  0.0970,  0.1105,  0.1859],\n",
      "        [-0.1201,  0.1615, -0.1607,  0.0385,  0.0878, -0.0582,  0.0024, -0.1401,\n",
      "         -0.0696, -0.2099,  0.0999,  0.1674, -0.1123,  0.0903,  0.0128, -0.1838,\n",
      "          0.1204,  0.2152,  0.1086, -0.1815],\n",
      "        [ 0.0775, -0.0532,  0.0986, -0.0305,  0.0889,  0.0597, -0.0595, -0.2083,\n",
      "          0.0857,  0.0804, -0.0220, -0.0373,  0.1974, -0.0826, -0.1096,  0.0257,\n",
      "         -0.0933, -0.1993,  0.0763, -0.1421],\n",
      "        [-0.0157, -0.2037,  0.2073, -0.1678,  0.1005,  0.1313,  0.1598,  0.0632,\n",
      "         -0.1507,  0.0442,  0.1075,  0.1060, -0.0217, -0.1507, -0.0888, -0.0995,\n",
      "         -0.1285, -0.1705,  0.1325,  0.0679],\n",
      "        [-0.0073, -0.2034,  0.0140, -0.0099,  0.1156,  0.0961,  0.0588, -0.1570,\n",
      "          0.1550,  0.1830,  0.0935,  0.0242, -0.2022, -0.0624,  0.1456,  0.1696,\n",
      "          0.0934,  0.1994,  0.0501, -0.2036],\n",
      "        [-0.0087,  0.2100, -0.0858, -0.0073,  0.1585,  0.1959,  0.1294,  0.0355,\n",
      "         -0.1070,  0.1636,  0.1226,  0.0274, -0.1957,  0.1314, -0.1298, -0.2165,\n",
      "          0.1172, -0.2077,  0.2008, -0.1876],\n",
      "        [ 0.1873,  0.1054,  0.0646,  0.0595,  0.0206, -0.1209,  0.1097,  0.0846,\n",
      "          0.0635, -0.1333,  0.0890,  0.1639, -0.0747,  0.1639,  0.0803, -0.1054,\n",
      "          0.0368,  0.0521, -0.1681, -0.0816],\n",
      "        [ 0.0179, -0.0820,  0.1948, -0.1932,  0.1010,  0.1441, -0.0393, -0.0841,\n",
      "          0.1355, -0.2039,  0.1768,  0.1955,  0.1722,  0.1567, -0.0611, -0.0639,\n",
      "         -0.1569,  0.0688,  0.0208, -0.0799],\n",
      "        [-0.1217, -0.0992,  0.1735, -0.1095, -0.2136,  0.0311, -0.1273, -0.1412,\n",
      "         -0.2135, -0.1557,  0.0887, -0.1883, -0.1314,  0.0111,  0.0763,  0.1277,\n",
      "          0.1930,  0.0431, -0.0498, -0.0775],\n",
      "        [-0.0481,  0.0682,  0.0525,  0.0170, -0.0109, -0.0330,  0.0113,  0.2224,\n",
      "          0.1440, -0.0689,  0.1663, -0.0046,  0.1522, -0.1508, -0.0487,  0.0029,\n",
      "         -0.1319,  0.1877,  0.0526,  0.2117],\n",
      "        [ 0.0003, -0.0291, -0.0634,  0.0098, -0.1451, -0.2158,  0.0105, -0.1639,\n",
      "         -0.0890,  0.1759,  0.1158,  0.2072,  0.1906,  0.0742, -0.2213,  0.0264,\n",
      "          0.1891,  0.1092, -0.0132, -0.0525],\n",
      "        [ 0.0993, -0.1129,  0.1439,  0.2108,  0.0503, -0.1381,  0.0494, -0.1808,\n",
      "          0.0454,  0.1678, -0.0563, -0.0753, -0.1085,  0.1529,  0.0057, -0.0470,\n",
      "         -0.1893, -0.1863, -0.1654,  0.1762],\n",
      "        [-0.1645,  0.1928,  0.1090, -0.1355, -0.0805,  0.1160,  0.0596,  0.2029,\n",
      "          0.1602,  0.0892, -0.0145,  0.1544, -0.1495,  0.0909, -0.2006,  0.0718,\n",
      "          0.1229, -0.0644,  0.0951,  0.0606],\n",
      "        [-0.0286,  0.1972,  0.2227,  0.0413, -0.0907,  0.0259,  0.0663,  0.0862,\n",
      "         -0.2004,  0.0973,  0.1005, -0.0406,  0.0138, -0.2104,  0.1085, -0.0185,\n",
      "          0.0424,  0.1096, -0.0489, -0.0719],\n",
      "        [-0.0098,  0.2159,  0.1060,  0.0436,  0.1131,  0.2155, -0.1185, -0.2146,\n",
      "         -0.1445, -0.0294, -0.1354, -0.0099,  0.1442,  0.1345,  0.1790,  0.1139,\n",
      "          0.2213, -0.1289, -0.0563,  0.0561],\n",
      "        [-0.0839, -0.1095, -0.0691, -0.0691,  0.0636, -0.1762, -0.0081, -0.1017,\n",
      "         -0.0992,  0.0225, -0.0969,  0.0883,  0.0782,  0.1479,  0.0748,  0.0276,\n",
      "         -0.0855, -0.0766,  0.1848, -0.0352],\n",
      "        [ 0.1993, -0.0262,  0.0683, -0.0720,  0.1517,  0.0042,  0.1344,  0.1364,\n",
      "          0.1092, -0.2075, -0.1395, -0.0102, -0.0371, -0.1262, -0.1757, -0.0991,\n",
      "         -0.0635,  0.0435,  0.1381,  0.2011],\n",
      "        [-0.1470, -0.0832,  0.0673, -0.0624,  0.0917,  0.0055,  0.0033, -0.1396,\n",
      "         -0.0707, -0.1061,  0.0601,  0.0867, -0.0535, -0.0687,  0.1476,  0.1708,\n",
      "          0.0558,  0.1128,  0.1389,  0.1955]], requires_grad=True))\n",
      "('2.bias', Parameter containing:\n",
      "tensor([ 0.0946, -0.2142,  0.0978, -0.1695, -0.1143,  0.0513, -0.1808,  0.0349,\n",
      "         0.1095,  0.1285, -0.0554, -0.0842,  0.0161, -0.1572, -0.2032, -0.1206,\n",
      "        -0.1003, -0.0179,  0.1559,  0.1295], requires_grad=True))\n",
      "('4.weight', Parameter containing:\n",
      "tensor([[-1.7433e-01, -8.8127e-03, -4.1423e-02, -1.6403e-01,  7.8676e-02,\n",
      "          6.5641e-02, -2.0568e-01, -1.2886e-01,  1.1055e-02, -5.2584e-02,\n",
      "         -7.0137e-02, -7.4443e-02, -1.2086e-01,  1.7297e-01, -4.9608e-02,\n",
      "         -6.4051e-02, -2.9603e-02,  1.7868e-01, -1.0522e-01, -5.2897e-02],\n",
      "        [ 7.8992e-02,  1.5715e-01,  1.7995e-01,  1.6444e-01, -9.8976e-02,\n",
      "          1.1414e-01, -9.1461e-02, -1.4501e-01, -8.1962e-02, -2.1972e-02,\n",
      "          8.9557e-02, -1.1196e-01, -1.5984e-01, -7.5056e-02,  1.7208e-01,\n",
      "          1.2796e-01,  3.7314e-02,  1.8892e-02,  1.7443e-01, -2.0529e-01],\n",
      "        [ 3.6624e-02, -9.0367e-02, -1.5810e-01,  6.3998e-03, -1.5990e-01,\n",
      "         -1.2400e-01,  1.7628e-01, -7.5655e-02,  1.0072e-01,  1.4698e-01,\n",
      "         -2.1364e-01, -1.1145e-01,  3.9567e-02,  1.3477e-01,  3.8812e-03,\n",
      "          5.7422e-02, -9.2256e-02, -1.1114e-01, -1.6064e-01, -2.0684e-01],\n",
      "        [-1.9835e-01,  9.3140e-02,  9.3232e-02,  6.8905e-02,  6.7534e-02,\n",
      "          6.0470e-02, -5.6934e-02,  8.2895e-02, -4.1599e-02, -1.6256e-01,\n",
      "          1.2614e-01,  5.4398e-02, -1.4461e-01, -4.2880e-02, -2.1722e-01,\n",
      "          3.6876e-02,  9.1672e-02, -6.2193e-02, -2.1046e-01, -1.3710e-01],\n",
      "        [ 1.4115e-01,  2.0083e-01, -1.0541e-02, -2.0974e-02, -8.8830e-02,\n",
      "          4.7551e-02,  2.1396e-01, -1.9648e-01,  1.2073e-01, -2.1998e-01,\n",
      "         -2.0939e-01, -1.8903e-01, -8.4480e-02, -6.7034e-02,  1.7912e-01,\n",
      "         -1.5513e-01,  1.0948e-01,  5.7209e-02,  5.5899e-02, -5.4269e-02],\n",
      "        [-4.0189e-02,  1.8772e-01, -2.0443e-01,  1.3354e-01,  1.8900e-01,\n",
      "          1.0508e-01,  2.1869e-01, -1.4161e-01, -1.0321e-01,  6.2820e-04,\n",
      "         -1.3330e-01, -1.2962e-01, -7.4849e-03, -1.0754e-01, -7.7257e-02,\n",
      "         -3.2813e-02,  5.7110e-02, -1.9583e-01, -5.6829e-02,  7.0816e-02],\n",
      "        [ 1.1245e-02, -2.4139e-02, -1.3210e-01, -3.4833e-03,  1.2373e-01,\n",
      "         -9.6353e-02,  1.2326e-01, -2.1040e-01,  1.9539e-01,  7.4512e-02,\n",
      "         -1.6864e-01, -1.1631e-01, -1.0950e-01,  5.6625e-02, -1.4623e-01,\n",
      "          1.6607e-01,  1.3962e-01,  6.6974e-02,  1.8222e-01, -2.1130e-01],\n",
      "        [ 3.7425e-02, -1.8344e-01,  9.0823e-02, -1.1433e-01,  1.3893e-01,\n",
      "          1.7990e-01,  1.9503e-01, -1.5854e-01,  1.3988e-01, -2.6205e-02,\n",
      "         -1.3675e-01, -2.0186e-02, -2.2200e-01, -1.5330e-02, -2.1631e-02,\n",
      "          5.9968e-02, -8.8202e-03, -3.9718e-03, -8.1184e-02,  2.0885e-01],\n",
      "        [-1.3705e-01, -3.1470e-02,  7.1177e-02,  2.1519e-01,  1.6643e-01,\n",
      "          1.1190e-01,  2.8084e-02, -1.0281e-01,  8.8986e-02, -7.1370e-03,\n",
      "         -6.4519e-02, -7.8424e-02, -1.5297e-01,  6.1351e-02, -1.5561e-01,\n",
      "         -1.5334e-01,  1.5445e-01,  2.0016e-01, -7.9116e-02,  1.2894e-01],\n",
      "        [ 9.4823e-02,  2.3443e-02,  6.2261e-03,  1.5522e-01,  1.1848e-01,\n",
      "          2.2138e-01,  8.2423e-02, -4.6145e-02,  1.8132e-03, -1.3159e-01,\n",
      "          8.6285e-02, -1.9701e-01, -5.1818e-02, -1.1989e-01, -1.1816e-01,\n",
      "          2.8613e-02,  2.4463e-02, -9.4056e-02, -6.1582e-02, -2.2402e-02],\n",
      "        [ 2.0913e-01, -1.5723e-01,  5.0875e-03,  1.4868e-01, -1.0367e-01,\n",
      "         -1.9134e-02, -1.8600e-01, -1.6034e-01, -2.9509e-02,  2.0037e-01,\n",
      "          2.0581e-01,  1.3001e-01,  5.4526e-02,  1.5746e-01,  2.1761e-01,\n",
      "          5.6353e-02,  9.2021e-02, -1.2197e-01,  1.2295e-01,  1.9667e-01],\n",
      "        [ 1.5291e-01,  6.0760e-02, -1.2644e-04,  4.1055e-02,  1.6070e-01,\n",
      "         -1.8487e-01, -1.9881e-01, -3.5181e-02, -1.8589e-02,  1.7754e-01,\n",
      "          4.1233e-02, -2.0109e-01, -2.1584e-01,  3.1834e-02, -2.1950e-01,\n",
      "          1.9922e-01,  1.8075e-01,  2.0531e-01,  2.1898e-01, -1.3177e-01],\n",
      "        [ 1.9251e-01,  4.6496e-02,  2.2271e-01, -1.4804e-01,  1.0375e-01,\n",
      "         -1.6747e-01,  2.5523e-02, -4.0781e-02,  2.7296e-02, -1.2842e-01,\n",
      "         -7.2343e-02,  2.1822e-01, -4.6426e-02, -1.6618e-01,  2.1455e-01,\n",
      "         -2.0296e-01, -1.2138e-01,  1.1684e-01,  2.2944e-02,  1.1833e-03],\n",
      "        [ 1.6627e-01, -1.9980e-02,  2.0967e-01, -2.1633e-01, -1.9321e-01,\n",
      "          1.2112e-01, -1.7589e-01, -1.6205e-01,  1.1684e-01, -1.0844e-01,\n",
      "          1.7430e-01, -1.1918e-01,  1.4966e-01,  1.6052e-01,  1.3959e-01,\n",
      "          1.7743e-01, -3.2168e-02,  1.3107e-02,  7.7647e-02, -2.1154e-01],\n",
      "        [-1.3777e-01, -2.1370e-01, -1.4529e-01,  4.5908e-02,  2.8710e-02,\n",
      "          2.0795e-01, -1.5118e-01,  1.4213e-01, -8.0419e-02,  1.0243e-01,\n",
      "         -1.9065e-02, -1.6293e-01,  6.3144e-02,  1.8200e-01,  5.4746e-03,\n",
      "          4.2451e-02,  1.4950e-02,  1.1313e-01,  1.6932e-01, -1.3246e-01],\n",
      "        [-2.1021e-01, -1.2228e-01, -1.6674e-01,  2.2139e-01, -3.1626e-02,\n",
      "          1.7684e-02,  1.5882e-01, -3.5633e-02,  1.1470e-01, -6.7558e-02,\n",
      "          4.2520e-02, -7.6188e-03, -8.1187e-02, -2.7525e-02,  1.8803e-02,\n",
      "          2.0739e-01,  5.7120e-02,  2.0034e-01, -2.2245e-02,  5.7565e-02],\n",
      "        [ 6.0307e-02,  6.5549e-02,  9.4631e-02,  1.1500e-01, -1.8705e-01,\n",
      "         -7.4778e-03, -1.4650e-01,  5.8004e-02, -1.1150e-01, -1.7159e-01,\n",
      "         -9.7614e-02,  1.6011e-01, -1.0424e-01, -1.8741e-01, -1.8190e-01,\n",
      "          2.0827e-01,  2.1033e-01, -8.5800e-02,  1.9749e-01, -7.0707e-02],\n",
      "        [-1.1440e-02, -1.6563e-01,  1.9354e-01, -1.2532e-03, -1.2983e-01,\n",
      "         -1.4974e-01, -3.3271e-02, -9.7677e-02,  6.0669e-02,  6.9664e-02,\n",
      "         -2.0899e-01,  5.3410e-02,  2.2078e-01, -9.1010e-02, -2.0351e-01,\n",
      "          1.5624e-01,  6.9074e-02,  9.0491e-02,  8.5241e-02,  1.6466e-01],\n",
      "        [-7.8743e-02,  8.2673e-02,  1.5168e-01, -5.8203e-02,  8.4810e-02,\n",
      "         -1.1435e-01, -8.2407e-02, -2.1967e-01,  1.2313e-01, -7.1291e-02,\n",
      "          1.8515e-01, -1.2538e-01,  3.7795e-02, -1.8559e-01,  1.8195e-01,\n",
      "          1.0873e-04,  1.4767e-01, -1.8281e-01,  1.2300e-02,  5.3682e-02],\n",
      "        [-8.7983e-02,  8.8042e-02,  1.9499e-01, -1.0554e-01, -1.3003e-02,\n",
      "          1.2088e-01,  2.1623e-01, -9.1931e-02,  1.0471e-01, -1.2826e-01,\n",
      "         -5.9447e-02,  2.4359e-02, -1.8455e-01, -9.6487e-02, -1.1437e-01,\n",
      "         -1.0355e-01,  6.1871e-02, -1.6662e-01, -4.5687e-03, -1.6780e-02]],\n",
      "       requires_grad=True))\n",
      "('4.bias', Parameter containing:\n",
      "tensor([ 0.1801, -0.1202, -0.0014, -0.0690,  0.1283, -0.0254,  0.1755,  0.1425,\n",
      "         0.1413, -0.0993,  0.1929,  0.0302,  0.2210, -0.2087, -0.0662,  0.0370,\n",
      "        -0.2160, -0.1411,  0.0171,  0.1392], requires_grad=True))\n",
      "('6.weight', Parameter containing:\n",
      "tensor([[-0.0535,  0.0591,  0.0683,  0.0082, -0.1290, -0.1813, -0.1183,  0.1800,\n",
      "         -0.1894,  0.0896,  0.0119, -0.0009, -0.1385, -0.0191,  0.0149, -0.0981,\n",
      "          0.0736, -0.0745, -0.0858,  0.1663],\n",
      "        [-0.1921,  0.2031, -0.0315, -0.1055, -0.0259,  0.1832, -0.1288,  0.0504,\n",
      "          0.0936,  0.1549,  0.1816, -0.1203,  0.0811,  0.0839,  0.0491, -0.1636,\n",
      "         -0.0694, -0.0148,  0.0126,  0.0381],\n",
      "        [-0.1362, -0.1446,  0.1864, -0.1892, -0.0861,  0.1056,  0.1440, -0.0792,\n",
      "          0.0060, -0.1488, -0.0119,  0.1728, -0.1859,  0.1232,  0.1640,  0.1344,\n",
      "         -0.0631, -0.1206, -0.0669,  0.2173],\n",
      "        [ 0.1415, -0.2045,  0.0964, -0.0400, -0.0101,  0.0464,  0.1293,  0.1625,\n",
      "          0.0722, -0.2050, -0.2111, -0.2112,  0.1434,  0.0359, -0.1886,  0.0289,\n",
      "          0.1719, -0.0282,  0.1923,  0.0096],\n",
      "        [-0.0677, -0.1438, -0.1540, -0.0132,  0.1904, -0.0388,  0.1679, -0.1454,\n",
      "          0.2051, -0.0792, -0.0701,  0.1233,  0.1672,  0.0437,  0.0916, -0.0121,\n",
      "          0.1224,  0.0222, -0.1196, -0.0817],\n",
      "        [ 0.0869,  0.0487, -0.1904, -0.1156, -0.0597, -0.0649, -0.0354, -0.2156,\n",
      "          0.0479, -0.2107, -0.0361, -0.1376,  0.1461,  0.1768,  0.1716,  0.2206,\n",
      "          0.0158, -0.2017, -0.1437, -0.1393],\n",
      "        [-0.2182,  0.1250,  0.0317, -0.1904,  0.1119, -0.0422,  0.0508,  0.1490,\n",
      "         -0.1709,  0.2126,  0.0858, -0.1660,  0.2164,  0.1900,  0.0613, -0.0984,\n",
      "         -0.1160, -0.1832, -0.1093, -0.0213],\n",
      "        [ 0.0405, -0.2069,  0.0606,  0.1671,  0.1201,  0.0095, -0.0839,  0.2081,\n",
      "         -0.0134, -0.2154,  0.1413, -0.1505,  0.0359,  0.1891,  0.1740,  0.1370,\n",
      "          0.1038, -0.0668,  0.0843, -0.1292],\n",
      "        [ 0.2121, -0.1336,  0.0384,  0.0304,  0.2230,  0.1326,  0.0054,  0.1153,\n",
      "         -0.0795, -0.0114, -0.1288,  0.1516,  0.0329, -0.0807,  0.1403,  0.0061,\n",
      "          0.1671,  0.1212,  0.0916, -0.1252],\n",
      "        [ 0.1110, -0.0352, -0.1007,  0.1321, -0.0627, -0.1323,  0.0351, -0.0067,\n",
      "          0.0014,  0.1733, -0.0287,  0.1189, -0.1539, -0.0984,  0.1198,  0.0834,\n",
      "          0.0663,  0.1947,  0.1563, -0.1687],\n",
      "        [ 0.0113,  0.2191,  0.2037, -0.0034, -0.1224, -0.1172,  0.0797,  0.0692,\n",
      "         -0.0407,  0.1490, -0.1526,  0.1798, -0.2198, -0.0298, -0.0097, -0.0553,\n",
      "         -0.1654, -0.1610, -0.1690,  0.1008],\n",
      "        [-0.1998, -0.1565,  0.1191,  0.1176,  0.0762,  0.1026,  0.1424, -0.0901,\n",
      "          0.0208, -0.1549, -0.1781, -0.0666, -0.0202, -0.1469, -0.0261,  0.0752,\n",
      "         -0.0048,  0.1989,  0.0040, -0.1412],\n",
      "        [-0.0668, -0.1090,  0.1227, -0.0306, -0.0168, -0.0454, -0.0292, -0.0691,\n",
      "         -0.1861, -0.0065,  0.0899, -0.2041,  0.0840, -0.1314,  0.1657,  0.1629,\n",
      "          0.2115,  0.1276,  0.1481,  0.0826],\n",
      "        [-0.0948, -0.0133, -0.0198,  0.0080, -0.1411, -0.1505, -0.1871, -0.0492,\n",
      "         -0.1525, -0.1764,  0.1244,  0.2137,  0.2021,  0.0103, -0.0680,  0.1123,\n",
      "          0.1024,  0.0625, -0.0983,  0.0469],\n",
      "        [ 0.1134, -0.0496, -0.0561, -0.1324, -0.0640,  0.0065, -0.1380,  0.1785,\n",
      "         -0.1525, -0.0161,  0.1308,  0.0226, -0.1141,  0.1712,  0.2074, -0.1429,\n",
      "         -0.2164,  0.1007, -0.0656, -0.1177],\n",
      "        [-0.0429,  0.1881,  0.1025, -0.0753, -0.0193, -0.0305,  0.1839,  0.0626,\n",
      "         -0.0114, -0.0824, -0.1287,  0.1350, -0.1023, -0.1072, -0.0848,  0.1481,\n",
      "         -0.0991, -0.1762,  0.0719, -0.0416],\n",
      "        [ 0.1980,  0.0427,  0.1969,  0.2163,  0.1360,  0.0452,  0.0382,  0.0125,\n",
      "         -0.1438, -0.0060, -0.0585, -0.0524, -0.0998, -0.1740, -0.1322,  0.1097,\n",
      "         -0.0868,  0.1234,  0.0920, -0.1666],\n",
      "        [-0.2066, -0.2213, -0.0178,  0.1312, -0.1574, -0.1515, -0.1192,  0.1746,\n",
      "         -0.1758, -0.0972, -0.2091, -0.1685, -0.2000,  0.1780, -0.1641,  0.0980,\n",
      "         -0.1800,  0.2207, -0.1566, -0.0441],\n",
      "        [ 0.1712,  0.0806, -0.0812, -0.1178,  0.1362, -0.1009, -0.0806,  0.0361,\n",
      "          0.0087, -0.0573, -0.0358,  0.0010,  0.0968, -0.1539, -0.2096,  0.1856,\n",
      "          0.0412, -0.0965, -0.1399, -0.1174],\n",
      "        [-0.1216, -0.0408,  0.1634,  0.1296,  0.1857, -0.0825,  0.0363, -0.0463,\n",
      "          0.0457, -0.0214,  0.0781,  0.1397, -0.1942,  0.0259,  0.1694,  0.0152,\n",
      "          0.1996, -0.1346,  0.0701, -0.1558]], requires_grad=True))\n",
      "('6.bias', Parameter containing:\n",
      "tensor([ 0.0267,  0.1385,  0.2055,  0.0594,  0.1836,  0.1972, -0.0661, -0.0021,\n",
      "         0.1352,  0.0464, -0.0242,  0.1339, -0.0378,  0.1810,  0.0884,  0.2076,\n",
      "        -0.0600, -0.0992, -0.1716, -0.0225], requires_grad=True))\n",
      "('8.weight', Parameter containing:\n",
      "tensor([[-0.0532, -0.1369, -0.0441, -0.1689, -0.0140, -0.1215,  0.1195,  0.1320,\n",
      "         -0.1153,  0.0099,  0.0335, -0.1681, -0.0812, -0.1237,  0.0381,  0.0556,\n",
      "         -0.0459,  0.0607,  0.0215,  0.2042]], requires_grad=True))\n",
      "('8.bias', Parameter containing:\n",
      "tensor([-0.0299], requires_grad=True))\n"
     ]
    }
   ],
   "source": [
    "for theta in f.named_parameters():\n",
    "    print(theta)"
   ]
  },
  {
   "cell_type": "markdown",
   "metadata": {},
   "source": [
    "And that's why we love PyTorch. Because it does all the dirty work for us.\n",
    "Imagine having to keep track of all these parameters by hand.\n",
    "\n",
    "For those of you who want to know what is going on inside `nn.Linear`, just note that it is a special case of a PyTorch neural network module, see [nn.Module](https://pytorch.org/docs/stable/generated/torch.nn.Module.html).\n",
    "The latter is what you would directly inherit when writing your own class for a non-standard neural network.\n",
    "We are not going to cover it in this class, but you can find plenty of examples [here](https://pytorch.org/tutorials/beginner/pytorch_with_examples.html)."
   ]
  },
  {
   "cell_type": "markdown",
   "metadata": {},
   "source": [
    "## Making a loss function\n",
    "\n",
    "Let's now make the loss function that we want to minimize.\n",
    "It needs to be a `PyTorch` function as well.\n",
    "For regression problems, we can think of the loss as a function of the model predictions and the observed data.\n",
    "That is the depends on the parameters comes through the predictions.\n",
    "Let's write down the mean square error (MSE) loss in this form.\n",
    "It is:\n",
    "$$\n",
    "L_{\\text{MSE}}(\\theta) = L_{\\text{MSE}}(y_{1:n}, f(x_{1:n};\\theta)) = \\frac{1}{n}\\sum_{i=1}^n\\left[y_i-f(x_i;\\theta)\\right]^2,\n",
    "$$\n",
    "where $x_{1:n}$ are the observed inputs (features), $y_{1:n}$ are the observed outputs (targets), and $f(x_{1:n};\\theta)$ contains the model predictions on the observed inputs.\n",
    "\n",
    "You can implement the MSE loss like this:"
   ]
  },
  {
   "cell_type": "code",
   "execution_count": 89,
   "metadata": {},
   "outputs": [],
   "source": [
    "mse_loss_ours = lambda y, f: torch.mean((y - f) ** 2)"
   ]
  },
  {
   "cell_type": "markdown",
   "metadata": {},
   "source": [
    "Or we can use built-in PyTorch functionality:"
   ]
  },
  {
   "cell_type": "code",
   "execution_count": 90,
   "metadata": {},
   "outputs": [],
   "source": [
    "mse_loss = nn.MSELoss()"
   ]
  },
  {
   "cell_type": "markdown",
   "metadata": {},
   "source": [
    "Let's evaluate it for some random data:"
   ]
  },
  {
   "cell_type": "code",
   "execution_count": 136,
   "metadata": {},
   "outputs": [
    {
     "data": {
      "image/png": "[encoded data removed]",
      "text/plain": [
       "<Figure size 600x400 with 1 Axes>"
      ]
     },
     "metadata": {},
     "output_type": "display_data"
    }
   ],
   "source": [
    "# The number of fake observations\n",
    "n = 20\n",
    "# Some fake observed features\n",
    "x_fake = torch.rand(n, 1)\n",
    "# Some fake observed targets\n",
    "y_fake = 4 * x_fake ** 2 - 5 * x_fake ** 3 + 0.1 * torch.rand(n, 1)\n",
    "fig, ax = plt.subplots(dpi=100)\n",
    "ax.plot(x_fake, y_fake, 'x');"
   ]
  },
  {
   "cell_type": "markdown",
   "metadata": {},
   "source": [
    "And here is how to calculate the loss (for the random parameters that our net started with):"
   ]
  },
  {
   "cell_type": "code",
   "execution_count": 137,
   "metadata": {},
   "outputs": [
    {
     "name": "stdout",
     "output_type": "stream",
     "text": [
      "tensor(0.0037, grad_fn=<MeanBackward0>)\n",
      "tensor(0.0037, grad_fn=<MeanBackward0>)\n"
     ]
    }
   ],
   "source": [
    "# Predict with the net:\n",
    "y_pred = f(x_fake)\n",
    "# Evaluate the loss\n",
    "our_loss = mse_loss_ours(y_fake, y_pred)\n",
    "built_in_loss = mse_loss(y_fake, y_pred)\n",
    "print(our_loss)\n",
    "print(built_in_loss)"
   ]
  },
  {
   "cell_type": "markdown",
   "metadata": {},
   "source": [
    "Now, let's just minimize the MSE loss for these fake data and see what kind of fit we are going to get.\n",
    "Here is how you do this in PyTorch.\n",
    "Since I don't have a lot of data, I will just use gradient descent - no randomly subsampling the data.\n",
    "I will show you how you can use stochastic gradient descent in the next example."
   ]
  },
  {
   "cell_type": "code",
   "execution_count": 138,
   "metadata": {},
   "outputs": [
    {
     "name": "stdout",
     "output_type": "stream",
     "text": [
      "it = 0: loss = 0.17\n",
      "it = 1: loss = 0.16\n",
      "it = 2: loss = 0.16\n",
      "it = 3: loss = 0.16\n",
      "it = 4: loss = 0.16\n",
      "it = 5: loss = 0.16\n",
      "it = 6: loss = 0.16\n",
      "it = 7: loss = 0.16\n",
      "it = 8: loss = 0.16\n",
      "it = 9: loss = 0.16\n",
      "it = 10: loss = 0.16\n",
      "it = 11: loss = 0.16\n",
      "it = 12: loss = 0.16\n",
      "it = 13: loss = 0.16\n",
      "it = 14: loss = 0.15\n",
      "it = 15: loss = 0.15\n",
      "it = 16: loss = 0.15\n",
      "it = 17: loss = 0.15\n",
      "it = 18: loss = 0.15\n",
      "it = 19: loss = 0.15\n",
      "it = 20: loss = 0.15\n",
      "it = 21: loss = 0.15\n",
      "it = 22: loss = 0.15\n",
      "it = 23: loss = 0.15\n",
      "it = 24: loss = 0.15\n",
      "it = 25: loss = 0.15\n",
      "it = 26: loss = 0.15\n",
      "it = 27: loss = 0.15\n",
      "it = 28: loss = 0.15\n",
      "it = 29: loss = 0.15\n",
      "it = 30: loss = 0.15\n",
      "it = 31: loss = 0.15\n",
      "it = 32: loss = 0.15\n",
      "it = 33: loss = 0.15\n",
      "it = 34: loss = 0.15\n",
      "it = 35: loss = 0.15\n",
      "it = 36: loss = 0.15\n",
      "it = 37: loss = 0.15\n",
      "it = 38: loss = 0.15\n",
      "it = 39: loss = 0.15\n",
      "it = 40: loss = 0.15\n",
      "it = 41: loss = 0.15\n",
      "it = 42: loss = 0.15\n",
      "it = 43: loss = 0.15\n",
      "it = 44: loss = 0.15\n",
      "it = 45: loss = 0.15\n",
      "it = 46: loss = 0.15\n",
      "it = 47: loss = 0.15\n",
      "it = 48: loss = 0.15\n",
      "it = 49: loss = 0.15\n",
      "it = 50: loss = 0.15\n",
      "it = 51: loss = 0.15\n",
      "it = 52: loss = 0.15\n",
      "it = 53: loss = 0.15\n",
      "it = 54: loss = 0.15\n",
      "it = 55: loss = 0.15\n",
      "it = 56: loss = 0.15\n",
      "it = 57: loss = 0.15\n",
      "it = 58: loss = 0.15\n",
      "it = 59: loss = 0.15\n",
      "it = 60: loss = 0.15\n",
      "it = 61: loss = 0.15\n",
      "it = 62: loss = 0.15\n",
      "it = 63: loss = 0.15\n",
      "it = 64: loss = 0.15\n",
      "it = 65: loss = 0.15\n",
      "it = 66: loss = 0.15\n",
      "it = 67: loss = 0.15\n",
      "it = 68: loss = 0.15\n",
      "it = 69: loss = 0.15\n",
      "it = 70: loss = 0.15\n",
      "it = 71: loss = 0.15\n",
      "it = 72: loss = 0.15\n",
      "it = 73: loss = 0.15\n",
      "it = 74: loss = 0.15\n",
      "it = 75: loss = 0.15\n",
      "it = 76: loss = 0.15\n",
      "it = 77: loss = 0.15\n",
      "it = 78: loss = 0.15\n",
      "it = 79: loss = 0.15\n",
      "it = 80: loss = 0.15\n",
      "it = 81: loss = 0.15\n",
      "it = 82: loss = 0.15\n",
      "it = 83: loss = 0.15\n",
      "it = 84: loss = 0.15\n",
      "it = 85: loss = 0.15\n",
      "it = 86: loss = 0.15\n",
      "it = 87: loss = 0.15\n",
      "it = 88: loss = 0.15\n",
      "it = 89: loss = 0.15\n",
      "it = 90: loss = 0.15\n",
      "it = 91: loss = 0.15\n",
      "it = 92: loss = 0.15\n",
      "it = 93: loss = 0.15\n",
      "it = 94: loss = 0.15\n",
      "it = 95: loss = 0.15\n",
      "it = 96: loss = 0.15\n",
      "it = 97: loss = 0.15\n",
      "it = 98: loss = 0.15\n",
      "it = 99: loss = 0.15\n"
     ]
    }
   ],
   "source": [
    "# Reinitialize the net:\n",
    "f = nn.Sequential(nn.Linear(1, 20),\n",
    "                  nn.ReLU(),\n",
    "                  nn.Linear(20, 20),\n",
    "                  nn.ReLU(),\n",
    "                  nn.Linear(20, 20),\n",
    "                  nn.ReLU(),\n",
    "                  nn.Linear(20, 20),\n",
    "                  nn.ReLU(),\n",
    "                  nn.Linear(20, 1))\n",
    "\n",
    "# Initialize the optimizer - Notice that it needs to know about the \n",
    "# parameters it is optimizing\n",
    "optimizer = torch.optim.SGD(f.parameters(), lr=0.01) # lr is the learning rate\n",
    "# Iterate the optimizer. Let's just do 10 iterations.\n",
    "for i in range(100):\n",
    "    # This is essential for the optimizer to keep\n",
    "    # track of the gradients correctly\n",
    "    # It is using some buffers internally that need to\n",
    "    # be manually zeroed on each iteration.\n",
    "    # This is because it doesn't know when you are done with the\n",
    "    # calculation of the loss\n",
    "    optimizer.zero_grad()\n",
    "    # Make predictions\n",
    "    y_pred = f(x_fake)\n",
    "    # Evaluate the loss - That's what you are minimizing\n",
    "    loss = mse_loss(y_fake, y_pred)\n",
    "    # Evaluate the derivative of the loss with respect to\n",
    "    # all parameters - It knows how to do it because of\n",
    "    # PyTorch magick\n",
    "    loss.backward()\n",
    "    # And now you are ready to make a step\n",
    "    optimizer.step()\n",
    "    # Print the loss every one hundend iterations:\n",
    "    print('it = {0:d}: loss = {1:1.2f}'.format(i, loss.item()))"
   ]
  },
  {
   "cell_type": "markdown",
   "metadata": {},
   "source": [
    "Let's plot the predictions of this model on the fake data:"
   ]
  },
  {
   "cell_type": "code",
   "execution_count": 139,
   "metadata": {},
   "outputs": [
    {
     "data": {
      "image/png": "[encoded data removed]",
      "text/plain": [
       "<Figure size 600x400 with 1 Axes>"
      ]
     },
     "metadata": {},
     "output_type": "display_data"
    }
   ],
   "source": [
    "fig, ax = plt.subplots(dpi=100)\n",
    "ax.plot(x_fake, y_fake, 'x');\n",
    "xx = torch.linspace(x_fake.min(), x_fake.max(), 100)[:, None]\n",
    "yy = f(xx).detach().numpy()\n",
    "ax.plot(xx, yy);"
   ]
  },
  {
   "cell_type": "markdown",
   "metadata": {},
   "source": [
    "It fitted a streight line.\n",
    "This doesn't look very right, but it is what it is.\n",
    "This is the phenomenon we described in class.\n",
    "Unless you do stochastic optimization, i.e., subsampling the data, this may find a bad local minimum of the loss.\n",
    "\n",
    "Let's redo this thing with stochastic optimization.\n",
    "For stochastic optimization we need to subsample the data during each iteration.\n",
    "We can either do this manually or using PyTorch functionality.\n",
    "First, let's do it manually."
   ]
  },
  {
   "cell_type": "code",
   "execution_count": 143,
   "metadata": {},
   "outputs": [
    {
     "name": "stdout",
     "output_type": "stream",
     "text": [
      "it = 0: loss = 2.01e-01\n",
      "it = 1000: loss = 2.03e-01\n",
      "it = 2000: loss = 3.21e-02\n",
      "it = 3000: loss = 3.07e-02\n",
      "it = 4000: loss = 6.17e-03\n",
      "it = 5000: loss = 4.43e-03\n",
      "it = 6000: loss = 1.12e-03\n",
      "it = 7000: loss = 1.46e-03\n",
      "it = 8000: loss = 5.51e-04\n",
      "it = 9000: loss = 3.87e-04\n",
      "it = 10000: loss = 3.23e-04\n",
      "it = 11000: loss = 9.46e-04\n",
      "it = 12000: loss = 9.60e-04\n",
      "it = 13000: loss = 7.89e-04\n",
      "it = 14000: loss = 5.03e-04\n",
      "it = 15000: loss = 5.02e-04\n",
      "it = 16000: loss = 6.00e-04\n",
      "it = 17000: loss = 7.69e-04\n",
      "it = 18000: loss = 7.98e-04\n",
      "it = 19000: loss = 7.66e-04\n",
      "it = 20000: loss = 8.39e-04\n",
      "it = 21000: loss = 6.71e-04\n",
      "it = 22000: loss = 7.49e-04\n",
      "it = 23000: loss = 4.25e-04\n",
      "it = 24000: loss = 3.92e-04\n",
      "it = 25000: loss = 4.11e-04\n",
      "it = 26000: loss = 3.83e-04\n",
      "it = 27000: loss = 4.30e-04\n",
      "it = 28000: loss = 9.15e-04\n",
      "it = 29000: loss = 5.98e-04\n",
      "it = 30000: loss = 4.01e-04\n",
      "it = 31000: loss = 9.22e-04\n",
      "it = 32000: loss = 5.31e-04\n",
      "it = 33000: loss = 8.77e-04\n",
      "it = 34000: loss = 6.57e-04\n",
      "it = 35000: loss = 2.26e-04\n",
      "it = 36000: loss = 3.86e-04\n",
      "it = 37000: loss = 2.06e-04\n",
      "it = 38000: loss = 2.19e-04\n",
      "it = 39000: loss = 8.28e-04\n",
      "it = 40000: loss = 4.83e-04\n",
      "it = 41000: loss = 3.43e-04\n",
      "it = 42000: loss = 5.20e-04\n",
      "it = 43000: loss = 8.10e-04\n",
      "it = 44000: loss = 2.30e-04\n",
      "it = 45000: loss = 4.33e-04\n",
      "it = 46000: loss = 3.46e-04\n",
      "it = 47000: loss = 8.32e-04\n",
      "it = 48000: loss = 1.09e-03\n",
      "it = 49000: loss = 1.05e-03\n"
     ]
    }
   ],
   "source": [
    "# Pick a subsampling batch size\n",
    "m = 5\n",
    "\n",
    "# Reinitialize the net:\n",
    "f = nn.Sequential(nn.Linear(1, 20),\n",
    "                  nn.ReLU(),\n",
    "                  nn.Linear(20, 20),\n",
    "                  nn.ReLU(),\n",
    "                  nn.Linear(20, 20),\n",
    "                  nn.ReLU(),\n",
    "                  nn.Linear(20, 20),\n",
    "                  nn.ReLU(),\n",
    "                  nn.Linear(20, 1))\n",
    "\n",
    "# Reinitialize the optimizer\n",
    "optimizer = torch.optim.SGD(f.parameters(), lr=0.01)\n",
    "\n",
    "# Iterate the optimizer. Let's just do 10 iterations.\n",
    "for i in range(50000):\n",
    "    # Zero out the gradient buffers\n",
    "    optimizer.zero_grad()\n",
    "    # Sample m observation indices at random\n",
    "    idx = np.random.randint(0, n, m)\n",
    "    # Here is the subsample of the data\n",
    "    x_batch = x_fake[idx]\n",
    "    y_batch = y_fake[idx]\n",
    "    # Make predictions\n",
    "    y_pred = f(x_batch)\n",
    "    # Evaluate the loss - That's what you are minimizing\n",
    "    loss = mse_loss(y_batch, y_pred)\n",
    "    # Evaluate the derivative of the loss with respect to\n",
    "    # all parameters - It knows how to do it because of\n",
    "    # PyTorch magick\n",
    "    loss.backward()\n",
    "    # And now you are ready to make a step\n",
    "    optimizer.step()\n",
    "    # Print the loss every one hundend iterations:\n",
    "    if i % 1000 == 0:\n",
    "        print('it = {0:d}: loss = {1:1.2e}'.format(i, loss.item()))"
   ]
  },
  {
   "cell_type": "code",
   "execution_count": 144,
   "metadata": {},
   "outputs": [
    {
     "data": {
      "image/png": "[encoded data removed]",
      "text/plain": [
       "<Figure size 600x400 with 1 Axes>"
      ]
     },
     "metadata": {},
     "output_type": "display_data"
    }
   ],
   "source": [
    "fig, ax = plt.subplots(dpi=100)\n",
    "ax.plot(x_fake, y_fake, 'x');\n",
    "xx = torch.linspace(x_fake.min(), x_fake.max(), 100)[:, None]\n",
    "yy = f(xx).detach().numpy()\n",
    "ax.plot(xx, yy);"
   ]
  },
  {
   "cell_type": "markdown",
   "metadata": {},
   "source": [
    "This is by no means the only way to do it.\n",
    "But it is one of the easiest ways.\n",
    "Just pay attention to the fact that the model `f` is hidden inside the loss.\n",
    "\n",
    "Let's now do an example using the motorcyle data."
   ]
  },
  {
   "cell_type": "code",
   "execution_count": 112,
   "metadata": {
    "scrolled": true
   },
   "outputs": [
    {
     "data": {
      "image/png": "[encoded data removed]",
      "text/plain": [
       "<Figure size 576x360 with 1 Axes>"
      ]
     },
     "metadata": {},
     "output_type": "display_data"
    }
   ],
   "source": [
    "data = np.loadtxt('motor.dat')\n",
    "x = torch.tensor(data[:, 0][:, None])\n",
    "y = torch.tensor(data[:, 1][:, None])\n",
    "n = len(x)\n",
    "fig, ax = plt.subplots(figsize=(8, 5))\n",
    "ax.plot(x, y, 'x', markeredgewidth=2)\n",
    "ax.set_xlabel('$x$')\n",
    "ax.set_ylabel('$y$');"
   ]
  },
  {
   "cell_type": "code",
   "execution_count": 113,
   "metadata": {},
   "outputs": [
    {
     "ename": "NameError",
     "evalue": "name 'train_test_split' is not defined",
     "output_type": "error",
     "traceback": [
      "\u001b[0;31m---------------------------------------------------------------------------\u001b[0m",
      "\u001b[0;31mNameError\u001b[0m                                 Traceback (most recent call last)",
      "\u001b[0;32m<ipython-input-113-e523a6ea8acf>\u001b[0m in \u001b[0;36m<module>\u001b[0;34m\u001b[0m\n\u001b[1;32m      1\u001b[0m \u001b[0mNtrain\u001b[0m \u001b[0;34m=\u001b[0m \u001b[0mint\u001b[0m\u001b[0;34m(\u001b[0m\u001b[0;36m0.7\u001b[0m\u001b[0;34m*\u001b[0m\u001b[0mN\u001b[0m\u001b[0;34m)\u001b[0m\u001b[0;34m\u001b[0m\u001b[0;34m\u001b[0m\u001b[0m\n\u001b[0;32m----> 2\u001b[0;31m \u001b[0mXtrain\u001b[0m\u001b[0;34m,\u001b[0m \u001b[0mXval\u001b[0m\u001b[0;34m,\u001b[0m \u001b[0mYtrain\u001b[0m\u001b[0;34m,\u001b[0m \u001b[0mYval\u001b[0m \u001b[0;34m=\u001b[0m \u001b[0mtrain_test_split\u001b[0m\u001b[0;34m(\u001b[0m\u001b[0mX\u001b[0m\u001b[0;34m,\u001b[0m \u001b[0mY\u001b[0m\u001b[0;34m,\u001b[0m \u001b[0mtrain_size\u001b[0m\u001b[0;34m=\u001b[0m\u001b[0mNtrain\u001b[0m\u001b[0;34m)\u001b[0m\u001b[0;34m\u001b[0m\u001b[0;34m\u001b[0m\u001b[0m\n\u001b[0m\u001b[1;32m      3\u001b[0m \u001b[0;34m\u001b[0m\u001b[0m\n\u001b[1;32m      4\u001b[0m \u001b[0;31m# scale the data\u001b[0m\u001b[0;34m\u001b[0m\u001b[0;34m\u001b[0m\u001b[0;34m\u001b[0m\u001b[0m\n\u001b[1;32m      5\u001b[0m \u001b[0mxscaler\u001b[0m \u001b[0;34m=\u001b[0m \u001b[0mStandardScaler\u001b[0m\u001b[0;34m(\u001b[0m\u001b[0;34m)\u001b[0m\u001b[0;34m\u001b[0m\u001b[0;34m\u001b[0m\u001b[0m\n",
      "\u001b[0;31mNameError\u001b[0m: name 'train_test_split' is not defined"
     ]
    }
   ],
   "source": [
    "Ntrain = int(0.7*N)\n",
    "Xtrain, Xval, Ytrain, Yval = train_test_split(X, Y, train_size=Ntrain)\n",
    "\n",
    "# scale the data\n",
    "xscaler = StandardScaler()\n",
    "yscaler = StandardScaler()\n",
    "Xtrain=xscaler.fit_transform(Xtrain)\n",
    "Ytrain=yscaler.fit_transform(Ytrain)\n",
    "Xval, Yval = xscaler.transform(Xval), yscaler.transform(Yval)"
   ]
  },
  {
   "cell_type": "code",
   "execution_count": 114,
   "metadata": {
    "scrolled": true
   },
   "outputs": [
    {
     "ename": "NameError",
     "evalue": "name 'NeuralNetwork' is not defined",
     "output_type": "error",
     "traceback": [
      "\u001b[0;31m---------------------------------------------------------------------------\u001b[0m",
      "\u001b[0;31mNameError\u001b[0m                                 Traceback (most recent call last)",
      "\u001b[0;32m<ipython-input-114-ecf4c7303210>\u001b[0m in \u001b[0;36m<module>\u001b[0;34m\u001b[0m\n\u001b[1;32m      2\u001b[0m \u001b[0mlayersizes\u001b[0m \u001b[0;34m=\u001b[0m \u001b[0;34m[\u001b[0m\u001b[0;36m1\u001b[0m\u001b[0;34m,\u001b[0m \u001b[0;36m20\u001b[0m\u001b[0;34m,\u001b[0m \u001b[0;36m20\u001b[0m\u001b[0;34m,\u001b[0m \u001b[0;36m1\u001b[0m\u001b[0;34m]\u001b[0m\u001b[0;34m\u001b[0m\u001b[0;34m\u001b[0m\u001b[0m\n\u001b[1;32m      3\u001b[0m \u001b[0mactivation\u001b[0m \u001b[0;34m=\u001b[0m \u001b[0mtorch\u001b[0m\u001b[0;34m.\u001b[0m\u001b[0mtanh\u001b[0m\u001b[0;34m\u001b[0m\u001b[0;34m\u001b[0m\u001b[0m\n\u001b[0;32m----> 4\u001b[0;31m net = NeuralNetwork(layersizes=layersizes, \n\u001b[0m\u001b[1;32m      5\u001b[0m                     activation=activation)\n\u001b[1;32m      6\u001b[0m \u001b[0;34m\u001b[0m\u001b[0m\n",
      "\u001b[0;31mNameError\u001b[0m: name 'NeuralNetwork' is not defined"
     ]
    }
   ],
   "source": [
    "# instantiate the network \n",
    "layersizes = [1, 20, 20, 1]\n",
    "activation = torch.tanh\n",
    "net = NeuralNetwork(layersizes=layersizes, \n",
    "                    activation=activation)\n",
    "\n",
    "# define a misfit function\n",
    "mse = nn.MSELoss()\n",
    "\n",
    "## L2 regularization\n",
    "lmbda = 1e-3 # reg. constant \n",
    "def L2loss(lmbda, net):\n",
    "    reg = torch.tensor(0.)\n",
    "    for m in net.modules():\n",
    "        if hasattr(m, 'weight'):\n",
    "            reg += m.weight.norm()**2\n",
    "    return lmbda*reg\n",
    "\n",
    "### define an optimizer \n",
    "lr = 1e-2\n",
    "update = torch.optim.Adam(params=net.parameters(), lr=lr)\n",
    "\n",
    "# training loop params \n",
    "maxiter = 5000\n",
    "batchsize = 32\n",
    "Xtrain, Ytrain = torch.Tensor(Xtrain), torch.Tensor(Ytrain)\n",
    "Xval, Yval = torch.Tensor(Xval), torch.Tensor(Yval)\n",
    "best_stat_dict = net.state_dict()\n",
    "best_val_mse_loss = np.inf\n",
    "\n",
    "## training loop \n",
    "for i in range(maxiter):\n",
    "    # sample a batch of data \n",
    "    batchidx = np.random.randint(0, len(Xtrain), batchsize)\n",
    "    xbatch, ybatch = Xtrain[batchidx], Ytrain[batchidx]\n",
    "    \n",
    "    # zero out the gradient buffers\n",
    "    update.zero_grad()\n",
    "    \n",
    "    #forward prop \n",
    "    ypred = net(xbatch)\n",
    "    \n",
    "    # compute the regularized loss \n",
    "    loss = mse(ypred, ybatch) + L2loss(lmbda, net)\n",
    "    \n",
    "    # back prop to get gradients \n",
    "    loss.backward()\n",
    "    \n",
    "    # take one optimization step\n",
    "    update.step()\n",
    "    \n",
    "    # print progress \n",
    "    if (i+1)%100 == 0:\n",
    "        val_mse_loss = mse(Yval, net(Xval))\n",
    "        print(' [Iteration %4d] Validation MSE loss: %.3f'%(i+1, val_mse_loss))\n",
    "        if val_mse_loss < best_val_mse_loss:\n",
    "            best_state_dict = net.state_dict()\n",
    "net.load_state_dict(best_stat_dict);"
   ]
  },
  {
   "cell_type": "code",
   "execution_count": null,
   "metadata": {
    "scrolled": false
   },
   "outputs": [],
   "source": [
    "Xtest = torch.Tensor(xscaler.transform(np.linspace(0., 60., 1000)[:, None]))\n",
    "Ypred = net(Xtest)\n",
    "\n",
    "plt.figure( figsize=(10, 8) )\n",
    "plt.plot(xscaler.inverse_transform(Xtest.data.numpy()), \n",
    "         yscaler.inverse_transform(Ypred.data.numpy()),\n",
    "         linewidth=3,\n",
    "         label='Test Predictions')\n",
    "plt.plot(X, Y, 'ro', label='Data')\n",
    "plt.legend(loc='best', fontsize=20)"
   ]
  },
  {
   "cell_type": "markdown",
   "metadata": {},
   "source": [
    "## Non-exhaustive list of topics not covered here:\n",
    "\n",
    "1. Regularizing a neural network with techniques such as dropout (`nn.Dropout`), batch normalization (`nn.BatchNorm1D`, `nn.BatchNorm2D`, `nn.BatchNorm3D`).\n",
    "\n",
    "2. Weight Initialization (uniform, normal, [Xavier initialization](http://proceedings.mlr.press/v9/glorot10a/glorot10a.pdf), [He initialization](https://arxiv.org/pdf/1502.01852.pdf) etc.) All common initialization techniques can be found under `nn.init` ([see here](https://pytorch.org/docs/stable/nn.init.html#nn-init-doc)).\n",
    "\n",
    "3. Learning rate (or step size) schedule (Step schedule, exponential schedule, cosine annealing etc.) ([look for the section on how to adjust learning rate here](https://pytorch.org/docs/stable/optim.html)).\n",
    "\n",
    "4. Hyperparameter optimization (grid search, cross-validation, Bayesian optimization etc.)\n",
    "\n",
    "5. Model averaging. \n",
    "\n",
    "6. Stochastic weight averaging - https://arxiv.org/abs/1803.05407. This feature is available in `PyTorch`; [see here](https://pytorch.org/blog/stochastic-weight-averaging-in-pytorch/?utm_source=social-facebook&utm_medium=PyTorch&utm_campaign=organic&utm_content=post-url&utm_offering=artificial-intelligence&utm_product=AIStochasticWeight_050819&fbclid=IwAR28pSPYvd-9Qlx2nOvZF7c965TcnvNQENytm1HKQy1vKLHNifEZRzp5S8s)."
   ]
  },
  {
   "cell_type": "markdown",
   "metadata": {},
   "source": [
    "## Bayesian Neural Network \n",
    "\n",
    "Starting with a prior $p(\\theta)$ on the DNN weights and biases and a likelihood model $p(\\mathcal{D} | \\theta)$, we wish to approximate the posterior distribution over the DNN weights and biases $p(\\theta | \\mathcal{D})$. \n",
    "\n",
    "To efficiently implement and train a Bayesian Neural Network, we will use the `pyro` probabilistic programming library which is written on top of `PyTorch`. "
   ]
  },
  {
   "cell_type": "code",
   "execution_count": null,
   "metadata": {},
   "outputs": [],
   "source": [
    "import pyro\n",
    "import pyro.distributions as dist \n",
    "from pyro import infer\n",
    "from pyro import optim \n",
    "from pyro.contrib import autoguide\n",
    "from pyro.nn import PyroSample, PyroModule"
   ]
  },
  {
   "cell_type": "code",
   "execution_count": null,
   "metadata": {},
   "outputs": [],
   "source": [
    "class BayesianNeuralNetwork( PyroModule ):\n",
    "    def __init__(self, layersizes=[1, 1], activation = torch.tanh,\n",
    "                 final_layer_activation = None, \n",
    "                 prior_scale = 0.1, \n",
    "                 sigma = 0.1):\n",
    "        \"\"\"\n",
    "        INPUTS:\n",
    "            layersizes <list/tuple>: An iterable ordered object containing\n",
    "                                 the sizes of the tensors from the\n",
    "                                 input layer to the final output. \n",
    "                                 (See example below). \n",
    "            activation <callable>: A python callable through which\n",
    "                                    torch backpropagation is possible.\n",
    "            final_layer_activation <callable>: A python callable for \n",
    "                                    the final layer activation function.\n",
    "                                    Default: None (for regression problems)\n",
    "            prior_scale <float>: The prior standard deviation over the weights. \n",
    "            sigma <float>: The likelihood noise standard deviation\n",
    "        \"\"\"\n",
    "        super(BayesianNeuralNetwork, self).__init__()\n",
    "        self.prior_scale = prior_scale\n",
    "        self.sigma       = sigma\n",
    "        self.layersizes = layersizes\n",
    "        self.input_dim = self.layersizes[0]\n",
    "        self.hidden_sizes = self.layersizes[1:-1]\n",
    "        self.output_dim = self.layersizes[-1]\n",
    "        self.activation = activation\n",
    "        self.final_layer_activation = final_layer_activation\n",
    "        if self.final_layer_activation is None:\n",
    "            self.final_layer_activation = nn.Identity()\n",
    "        self.nlayers = len(self.hidden_sizes) + 1\n",
    "        self.layernames = [] \n",
    "        \n",
    "        # define FC layers\n",
    "        # to treat the parameters of the network as latent variables\n",
    "        # place priors over them using PyroSample \n",
    "        for i in range(self.nlayers):\n",
    "            layername = 'fc_{}'.format(i+1)\n",
    "            self.layernames.append(layername)\n",
    "            layer = PyroModule[nn.Linear](self.layersizes[i], self.layersizes[i+1])\n",
    "            weightprior = dist.Normal(0., prior_scale).expand(layer.weight.shape).to_event(2)\n",
    "            biasprior = dist.Normal(0., prior_scale).expand(layer.bias.shape).to_event(1)\n",
    "            layer.weight = PyroSample(weightprior)\n",
    "            layer.bias = PyroSample(biasprior)\n",
    "            setattr(self, layername, layer)\n",
    "        \n",
    "    def forward(self, x, y=None):\n",
    "        \"\"\"\n",
    "        Specify the generative process here. \n",
    "        \n",
    "        INPUTS:\n",
    "            x -> Input features on which to condition the observations. \n",
    "            y -> Observed data. \n",
    "            \n",
    "        RETURNS:\n",
    "            loc -> Predictive mean.\n",
    "        \"\"\"\n",
    "        ysigma = self.sigma \n",
    "        \n",
    "        # get the mean \n",
    "        ymean = x\n",
    "        for i, layername in enumerate(self.layernames):\n",
    "            fclayer = getattr(self, layername)\n",
    "            ymean = fclayer(ymean)\n",
    "            if i == self.nlayers - 1:\n",
    "                ymean = self.final_layer_activation( ymean )\n",
    "            else:\n",
    "                ymean = self.activation( ymean )\n",
    "        ymean = ymean[:,0]\n",
    "                \n",
    "        # pyro.plate will take care of mini batch scaling \n",
    "        with pyro.plate('data', x.shape[0]):\n",
    "            y = pyro.sample('y', dist.Normal(ymean, ysigma), obs=y)\n",
    "        \n",
    "        return ymean"
   ]
  },
  {
   "cell_type": "code",
   "execution_count": null,
   "metadata": {},
   "outputs": [],
   "source": [
    "# instantiate the Bayesian Neural network \n",
    "prior_scale = 1.\n",
    "sigma = 1e-1\n",
    "bnn = BayesianNeuralNetwork(layersizes=[1, 200, 1], \n",
    "                            prior_scale=prior_scale,\n",
    "                            sigma=1e-1)   # this will be the pyro `model` "
   ]
  },
  {
   "cell_type": "markdown",
   "metadata": {},
   "source": [
    "`pyro` has several choices for the variational posterior:"
   ]
  },
  {
   "cell_type": "code",
   "execution_count": null,
   "metadata": {},
   "outputs": [],
   "source": [
    "[name for name in dir(infer.autoguide) if 'Auto' in name]"
   ]
  },
  {
   "cell_type": "code",
   "execution_count": null,
   "metadata": {},
   "outputs": [],
   "source": [
    "# training validation splot and preprocessing \n",
    "Ntrain = int(0.7*N)\n",
    "Xtrain, Xval, Ytrain, Yval = train_test_split(X, Y, train_size=Ntrain)\n",
    "\n",
    "# scale the data\n",
    "xscaler = StandardScaler()\n",
    "yscaler = StandardScaler()\n",
    "Xtrain=xscaler.fit_transform(Xtrain)\n",
    "Ytrain=yscaler.fit_transform(Ytrain)\n",
    "Xval, Yval = xscaler.transform(Xval), yscaler.transform(Yval)"
   ]
  },
  {
   "cell_type": "code",
   "execution_count": null,
   "metadata": {},
   "outputs": [],
   "source": [
    "# instantiate the variational posterior \n",
    "q_bnn = infer.autoguide.AutoDiagonalNormal( bnn )\n",
    "\n",
    "# always clear the parameter store before inference\n",
    "pyro.clear_param_store()  \n",
    "\n",
    "# define a loss function \n",
    "loss = infer.trace_elbo.Trace_ELBO(num_particles=5)\n",
    "\n",
    "# define an optimizer \n",
    "optim_dict = {'lr':1e-2}  # dictionary of optimizer settings\n",
    "optimizer = pyro.optim.Adam(optim_dict)\n",
    "\n",
    "# instantiate the inference engine \n",
    "svi = infer.SVI(model=bnn, \n",
    "                guide=q_bnn, \n",
    "                optim=optimizer, \n",
    "                loss=loss)\n",
    "\n",
    "### TRAINING LOOP ###\n",
    "niters = 5000\n",
    "losses = []\n",
    "Xtrain, Ytrain = torch.Tensor(Xtrain), torch.Tensor(Ytrain)\n",
    "Xval, Yval = torch.Tensor(Xval), torch.Tensor(Yval)\n",
    "data = torch.Tensor(Y)\n",
    "for i in tqdm_notebook(range(niters)):\n",
    "    loss = svi.step(Xtrain, Ytrain[:,0])\n",
    "    losses.append(loss)"
   ]
  },
  {
   "cell_type": "markdown",
   "metadata": {},
   "source": [
    "Let's check the ELBO."
   ]
  },
  {
   "cell_type": "code",
   "execution_count": null,
   "metadata": {
    "scrolled": false
   },
   "outputs": [],
   "source": [
    "plt.figure(figsize=(10, 8))\n",
    "losses = np.array(losses)\n",
    "plt.plot(np.arange(1, niters+1), -losses)\n",
    "plt.ylabel('ELBO', fontsize=15)\n",
    "plt.xlabel('Iteration', fontsize=15)\n",
    "plt.tight_layout()"
   ]
  },
  {
   "cell_type": "markdown",
   "metadata": {},
   "source": [
    "Now let's get the posterior predictive samples. "
   ]
  },
  {
   "cell_type": "code",
   "execution_count": null,
   "metadata": {},
   "outputs": [],
   "source": [
    "Xtest = torch.Tensor(xscaler.transform(np.linspace(0., 60., 500)[:, None]))\n",
    "predictor = infer.Predictive(model=bnn, \n",
    "                             guide=q_bnn, \n",
    "                             num_samples=1000, \n",
    "                             return_sites=(\"y\", \"_RETURN\"))\n",
    "ppsamples = predictor(Xtest)"
   ]
  },
  {
   "cell_type": "code",
   "execution_count": null,
   "metadata": {
    "scrolled": true
   },
   "outputs": [],
   "source": [
    "ppmean = ppsamples[\"_RETURN\"].data.numpy().mean(0)\n",
    "ppmean = yscaler.inverse_transform(ppmean)\n",
    "pplow, pphigh = np.percentile(ppsamples[\"_RETURN\"].data.numpy(), axis=0, q=[2.5, 97.5])\n",
    "pplow = yscaler.inverse_transform(pplow)\n",
    "pphigh = yscaler.inverse_transform(pphigh)"
   ]
  },
  {
   "cell_type": "code",
   "execution_count": null,
   "metadata": {},
   "outputs": [],
   "source": [
    "plt.figure( figsize=(10, 8) )\n",
    "Xtest=xscaler.inverse_transform(Xtest.data.numpy())\n",
    "plt.plot(Xtest, \n",
    "         ppmean,\n",
    "         linewidth=3,\n",
    "         label='Test Predictions')\n",
    "plt.fill_between(Xtest[:,0], pplow, pphigh, alpha=0.25, label='95% interval')\n",
    "plt.plot(X, Y, 'ro', label='Data')\n",
    "\n",
    "plt.legend(loc='best', fontsize=20)"
   ]
  },
  {
   "cell_type": "code",
   "execution_count": null,
   "metadata": {},
   "outputs": [],
   "source": []
  }
 ],
 "metadata": {
  "kernelspec": {
   "display_name": "Python 3",
   "language": "python",
   "name": "python3"
  },
  "language_info": {
   "codemirror_mode": {
    "name": "ipython",
    "version": 3
   },
   "file_extension": ".py",
   "mimetype": "text/x-python",
   "name": "python",
   "nbconvert_exporter": "python",
   "pygments_lexer": "ipython3",
   "version": "3.7.7"
  }
 },
 "nbformat": 4,
 "nbformat_minor": 2
}
