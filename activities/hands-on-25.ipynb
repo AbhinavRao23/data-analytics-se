{
 "cells": [
  {
   "cell_type": "code",
   "execution_count": 1,
   "metadata": {},
   "outputs": [],
   "source": [
    "import numpy as np\n",
    "import scipy.stats as st\n",
    "import matplotlib.pyplot as plt\n",
    "%matplotlib inline\n",
    "import seaborn as sns\n",
    "sns.set_context('paper')\n",
    "sns.set_style('white')\n",
    "# A helper function for downloading files\n",
    "import requests\n",
    "import os\n",
    "def download(url, local_filename=None):\n",
    "    \"\"\"\n",
    "    Downloads the file in the ``url`` and saves it in the current working directory.\n",
    "    \"\"\"\n",
    "    data = requests.get(url)\n",
    "    if local_filename is None:\n",
    "        local_filename = os.path.basename(url)\n",
    "    with open(local_filename, 'wb') as fd:\n",
    "        fd.write(data.content)"
   ]
  },
  {
   "cell_type": "markdown",
   "metadata": {},
   "source": [
    "# Lecture 25 - Deep Neural Networks Continued\n",
    "\n",
    "## Objectives\n",
    "\n",
    "+ Implement image classification network in `PyTorch`.\n",
    "+ Add L2 regularization.\n",
    "+ Add convolutional layers.\n",
    "+ Add hyperparameter tuning.\n",
    "\n",
    "## References \n",
    "\n",
    "+ [Deep Learning with PyTorch: A 60 minute blitz](https://pytorch.org/tutorials/beginner/deep_learning_60min_blitz.html) and in particular:\n",
    "    - [Training a Classifier](https://pytorch.org/tutorials/beginner/blitz/cifar10_tutorial.html#sphx-glr-beginner-blitz-cifar10-tutorial-py) - with which we use the same dataset in this hands-on activity."
   ]
  },
  {
   "cell_type": "markdown",
   "metadata": {},
   "source": [
    "## The CIFAR10 dataset\n",
    "\n",
    "We are going to use the [CIFAR10 dateset](https://www.cs.toronto.edu/~kriz/cifar.html) to demonstrate multiclass classification.\n",
    "The dataset consists of 60000 32x32 color images in 10 classes (plane, car, bird, cat, deer, dog, frog, horse, ship, and truck), with 6000 images per class.\n",
    "The dataset can be download direclty from `PyTorch` using the module `torchvision`.\n",
    "\n",
    "You can think of the original images as 32x32x3 arrays.\n",
    "The first two dimensions correspond to the pixels.\n",
    "The third dimension corresponds to the color (red, green, blue).\n",
    "Of course, we will have to turn them into `PyTorch` tensors.\n",
    "Also, it is more convenient to scale them to be between $[-1,1]$.\n",
    "We will achieve this using a transformation.\n",
    "Don't worry about this now.\n",
    "We will explain it as we go."
   ]
  },
  {
   "cell_type": "code",
   "execution_count": 57,
   "metadata": {},
   "outputs": [
    {
     "name": "stdout",
     "output_type": "stream",
     "text": [
      "Files already downloaded and verified\n",
      "Files already downloaded and verified\n"
     ]
    }
   ],
   "source": [
    "import torch\n",
    "import torchvision\n",
    "import torchvision.transforms as transforms\n",
    "\n",
    "# This is the transformation that we will apply to each image\n",
    "transform = transforms.Compose(\n",
    "    [transforms.ToTensor(),   # This turns the picture to a Tensor\n",
    "     transforms.Normalize((0.5, 0.5, 0.5), (0.5, 0.5, 0.5))]) # This scales it to [-1, 1]\n",
    "\n",
    "# Here is how you can download the training dataset\n",
    "trainset = torchvision.datasets.CIFAR10(root='./data', train=True,\n",
    "                                        download=True, transform=transform)\n",
    "\n",
    "# And here is how to download the test dataset:\n",
    "testset = torchvision.datasets.CIFAR10(root='./data', train=False,\n",
    "                                       download=True, transform=transform)\n",
    "\n",
    "# These are the class labels\n",
    "classes = ('plane', 'car', 'bird', 'cat',\n",
    "           'deer', 'dog', 'frog', 'horse', 'ship', 'truck')"
   ]
  },
  {
   "cell_type": "markdown",
   "metadata": {},
   "source": [
    "Now, all these data went in the folder \"./data.\"\n",
    "Here is what this folder contains:"
   ]
  },
  {
   "cell_type": "code",
   "execution_count": 14,
   "metadata": {},
   "outputs": [
    {
     "name": "stdout",
     "output_type": "stream",
     "text": [
      "\u001b[34mcifar-10-batches-py\u001b[m\u001b[m    cifar-10-python.tar.gz\r\n"
     ]
    }
   ],
   "source": [
    "!ls ./data/"
   ]
  },
  {
   "cell_type": "markdown",
   "metadata": {},
   "source": [
    "The file `cifar-10-python.tar.gz` is a compressed file containing everything.\n",
    "The contents were automatically extracted and put in the folder `cifar-10-batches-py`.\n",
    "Let's look insider this folder:"
   ]
  },
  {
   "cell_type": "code",
   "execution_count": 19,
   "metadata": {},
   "outputs": [
    {
     "name": "stdout",
     "output_type": "stream",
     "text": [
      "total 363752\r\n",
      "-rw-r--r--@ 1 iliasbilionis  staff    88B Jun  4  2009 readme.html\r\n",
      "-rw-r--r--@ 1 iliasbilionis  staff   158B Mar 31  2009 batches.meta\r\n",
      "-rw-r--r--@ 1 iliasbilionis  staff    30M Mar 31  2009 data_batch_4\r\n",
      "-rw-r--r--@ 1 iliasbilionis  staff    30M Mar 31  2009 data_batch_1\r\n",
      "-rw-r--r--@ 1 iliasbilionis  staff    30M Mar 31  2009 data_batch_5\r\n",
      "-rw-r--r--@ 1 iliasbilionis  staff    30M Mar 31  2009 data_batch_2\r\n",
      "-rw-r--r--@ 1 iliasbilionis  staff    30M Mar 31  2009 data_batch_3\r\n",
      "-rw-r--r--@ 1 iliasbilionis  staff    30M Mar 31  2009 test_batch\r\n"
     ]
    }
   ],
   "source": [
    "!ls -lht data/cifar-10-batches-py"
   ]
  },
  {
   "cell_type": "markdown",
   "metadata": {},
   "source": [
    "You see several files.\n",
    "The important ones are `data_batch_1` to `data_batch_5` and `test_batch`.\n",
    "Each of these contains 10000 images in a binary format.\n",
    "The format is explained [here](https://www.cs.toronto.edu/~kriz/cifar.html).\n",
    "We can read them as follows:"
   ]
  },
  {
   "cell_type": "code",
   "execution_count": 28,
   "metadata": {},
   "outputs": [
    {
     "name": "stdout",
     "output_type": "stream",
     "text": [
      "dict_keys([b'batch_label', b'labels', b'data', b'filenames'])\n"
     ]
    }
   ],
   "source": [
    "def unpickle(file):\n",
    "    import pickle\n",
    "    with open(file, 'rb') as fo:\n",
    "        dict = pickle.load(fo, encoding='bytes')\n",
    "    return dict\n",
    "\n",
    "data = unpickle('data/cifar-10-batches-py/data_batch_1')\n",
    "# data is a dictionary\n",
    "# Here are the keys\n",
    "print(data.keys())"
   ]
  },
  {
   "cell_type": "code",
   "execution_count": 29,
   "metadata": {},
   "outputs": [
    {
     "name": "stdout",
     "output_type": "stream",
     "text": [
      "(10000, 3072)\n"
     ]
    }
   ],
   "source": [
    "# One key has to do with the pictures\n",
    "# It gives you a numpy array:\n",
    "print(data[b'data'].shape)"
   ]
  },
  {
   "cell_type": "code",
   "execution_count": 30,
   "metadata": {},
   "outputs": [
    {
     "data": {
      "text/plain": [
       "3072"
      ]
     },
     "execution_count": 30,
     "metadata": {},
     "output_type": "execute_result"
    }
   ],
   "source": [
    "# The first dimension correspond to differnt picture\n",
    "# The second dimension is\n",
    "32 * 32 * 3"
   ]
  },
  {
   "cell_type": "code",
   "execution_count": 60,
   "metadata": {},
   "outputs": [
    {
     "name": "stdout",
     "output_type": "stream",
     "text": [
      "[[ 59  16  25 ... 208 180 177]\n",
      " [ 43   0  16 ... 201 173 168]\n",
      " [ 50  18  49 ... 198 186 179]\n",
      " ...\n",
      " [158 123 118 ... 160 184 216]\n",
      " [152 119 120 ...  56  97 151]\n",
      " [148 122 109 ...  53  83 123]]\n"
     ]
    }
   ],
   "source": [
    "# So this is the first picture:\n",
    "img = data[b'data'][0, :].reshape((32, 32, 3), order='F')\n",
    "# Here is the Red channel:\n",
    "print(img[:, :, 0])"
   ]
  },
  {
   "cell_type": "markdown",
   "metadata": {},
   "source": [
    "The numbers go from 0 (no red) to 255 (full red).\n",
    "Here is how to visualize it:"
   ]
  },
  {
   "cell_type": "code",
   "execution_count": 61,
   "metadata": {},
   "outputs": [
    {
     "data": {
      "image/png": "[encoded data removed]",
      "text/plain": [
       "<Figure size 72x72 with 1 Axes>"
      ]
     },
     "metadata": {},
     "output_type": "display_data"
    }
   ],
   "source": [
    "fig, ax = plt.subplots(figsize=(1, 1))\n",
    "ax.imshow(np.transpose(img, (1, 0, 2)));"
   ]
  },
  {
   "cell_type": "markdown",
   "metadata": {},
   "source": [
    "This is clearly a frog.\n",
    "Let's verify this:"
   ]
  },
  {
   "cell_type": "code",
   "execution_count": 62,
   "metadata": {},
   "outputs": [
    {
     "data": {
      "text/plain": [
       "'frog'"
      ]
     },
     "execution_count": 62,
     "metadata": {},
     "output_type": "execute_result"
    }
   ],
   "source": [
    "classes[data[b'labels'][0]]"
   ]
  },
  {
   "cell_type": "markdown",
   "metadata": {},
   "source": [
    "This is nice. And we could proceed manually like this.\n",
    "However, `PyTorch` offers some useful functionality.\n",
    "Let's investigate the `trainset` that was returned by `CIFAR10`:"
   ]
  },
  {
   "cell_type": "code",
   "execution_count": 65,
   "metadata": {},
   "outputs": [
    {
     "data": {
      "text/plain": [
       "Dataset CIFAR10\n",
       "    Number of datapoints: 50000\n",
       "    Root location: ./data\n",
       "    Split: Train\n",
       "    StandardTransform\n",
       "Transform: Compose(\n",
       "               ToTensor()\n",
       "               Normalize(mean=(0.5, 0.5, 0.5), std=(0.5, 0.5, 0.5))\n",
       "           )"
      ]
     },
     "execution_count": 65,
     "metadata": {},
     "output_type": "execute_result"
    }
   ],
   "source": [
    "trainset"
   ]
  },
  {
   "cell_type": "code",
   "execution_count": 66,
   "metadata": {},
   "outputs": [
    {
     "data": {
      "text/plain": [
       "['airplane',\n",
       " 'automobile',\n",
       " 'bird',\n",
       " 'cat',\n",
       " 'deer',\n",
       " 'dog',\n",
       " 'frog',\n",
       " 'horse',\n",
       " 'ship',\n",
       " 'truck']"
      ]
     },
     "execution_count": 66,
     "metadata": {},
     "output_type": "execute_result"
    }
   ],
   "source": [
    "# Here are the classes:\n",
    "trainset.classes"
   ]
  },
  {
   "cell_type": "code",
   "execution_count": 67,
   "metadata": {},
   "outputs": [
    {
     "data": {
      "text/plain": [
       "{'airplane': 0,\n",
       " 'automobile': 1,\n",
       " 'bird': 2,\n",
       " 'cat': 3,\n",
       " 'deer': 4,\n",
       " 'dog': 5,\n",
       " 'frog': 6,\n",
       " 'horse': 7,\n",
       " 'ship': 8,\n",
       " 'truck': 9}"
      ]
     },
     "execution_count": 67,
     "metadata": {},
     "output_type": "execute_result"
    }
   ],
   "source": [
    "# Here is the correspondence between classes and discrete labels\n",
    "trainset.class_to_idx"
   ]
  },
  {
   "cell_type": "code",
   "execution_count": 70,
   "metadata": {},
   "outputs": [
    {
     "name": "stdout",
     "output_type": "stream",
     "text": [
      "(50000, 32, 32, 3)\n"
     ]
    }
   ],
   "source": [
    "# Here are the images from all training batches\n",
    "print(trainset.data.shape)"
   ]
  },
  {
   "cell_type": "code",
   "execution_count": 72,
   "metadata": {},
   "outputs": [
    {
     "name": "stdout",
     "output_type": "stream",
     "text": [
      "[6, 9, 9, 4, 1, 1, 2, 7, 8, 3]\n"
     ]
    }
   ],
   "source": [
    "# Here are the labels\n",
    "print(trainset.targets[:10])"
   ]
  },
  {
   "cell_type": "markdown",
   "metadata": {},
   "source": [
    "Alright.\n",
    "Now, let's use `PyTorch` functionality for looping over the training and the test datasets.\n",
    "We need a [DataLoader](https://pytorch.org/docs/stable/data.html):"
   ]
  },
  {
   "cell_type": "code",
   "execution_count": 183,
   "metadata": {},
   "outputs": [],
   "source": [
    "# One for the training data:\n",
    "trainloader = torch.utils.data.DataLoader(trainset, batch_size=128,\n",
    "                                          shuffle=True, num_workers=2)\n",
    "\n",
    "# One for the test data:\n",
    "testloader = torch.utils.data.DataLoader(testset, batch_size=128,\n",
    "                                         shuffle=False, num_workers=2)\n"
   ]
  },
  {
   "cell_type": "markdown",
   "metadata": {},
   "source": [
    "These objects work as follows:"
   ]
  },
  {
   "cell_type": "code",
   "execution_count": 80,
   "metadata": {},
   "outputs": [
    {
     "name": "stdout",
     "output_type": "stream",
     "text": [
      "Data point: 0 input size: torch.Size([4, 3, 32, 32])\n",
      "Data point: 1000 input size: torch.Size([4, 3, 32, 32])\n",
      "Data point: 2000 input size: torch.Size([4, 3, 32, 32])\n",
      "Data point: 3000 input size: torch.Size([4, 3, 32, 32])\n",
      "Data point: 4000 input size: torch.Size([4, 3, 32, 32])\n",
      "Data point: 5000 input size: torch.Size([4, 3, 32, 32])\n",
      "Data point: 6000 input size: torch.Size([4, 3, 32, 32])\n",
      "Data point: 7000 input size: torch.Size([4, 3, 32, 32])\n",
      "Data point: 8000 input size: torch.Size([4, 3, 32, 32])\n",
      "Data point: 9000 input size: torch.Size([4, 3, 32, 32])\n",
      "Data point: 10000 input size: torch.Size([4, 3, 32, 32])\n",
      "Data point: 11000 input size: torch.Size([4, 3, 32, 32])\n",
      "Data point: 12000 input size: torch.Size([4, 3, 32, 32])\n"
     ]
    }
   ],
   "source": [
    "# They help you loop over all the data in a random way (because we had shuffle=True)\n",
    "for i, data in enumerate(trainloader, 0):\n",
    "    inputs, labels = data\n",
    "    # Here inputs are of size batch_size x (3 x 32 x 32)\n",
    "    # Since we had specified, the batch_size to be 4\n",
    "    # this essentially loads four images per iteration\n",
    "    if i % 1000 == 0:\n",
    "        print('Data point:', i, 'input size:', str(inputs.shape))"
   ]
  },
  {
   "cell_type": "markdown",
   "metadata": {},
   "source": [
    "When you reach the end of the loop you have visited all the images once.\n",
    "Notice that `PyTorch` has reshaped the images to 3 x 32 x 32 3D arrays.\n",
    "This is more convenient for the convolutional layers we are going to use later.\n",
    "Also, `PyTorch` is using the transformations we gave it to scale the data to array elements to $[-1, 1]$.\n",
    "Let me show you an example:"
   ]
  },
  {
   "cell_type": "code",
   "execution_count": 83,
   "metadata": {},
   "outputs": [
    {
     "name": "stdout",
     "output_type": "stream",
     "text": [
      "tensor([[[ 0.1608,  0.0196, -0.0431,  ..., -0.9373, -0.8431, -0.3961],\n",
      "         [-0.1294,  0.0196, -0.1686,  ..., -0.9529, -0.4902, -0.1451],\n",
      "         [-0.4510, -0.3176, -0.2627,  ..., -0.8667, -0.5137, -0.3255],\n",
      "         ...,\n",
      "         [ 0.4980,  0.3725,  0.4510,  ...,  0.3098,  0.3098,  0.3255],\n",
      "         [ 0.4588,  0.3882,  0.4353,  ...,  0.3412,  0.3490,  0.3647],\n",
      "         [ 0.4196,  0.4353,  0.4902,  ...,  0.4353,  0.4431,  0.4902]],\n",
      "\n",
      "        [[-0.1294, -0.2863, -0.3804,  ..., -0.9843, -0.9373, -0.5922],\n",
      "         [-0.3804, -0.2706, -0.5216,  ..., -0.9843, -0.6235, -0.4431],\n",
      "         [-0.6627, -0.5765, -0.5765,  ..., -0.9451, -0.6941, -0.6392],\n",
      "         ...,\n",
      "         [ 0.1216,  0.0275,  0.1216,  ..., -0.0667, -0.0745, -0.0588],\n",
      "         [ 0.0824,  0.0196,  0.0667,  ..., -0.0118, -0.0196, -0.0039],\n",
      "         [ 0.0588,  0.0745,  0.1137,  ...,  0.0980,  0.0824,  0.1216]],\n",
      "\n",
      "        [[-0.2471, -0.4510, -0.5216,  ..., -0.9059, -0.9216, -0.6627],\n",
      "         [-0.4902, -0.4118, -0.6078,  ..., -0.9529, -0.6314, -0.4745],\n",
      "         [-0.7647, -0.6863, -0.6157,  ..., -0.9686, -0.7255, -0.6392],\n",
      "         ...,\n",
      "         [-0.0118, -0.0980,  0.0039,  ..., -0.1451, -0.1451, -0.1529],\n",
      "         [-0.0667, -0.0980, -0.0275,  ..., -0.1843, -0.1765, -0.1451],\n",
      "         [-0.1373, -0.0902, -0.0196,  ..., -0.1059, -0.0980, -0.0275]]])\n"
     ]
    }
   ],
   "source": [
    "for i, data in enumerate(trainloader, 0):\n",
    "    inputs, labels = data\n",
    "    print(inputs[0])\n",
    "    break"
   ]
  },
  {
   "cell_type": "markdown",
   "metadata": {},
   "source": [
    "## Training a classifier using a dense DNNs\n",
    "\n",
    "Let's just train a classifer using a dense neural network.\n",
    "It's not going to work very well, but it is very easy to put together.\n",
    "We are going to start the network with 3 x 32 x 32 = 3072, followed up with a few dense layers that end at 10 outputs passed through softmax.\n",
    "However, for reasons of numerical stability, we are not going to end with the softmax layer during training."
   ]
  },
  {
   "cell_type": "code",
   "execution_count": 132,
   "metadata": {},
   "outputs": [],
   "source": [
    "import torch.nn as nn\n",
    "\n",
    "# The classifer - The dimensions of the layers have\n",
    "# been picked to match those of the convolutional neural network\n",
    "# that we are going to build later\n",
    "# For now, just notice that we gradually take the 3072-dimensional input\n",
    "# down to 10 dimensions (the number of classes we have)\n",
    "# Also, notice that I do not add the softmax layer at this point\n",
    "model_dense = nn.Sequential(nn.Linear(3072, 1176), nn.ReLU(),\n",
    "                            nn.Linear(1176, 400), nn.ReLU(),\n",
    "                            nn.Linear(400, 120), nn.ReLU(),\n",
    "                            nn.Linear(120, 84), nn.ReLU(),\n",
    "                            nn.Linear(84, 10))\n",
    "\n",
    "# This is our loss function. \n",
    "# Read this: https://pytorch.org/docs/stable/generated/torch.nn.CrossEntropyLoss.html\n",
    "criterion = nn.CrossEntropyLoss()\n",
    "# The reason we did not add the Softmax layer at the end is because\n",
    "# the loss function above is doing it internally.\n",
    "# It expects that you provide \"contain raw, unnormalized scores for each class\""
   ]
  },
  {
   "cell_type": "code",
   "execution_count": 133,
   "metadata": {},
   "outputs": [],
   "source": [
    "# Here is the optimizer\n",
    "import torch.optim as optim\n",
    "optimizer = optim.SGD(model_dense.parameters(), lr=0.001, momentum=0.9)"
   ]
  },
  {
   "cell_type": "markdown",
   "metadata": {},
   "source": [
    "Let's train the network. This is going to take a while..."
   ]
  },
  {
   "cell_type": "code",
   "execution_count": 136,
   "metadata": {},
   "outputs": [
    {
     "name": "stdout",
     "output_type": "stream",
     "text": [
      "[1,  2000] loss: 1.721\n",
      "[1,  4000] loss: 1.652\n",
      "[1,  6000] loss: 1.614\n",
      "[1,  8000] loss: 1.561\n",
      "[1, 10000] loss: 1.528\n",
      "[1, 12000] loss: 1.497\n",
      "[2,  2000] loss: 1.434\n",
      "[2,  4000] loss: 1.407\n",
      "[2,  6000] loss: 1.411\n",
      "[2,  8000] loss: 1.410\n",
      "[2, 10000] loss: 1.396\n",
      "[2, 12000] loss: 1.381\n",
      "Finished Training\n"
     ]
    }
   ],
   "source": [
    "# How many times do you want to go over the entire dataset?\n",
    "# Don't pick a very big number because you will overfit\n",
    "num_epochs = 2\n",
    "\n",
    "# Here is the main training algorithm\n",
    "for epoch in range(num_epochs):  # loop over the dataset multiple times\n",
    "\n",
    "    running_loss = 0.0\n",
    "    for i, data in enumerate(trainloader, 0):\n",
    "        # get the inputs; data is a list of [inputs, labels]\n",
    "        inputs, labels = data\n",
    "\n",
    "        # zero the parameter gradients\n",
    "        optimizer.zero_grad()\n",
    "\n",
    "        # forward + backward + optimize\n",
    "        outputs = model_dense(inputs.reshape(4, 3 * 32 * 32))\n",
    "        loss = criterion(outputs, labels)\n",
    "        loss.backward()\n",
    "        optimizer.step()\n",
    "\n",
    "        # print statistics\n",
    "        running_loss += loss.item()\n",
    "        if i % 2000 == 1999:    # print every 2000 mini-batches\n",
    "            print('[%d, %5d] loss: %.3f' %\n",
    "                  (epoch + 1, i + 1, running_loss / 2000))\n",
    "            running_loss = 0.0\n",
    "\n",
    "print('Finished Training')"
   ]
  },
  {
   "cell_type": "markdown",
   "metadata": {},
   "source": [
    "Since training networks takes a while, it's a good idea to save it:"
   ]
  },
  {
   "cell_type": "code",
   "execution_count": 137,
   "metadata": {},
   "outputs": [],
   "source": [
    "torch.save(model_dense.state_dict(), 'hands-on-25-model-dense.pth')"
   ]
  },
  {
   "cell_type": "markdown",
   "metadata": {},
   "source": [
    "Here it is as a file:"
   ]
  },
  {
   "cell_type": "code",
   "execution_count": 138,
   "metadata": {},
   "outputs": [
    {
     "name": "stdout",
     "output_type": "stream",
     "text": [
      "-rw-r--r--@ 1 iliasbilionis  staff    16M Oct 22 13:24 hands-on-25-model-dense.pth\r\n"
     ]
    }
   ],
   "source": [
    "!ls -lht hands-on-25-model-dense.pth"
   ]
  },
  {
   "cell_type": "markdown",
   "metadata": {},
   "source": [
    "Now let's make some predictions:"
   ]
  },
  {
   "cell_type": "code",
   "execution_count": 139,
   "metadata": {},
   "outputs": [],
   "source": [
    "# Get the first four images and their labels\n",
    "dataiter = iter(testloader)\n",
    "images, labels = dataiter.next()"
   ]
  },
  {
   "cell_type": "code",
   "execution_count": 140,
   "metadata": {},
   "outputs": [
    {
     "name": "stdout",
     "output_type": "stream",
     "text": [
      "tensor([3, 8, 8, 0])\n"
     ]
    }
   ],
   "source": [
    "print(labels)"
   ]
  },
  {
   "cell_type": "code",
   "execution_count": 141,
   "metadata": {},
   "outputs": [],
   "source": [
    "# Make predictions with the net and pass them through \n",
    "# softmax to turn them into probabilities\n",
    "st = nn.Softmax(dim=1)\n",
    "predictions = st(model_dense(inputs.reshape(4, 3072)))"
   ]
  },
  {
   "cell_type": "code",
   "execution_count": 142,
   "metadata": {},
   "outputs": [
    {
     "data": {
      "image/png": "[encoded data removed]",
      "text/plain": [
       "<Figure size 72x72 with 1 Axes>"
      ]
     },
     "metadata": {},
     "output_type": "display_data"
    },
    {
     "data": {
      "image/png": "[encoded data removed]",
      "text/plain": [
       "<Figure size 432x288 with 1 Axes>"
      ]
     },
     "metadata": {},
     "output_type": "display_data"
    },
    {
     "data": {
      "image/png": "[encoded data removed]",
      "text/plain": [
       "<Figure size 72x72 with 1 Axes>"
      ]
     },
     "metadata": {},
     "output_type": "display_data"
    },
    {
     "data": {
      "image/png": "[encoded data removed]",
      "text/plain": [
       "<Figure size 432x288 with 1 Axes>"
      ]
     },
     "metadata": {},
     "output_type": "display_data"
    },
    {
     "data": {
      "image/png": "[encoded data removed]",
      "text/plain": [
       "<Figure size 72x72 with 1 Axes>"
      ]
     },
     "metadata": {},
     "output_type": "display_data"
    },
    {
     "data": {
      "image/png": "[encoded data removed]",
      "text/plain": [
       "<Figure size 432x288 with 1 Axes>"
      ]
     },
     "metadata": {},
     "output_type": "display_data"
    },
    {
     "data": {
      "image/png": "[encoded data removed]",
      "text/plain": [
       "<Figure size 72x72 with 1 Axes>"
      ]
     },
     "metadata": {},
     "output_type": "display_data"
    },
    {
     "data": {
      "image/png": "[encoded data removed]",
      "text/plain": [
       "<Figure size 432x288 with 1 Axes>"
      ]
     },
     "metadata": {},
     "output_type": "display_data"
    }
   ],
   "source": [
    "def imshow(img, ax):\n",
    "    img = img / 2 + 0.5     # unnormalize\n",
    "    npimg = img.numpy()\n",
    "    ax.imshow(np.transpose(npimg, (1, 2, 0)))\n",
    "\n",
    "# Plot the pictures and the predictions\n",
    "for i in range(4):\n",
    "    fig, ax = plt.subplots(figsize=(1,1))\n",
    "    imshow(images[i], ax)\n",
    "    fig2, ax2 = plt.subplots()\n",
    "    ax2.bar(np.arange(10), predictions[i].detach().numpy())\n",
    "    ax2.set_xticks(np.arange(10))\n",
    "    ax2.set_xticklabels(classes)"
   ]
  },
  {
   "cell_type": "markdown",
   "metadata": {},
   "source": [
    "Now, let's do the same thing with a convolutional neural network.\n",
    "We are not going to use `nn.Sequential` this time.\n",
    "Instead, we are going to use `nn.Module` to manually create the network.\n",
    "The documentation is [here](https://pytorch.org/docs/stable/generated/torch.nn.Module.html).\n",
    "You basically need to inherit `nn.Module`, and implement `__init__()` and `forward()`."
   ]
  },
  {
   "cell_type": "code",
   "execution_count": 184,
   "metadata": {},
   "outputs": [],
   "source": [
    "import torch.nn.functional as F\n",
    "\n",
    "class Net(nn.Module):\n",
    "    def __init__(self):\n",
    "        super(Net, self).__init__()\n",
    "        # A convolutional layer:\n",
    "        # 3 = input channels (colors),\n",
    "        # 6 = output channels (features),\n",
    "        # 5 = kernel size\n",
    "        self.conv1 = nn.Conv2d(3, 6, 5)\n",
    "        # A 2 x 2 max pooling layer - we are going to use it two times\n",
    "        self.pool = nn.MaxPool2d(2, 2)\n",
    "        # Another convolutional layer\n",
    "        self.conv2 = nn.Conv2d(6, 16, 5)\n",
    "        # Some linear layers\n",
    "        self.fc1 = nn.Linear(16 * 5 * 5, 120)\n",
    "        self.fc2 = nn.Linear(120, 84)\n",
    "        self.fc3 = nn.Linear(84, 10)\n",
    "\n",
    "    def forward(self, x):\n",
    "        # This function implements your network output\n",
    "        # Convolutional layer, followed by relu, followed by max pooling\n",
    "        x = self.pool(F.relu(self.conv1(x)))\n",
    "        # Same thing\n",
    "        x = self.pool(F.relu(self.conv2(x)))\n",
    "        # Flatting the output of the convolutional layers\n",
    "        x = x.view(-1, 16 * 5 * 5)\n",
    "        # Go throught the first dense linear layer followed by relu\n",
    "        x = F.relu(self.fc1(x))\n",
    "        # Through the second dense layer\n",
    "        x = F.relu(self.fc2(x))\n",
    "        # Finish up with a linear transformation\n",
    "        x = self.fc3(x)\n",
    "        return x\n",
    "\n",
    "\n",
    "model_cnn = Net()"
   ]
  },
  {
   "cell_type": "markdown",
   "metadata": {},
   "source": [
    "Here is a new optimizer:"
   ]
  },
  {
   "cell_type": "code",
   "execution_count": 185,
   "metadata": {},
   "outputs": [
    {
     "data": {
      "text/plain": [
       "Net(\n",
       "  (conv1): Conv2d(3, 6, kernel_size=(5, 5), stride=(1, 1))\n",
       "  (pool): MaxPool2d(kernel_size=2, stride=2, padding=0, dilation=1, ceil_mode=False)\n",
       "  (conv2): Conv2d(6, 16, kernel_size=(5, 5), stride=(1, 1))\n",
       "  (fc1): Linear(in_features=400, out_features=120, bias=True)\n",
       "  (fc2): Linear(in_features=120, out_features=84, bias=True)\n",
       "  (fc3): Linear(in_features=84, out_features=10, bias=True)\n",
       ")"
      ]
     },
     "execution_count": 185,
     "metadata": {},
     "output_type": "execute_result"
    }
   ],
   "source": [
    "model_cnn"
   ]
  },
  {
   "cell_type": "code",
   "execution_count": 186,
   "metadata": {},
   "outputs": [],
   "source": [
    "optimizer = optim.SGD(model_cnn.parameters(), lr=0.1, momentum=0.9,\n",
    "                      weight_decay=5e-4)"
   ]
  },
  {
   "cell_type": "code",
   "execution_count": null,
   "metadata": {},
   "outputs": [],
   "source": [
    "# How many times do you want to go over the entire dataset?\n",
    "# Don't pick a very big number because you will overfit\n",
    "num_epochs = 30\n",
    "\n",
    "# Here is the main training algorithm\n",
    "for epoch in range(num_epochs):  # loop over the dataset multiple times\n",
    "\n",
    "    running_loss = 0.0\n",
    "    for i, data in enumerate(trainloader, 0):\n",
    "        # get the inputs; data is a list of [inputs, labels]\n",
    "        inputs, labels = data\n",
    "\n",
    "        # zero the parameter gradients\n",
    "        optimizer.zero_grad()\n",
    "\n",
    "        # forward + backward + optimize\n",
    "        outputs = model_cnn(inputs)\n",
    "        loss = criterion(outputs, labels)\n",
    "        loss.backward()\n",
    "        optimizer.step()\n",
    "\n",
    "        # print statistics\n",
    "        running_loss += loss.item()\n",
    "        if i % 2000 == 1999:    # print every 2000 mini-batches\n",
    "            print('[%d, %5d] loss: %.3f' %\n",
    "                  (epoch + 1, i + 1, running_loss / 2000))\n",
    "            running_loss = 0.0\n",
    "\n",
    "print('Finished Training')"
   ]
  },
  {
   "cell_type": "markdown",
   "metadata": {},
   "source": [
    "Save it:"
   ]
  },
  {
   "cell_type": "code",
   "execution_count": 168,
   "metadata": {},
   "outputs": [],
   "source": [
    "torch.save(model_cnn.state_dict(), 'hands-on-25-model-cnn.pth')"
   ]
  },
  {
   "cell_type": "markdown",
   "metadata": {},
   "source": [
    "Make some predictions:"
   ]
  },
  {
   "cell_type": "code",
   "execution_count": 175,
   "metadata": {},
   "outputs": [
    {
     "data": {
      "image/png": "[encoded data removed]",
      "text/plain": [
       "<Figure size 72x72 with 1 Axes>"
      ]
     },
     "metadata": {},
     "output_type": "display_data"
    },
    {
     "data": {
      "image/png": "[encoded data removed]",
      "text/plain": [
       "<Figure size 432x288 with 1 Axes>"
      ]
     },
     "metadata": {},
     "output_type": "display_data"
    },
    {
     "data": {
      "image/png": "[encoded data removed]",
      "text/plain": [
       "<Figure size 72x72 with 1 Axes>"
      ]
     },
     "metadata": {},
     "output_type": "display_data"
    },
    {
     "data": {
      "image/png": "[encoded data removed]",
      "text/plain": [
       "<Figure size 432x288 with 1 Axes>"
      ]
     },
     "metadata": {},
     "output_type": "display_data"
    },
    {
     "data": {
      "image/png": "[encoded data removed]",
      "text/plain": [
       "<Figure size 72x72 with 1 Axes>"
      ]
     },
     "metadata": {},
     "output_type": "display_data"
    },
    {
     "data": {
      "image/png": "[encoded data removed]",
      "text/plain": [
       "<Figure size 432x288 with 1 Axes>"
      ]
     },
     "metadata": {},
     "output_type": "display_data"
    },
    {
     "data": {
      "image/png": "[encoded data removed]",
      "text/plain": [
       "<Figure size 72x72 with 1 Axes>"
      ]
     },
     "metadata": {},
     "output_type": "display_data"
    },
    {
     "data": {
      "image/png": "[encoded data removed]",
      "text/plain": [
       "<Figure size 432x288 with 1 Axes>"
      ]
     },
     "metadata": {},
     "output_type": "display_data"
    }
   ],
   "source": [
    "# Make predictions with the net and pass them through \n",
    "# softmax to turn them into probabilities\n",
    "st = nn.Softmax(dim=1)\n",
    "predictions = st(model_cnn(inputs))\n",
    "for i in range(4):\n",
    "    fig, ax = plt.subplots(figsize=(1,1))\n",
    "    imshow(images[i], ax)\n",
    "    fig2, ax2 = plt.subplots()\n",
    "    ax2.bar(np.arange(10), predictions[i].detach().numpy())\n",
    "    ax2.set_xticks(np.arange(10))\n",
    "    ax2.set_xticklabels(classes)"
   ]
  },
  {
   "cell_type": "code",
   "execution_count": 178,
   "metadata": {},
   "outputs": [
    {
     "data": {
      "text/plain": [
       "4"
      ]
     },
     "execution_count": 178,
     "metadata": {},
     "output_type": "execute_result"
    }
   ],
   "source": []
  },
  {
   "cell_type": "code",
   "execution_count": null,
   "metadata": {},
   "outputs": [],
   "source": []
  }
 ],
 "metadata": {
  "kernelspec": {
   "display_name": "Python 3",
   "language": "python",
   "name": "python3"
  },
  "language_info": {
   "codemirror_mode": {
    "name": "ipython",
    "version": 3
   },
   "file_extension": ".py",
   "mimetype": "text/x-python",
   "name": "python",
   "nbconvert_exporter": "python",
   "pygments_lexer": "ipython3",
   "version": "3.7.7"
  }
 },
 "nbformat": 4,
 "nbformat_minor": 2
}
