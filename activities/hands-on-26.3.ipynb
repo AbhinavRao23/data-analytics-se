{
 "cells": [
  {
   "cell_type": "code",
   "execution_count": 2,
   "metadata": {},
   "outputs": [],
   "source": [
    "import numpy as np\n",
    "import scipy.stats as st\n",
    "import matplotlib.pyplot as plt\n",
    "%matplotlib inline\n",
    "import seaborn as sns\n",
    "sns.set_context('paper')\n",
    "sns.set_style('white')\n",
    "# A helper function for downloading files\n",
    "import requests\n",
    "import os\n",
    "def download(url, local_filename=None):\n",
    "    \"\"\"\n",
    "    Downloads the file in the ``url`` and saves it in the current working directory.\n",
    "    \"\"\"\n",
    "    data = requests.get(url)\n",
    "    if local_filename is None:\n",
    "        local_filename = os.path.basename(url)\n",
    "    with open(local_filename, 'wb') as fd:\n",
    "        fd.write(data.content)"
   ]
  },
  {
   "cell_type": "markdown",
   "metadata": {},
   "source": [
    "# Hands-on Activity 26.3 (Physics-informed regularization: Solving uncertainty propagation problems) \n",
    "\n",
    "## Objectives\n",
    "\n",
    "+ Learn how to solve stochastic PDEs with neural networks.\n"
   ]
  },
  {
   "cell_type": "code",
   "execution_count": 4,
   "metadata": {},
   "outputs": [],
   "source": [
    "import numpy as np\n",
    "import torch\n",
    "import torch.nn as nn\n",
    "\n",
    "# This is useful for taking derivatives:\n",
    "def grad(outputs, inputs):\n",
    "    return torch.autograd.grad(outputs, inputs, grad_outputs=torch.ones_like(outputs), create_graph=True)[0]"
   ]
  },
  {
   "cell_type": "markdown",
   "metadata": {},
   "source": [
    "## Solving stochastic PDEs\n",
    "\n",
    "Consider the boundary value problem we introduced back in [Hands-on Activity 10.4](http://localhost:8888/notebooks/me597/data-analytics-se/activities/hands-on-10.4.ipynb). We have a heterogeneous rod with no heat sources.\n",
    "The temperature of the rod is governed by the steady state heat equation on:\n",
    "$$\n",
    "\\frac{d}{dx}\\left(c(x,\\xi)\\frac{d}{dx}T(x)\\right) = 0,\n",
    "$$\n",
    "for $x$ between $0$ and $1~\\;\\mbox{m}$ and boundary values:\n",
    "$$\n",
    "T(0) = 400^\\circ\\mbox{C}\\;\\mbox{and}\\;T(1~\\mbox{m}) = 4^\\circ\\mbox{C}.\n",
    "$$\n",
    "We are interested in cases in which we are uncertain about the conductivity, $c(x,\\xi)$.\n",
    "Here $\\xi$ captures all the information that you need to specify the conductivity.\n",
    "Let's recall the model we used for the conductivity back in 10.4:"
   ]
  },
  {
   "cell_type": "code",
   "execution_count": 9,
   "metadata": {},
   "outputs": [],
   "source": [
    "class Rod(object):\n",
    "    \n",
    "    \"\"\"\n",
    "    A class representing a rod made out of different materials.\n",
    "    \n",
    "    Arguments:\n",
    "    \n",
    "    segment_coords   -   Coordinates of the segments (both left and right). Total N + 1\n",
    "                         if segments are N.\n",
    "    mat_id           -   The material ids on each segment. Total N. Values must start\n",
    "                         at 0 and go sequential to the maximum number of materials\n",
    "                         we have on the rod.\n",
    "    mat_cond         -   The conductivity associaed with each unique material id.\n",
    "    \"\"\"\n",
    "    \n",
    "    def __init__(self, segment_coords, mat_id, mat_cond):\n",
    "        # Save segments for later\n",
    "        self.segment_coords = np.sort(segment_coords)\n",
    "        # The total number of segments\n",
    "        self.num_segments = self.segment_coords.shape[0] - 1\n",
    "        # Save the material id on each segment for later\n",
    "        self.mat_id = mat_id\n",
    "        # The number of unique materials\n",
    "        self.num_mat = len(np.unique(self.mat_id))\n",
    "        # The conductivity on each segment\n",
    "        self.segment_cond = np.array([mat_cond[m] for m in mat_id])\n",
    "        \n",
    "    def _get_conductivity(self, x):\n",
    "        \"\"\"\n",
    "        Evaluate the conductivity at location x, assuming x is a scalar.\n",
    "        \"\"\"\n",
    "        # Find the segment that contains x\n",
    "        for i in range(self.num_segments):\n",
    "            if self.segment_coords[i] <= x and x <= self.segment_coords[i + 1]:\n",
    "                return self.segment_cond[i]\n",
    "            \n",
    "    def get_conductivity(self, x):\n",
    "        \"\"\"\n",
    "        Evaluate the conductivity at location x. This works when x is a scalar or\n",
    "        a numpy array.\n",
    "        \"\"\"\n",
    "        if isinstance(x, float):\n",
    "            return self._get_conductivity(x)\n",
    "        # This checks if x is a numpy array. The function will fail other wise.\n",
    "        assert isinstance(x, np.ndarray)\n",
    "        # And it will only work with 1D arrays\n",
    "        assert x.ndim == 1\n",
    "        # This evaluates the conductivity at all the elements of x and returns\n",
    "        # a numpy array\n",
    "        return np.array([self._get_conductivity(xx) for xx in x])\n",
    "    \n",
    "    def __repr__(self):\n",
    "        \"\"\"\n",
    "        Get a string representation of the rod.\n",
    "        \"\"\"\n",
    "        s = 'SEGID\\tLeft\\tRight\\tMat.\\tCond.\\n'\n",
    "        s += '-' * 37 + '\\n'\n",
    "        for i in range(self.num_segments):\n",
    "            s += ' {0:d}\\t{1:1.2f}\\t{2:1.2f}\\t{3:d}\\t{4:1.2f}\\n'.format(i, segment_coords[i],\n",
    "                                                                 segment_coords[i+1],\n",
    "                                                                 material_on_each_segment[i],\n",
    "                                                                 segment_cond[i])\n",
    "        return s\n",
    "    \n",
    "    def plot(self, ax=None):\n",
    "        \"\"\"\n",
    "        Plots the bar. Returns the axes object on which the rod is plot.\n",
    "        \n",
    "        Arguments:\n",
    "        \n",
    "        ax    -    An axes object to plot on. If not given, a new one will be created.\n",
    "        \"\"\"\n",
    "        from matplotlib.patches import Rectangle\n",
    "        if ax is None:\n",
    "            fig, ax = plt.subplots()\n",
    "        for i in range(self.num_segments):\n",
    "            mat_segment = Rectangle((self.segment_coords[i], -0.1), \n",
    "                                    width=self.segment_coords[i+1] - self.segment_coords[i],\n",
    "                                    height=0.1, color=sns.color_palette()[self.mat_id[i]])\n",
    "            ax.add_patch(mat_segment)\n",
    "        ax.set_ylim(-0.1, 1.1)\n",
    "        return ax\n",
    "    \n",
    "\n",
    "class RandomRod(object):\n",
    "    \n",
    "    \"\"\"\n",
    "    A class modeling a random rod.\n",
    "    \n",
    "    Arguments:\n",
    "    \n",
    "    av_num_segments    -    The ``rate`` of the Poisson distribution giving\n",
    "                            the number of segments.\n",
    "    mat_probs          -    The probabilities of the categorical specifying\n",
    "                            each material goes on each segment.\n",
    "    mat_cond         -   The conductivity associaed with each unique material id.\n",
    "    \"\"\"\n",
    "    \n",
    "    def __init__(self, av_num_segments, mat_probs, mat_cond):\n",
    "        # Save some info internally for later usage\n",
    "        self.av_num_segments = av_num_segments\n",
    "        self.mat_probs = mat_probs\n",
    "        self.mat_cond = mat_cond\n",
    "        # Make the Poisson variable corresponding to the number of segments\n",
    "        self.D = st.poisson(av_num_segments)\n",
    "        # Make the Uniform giving the location of the segment coordinates\n",
    "        self.U = st.uniform()\n",
    "        # Make the Categorical random variable that allows us to pick the material\n",
    "        # id on each segment\n",
    "        self.M = st.rv_discrete(name='M', values=(np.arange(len(mat_probs)), mat_probs))\n",
    "        \n",
    "    def _rvs(self):\n",
    "        \"\"\"\n",
    "        Generate a single random rod.\n",
    "        \"\"\"\n",
    "        # Draw the number of segments\n",
    "        d = self.D.rvs()\n",
    "        # Draw the coordinates\n",
    "        segment_coords = np.hstack([[0.0], np.sort(self.U.rvs(size=d - 1)), [1.0]])\n",
    "        # Draw the material type on each segment\n",
    "        mat_ids = self.M.rvs(size=d)\n",
    "        # Generate the rod\n",
    "        return Rod(segment_coords, mat_ids, self.mat_cond)\n",
    "    \n",
    "    def rvs(self, size=1):\n",
    "        \"\"\"\n",
    "        Generate many random rods.\n",
    "        \"\"\"\n",
    "        if size == 1:\n",
    "            return self._rvs()\n",
    "        return [self._rvs() for _ in range(size)]"
   ]
  },
  {
   "cell_type": "code",
   "execution_count": 12,
   "metadata": {},
   "outputs": [
    {
     "data": {
      "image/png": "[encoded data removed]",
      "text/plain": [
       "<Figure size 300x200 with 1 Axes>"
      ]
     },
     "metadata": {},
     "output_type": "display_data"
    },
    {
     "data": {
      "image/png": "[encoded data removed]",
      "text/plain": [
       "<Figure size 300x200 with 1 Axes>"
      ]
     },
     "metadata": {},
     "output_type": "display_data"
    },
    {
     "data": {
      "image/png": "[encoded data removed]",
      "text/plain": [
       "<Figure size 300x200 with 1 Axes>"
      ]
     },
     "metadata": {},
     "output_type": "display_data"
    },
    {
     "data": {
      "image/png": "[encoded data removed]",
      "text/plain": [
       "<Figure size 300x200 with 1 Axes>"
      ]
     },
     "metadata": {},
     "output_type": "display_data"
    },
    {
     "data": {
      "image/png": "[encoded data removed]",
      "text/plain": [
       "<Figure size 300x200 with 1 Axes>"
      ]
     },
     "metadata": {},
     "output_type": "display_data"
    }
   ],
   "source": [
    "# Create the random rod object\n",
    "R = RandomRod(100,         # The number of segments\n",
    "              [0.3, 0.7],  # The concentration of each material\n",
    "              [0.045, 38.0])  # The thermal conductivity of each material\n",
    "# Let's sample a few of them and plot them\n",
    "for n in range(5):\n",
    "    fig, ax = plt.subplots(dpi=50)\n",
    "    R.rvs().plot(ax=ax)"
   ]
  },
  {
   "cell_type": "markdown",
   "metadata": {},
   "source": [
    "We also had a solver for the equation for random rods.\n",
    "Let's bring it back."
   ]
  },
  {
   "cell_type": "code",
   "execution_count": null,
   "metadata": {},
   "outputs": [],
   "source": [
    "# Fipy is used to solve the boundary value problem using a finite volume scheme\n",
    "# You may have to install it if you don't have it using:\n",
    "# RUN THIS BLOCK IF YOU HAVEN'T INSTALLED fipy yet\n",
    "!pip install fipy"
   ]
  },
  {
   "cell_type": "code",
   "execution_count": null,
   "metadata": {},
   "outputs": [],
   "source": []
  }
 ],
 "metadata": {
  "kernelspec": {
   "display_name": "Python 3",
   "language": "python",
   "name": "python3"
  },
  "language_info": {
   "codemirror_mode": {
    "name": "ipython",
    "version": 3
   },
   "file_extension": ".py",
   "mimetype": "text/x-python",
   "name": "python",
   "nbconvert_exporter": "python",
   "pygments_lexer": "ipython3",
   "version": "3.7.7"
  }
 },
 "nbformat": 4,
 "nbformat_minor": 2
}
