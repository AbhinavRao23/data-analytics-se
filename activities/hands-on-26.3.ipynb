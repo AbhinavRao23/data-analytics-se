{
 "cells": [
  {
   "cell_type": "code",
   "execution_count": 2,
   "metadata": {},
   "outputs": [],
   "source": [
    "import numpy as np\n",
    "import scipy.stats as st\n",
    "import matplotlib.pyplot as plt\n",
    "%matplotlib inline\n",
    "import seaborn as sns\n",
    "sns.set_context('paper')\n",
    "sns.set_style('white')\n",
    "# A helper function for downloading files\n",
    "import requests\n",
    "import os\n",
    "def download(url, local_filename=None):\n",
    "    \"\"\"\n",
    "    Downloads the file in the ``url`` and saves it in the current working directory.\n",
    "    \"\"\"\n",
    "    data = requests.get(url)\n",
    "    if local_filename is None:\n",
    "        local_filename = os.path.basename(url)\n",
    "    with open(local_filename, 'wb') as fd:\n",
    "        fd.write(data.content)"
   ]
  },
  {
   "cell_type": "markdown",
   "metadata": {},
   "source": [
    "# Hands-on Activity 26.3 (Physics-informed regularization: Solving uncertainty propagation problems) \n",
    "\n",
    "## Objectives\n",
    "\n",
    "+ Learn how to solve stochastic PDEs with neural networks.\n"
   ]
  },
  {
   "cell_type": "code",
   "execution_count": 4,
   "metadata": {},
   "outputs": [],
   "source": [
    "import numpy as np\n",
    "import torch\n",
    "import torch.nn as nn\n",
    "\n",
    "# This is useful for taking derivatives:\n",
    "def grad(outputs, inputs):\n",
    "    return torch.autograd.grad(outputs, inputs, grad_outputs=torch.ones_like(outputs), create_graph=True)[0]"
   ]
  },
  {
   "cell_type": "markdown",
   "metadata": {},
   "source": [
    "## Solving stochastic PDEs\n",
    "\n",
    "Consider the boundary value problem we introduced back in [Hands-on Activity 10.4](http://localhost:8888/notebooks/me597/data-analytics-se/activities/hands-on-10.4.ipynb). We have a heterogeneous rod with no heat sources.\n",
    "The temperature of the rod is governed by the steady state heat equation on:\n",
    "$$\n",
    "\\frac{d}{dx}\\left(c(x,\\xi)\\frac{d}{dx}T(x,\\xi)\\right) = 0,\n",
    "$$\n",
    "for $x$ between $0$ and $1~\\;\\mbox{m}$ and boundary values:\n",
    "$$\n",
    "T(0) = 400^\\circ\\mbox{C}\\;\\mbox{and}\\;T(1~\\mbox{m}) = 4^\\circ\\mbox{C}.\n",
    "$$\n",
    "We are interested in cases in which we are uncertain about the conductivity, $c(x,\\xi)$.\n",
    "Here $\\xi$ captures all the information that you need to specify the conductivity.\n",
    "Let's recall the model we used for the conductivity back in 10.4:"
   ]
  },
  {
   "cell_type": "markdown",
   "metadata": {},
   "source": [
    "Change units:\n",
    "$$\n",
    "\\hat{T} = \\frac{T}{T_0}.\n",
    "$$\n",
    "Then:\n",
    "$$\n",
    "\\frac{d\\hat{T}}{dx} = \\frac{dT}{dx}T_0^{-1}\n",
    "$$"
   ]
  },
  {
   "cell_type": "code",
   "execution_count": 258,
   "metadata": {},
   "outputs": [],
   "source": [
    "class Rod(object):\n",
    "    \n",
    "    \"\"\"\n",
    "    A class representing a rod made out of different materials.\n",
    "    \n",
    "    Arguments:\n",
    "    \n",
    "    segment_coords   -   Coordinates of the segments (both left and right). Total N + 1\n",
    "                         if segments are N.\n",
    "    mat_id           -   The material ids on each segment. Total N. Values must start\n",
    "                         at 0 and go sequential to the maximum number of materials\n",
    "                         we have on the rod.\n",
    "    mat_cond         -   The conductivity associaed with each unique material id.\n",
    "    \"\"\"\n",
    "    \n",
    "    def __init__(self, segment_coords, mat_id, mat_cond):\n",
    "        # Save segments for later\n",
    "        self.segment_coords = np.sort(segment_coords)\n",
    "        # The total number of segments\n",
    "        self.num_segments = self.segment_coords.shape[0] - 1\n",
    "        # Save the material id on each segment for later\n",
    "        self.mat_id = mat_id\n",
    "        # The number of unique materials\n",
    "        self.num_mat = len(np.unique(self.mat_id))\n",
    "        # The conductivity on each segment\n",
    "        self.segment_cond = np.array([mat_cond[m] for m in mat_id])\n",
    "        \n",
    "    def _get_conductivity(self, x):\n",
    "        \"\"\"\n",
    "        Evaluate the conductivity at location x, assuming x is a scalar.\n",
    "        \"\"\"\n",
    "        # Find the segment that contains x\n",
    "        for i in range(self.num_segments):\n",
    "            if self.segment_coords[i] <= x and x <= self.segment_coords[i + 1]:\n",
    "                return self.segment_cond[i]\n",
    "            \n",
    "    def get_conductivity(self, x):\n",
    "        \"\"\"\n",
    "        Evaluate the conductivity at location x. This works when x is a scalar or\n",
    "        a numpy array.\n",
    "        \"\"\"\n",
    "        if isinstance(x, float):\n",
    "            return self._get_conductivity(x)\n",
    "        # This checks if x is a numpy array. The function will fail other wise.\n",
    "        assert isinstance(x, np.ndarray)\n",
    "        # And it will only work with 1D arrays\n",
    "        assert x.ndim == 1\n",
    "        # This evaluates the conductivity at all the elements of x and returns\n",
    "        # a numpy array\n",
    "        return np.array([self._get_conductivity(xx) for xx in x])\n",
    "    \n",
    "    def __repr__(self):\n",
    "        \"\"\"\n",
    "        Get a string representation of the rod.\n",
    "        \"\"\"\n",
    "        s = 'SEGID\\tLeft\\tRight\\tMat.\\tCond.\\n'\n",
    "        s += '-' * 37 + '\\n'\n",
    "        for i in range(self.num_segments):\n",
    "            s += ' {0:d}\\t{1:1.2f}\\t{2:1.2f}\\t{3:d}\\t{4:1.2f}\\n'.format(i, segment_coords[i],\n",
    "                                                                 segment_coords[i+1],\n",
    "                                                                 material_on_each_segment[i],\n",
    "                                                                 segment_cond[i])\n",
    "        return s\n",
    "    \n",
    "    def plot(self, ax=None):\n",
    "        \"\"\"\n",
    "        Plots the bar. Returns the axes object on which the rod is plot.\n",
    "        \n",
    "        Arguments:\n",
    "        \n",
    "        ax    -    An axes object to plot on. If not given, a new one will be created.\n",
    "        \"\"\"\n",
    "        from matplotlib.patches import Rectangle\n",
    "        if ax is None:\n",
    "            fig, ax = plt.subplots()\n",
    "        for i in range(self.num_segments):\n",
    "            mat_segment = Rectangle((self.segment_coords[i], -0.1), \n",
    "                                    width=self.segment_coords[i+1] - self.segment_coords[i],\n",
    "                                    height=0.1, color=sns.color_palette()[self.mat_id[i]])\n",
    "            ax.add_patch(mat_segment)\n",
    "        ax.set_ylim(-0.1, 1.1)\n",
    "        return ax\n",
    "    \n",
    "\n",
    "class RandomRod(object):\n",
    "    \n",
    "    \"\"\"\n",
    "    A class modeling a random rod.\n",
    "    \n",
    "    Arguments:\n",
    "    \n",
    "    av_num_segments    -    The ``rate`` of the Poisson distribution giving\n",
    "                            the number of segments.\n",
    "    mat_probs          -    The probabilities of the categorical specifying\n",
    "                            each material goes on each segment.\n",
    "    mat_cond         -   The conductivity associaed with each unique material id.\n",
    "    \"\"\"\n",
    "    \n",
    "    def __init__(self, av_num_segments, mat_probs, mat_cond):\n",
    "        # Save some info internally for later usage\n",
    "        self.av_num_segments = av_num_segments\n",
    "        self.mat_probs = mat_probs\n",
    "        self.mat_cond = mat_cond\n",
    "        # Make the Poisson variable corresponding to the number of segments\n",
    "        self.D = st.poisson(av_num_segments)\n",
    "        # Make the Uniform giving the location of the segment coordinates\n",
    "        self.U = st.uniform()\n",
    "        # Make the Categorical random variable that allows us to pick the material\n",
    "        # id on each segment\n",
    "        self.M = st.rv_discrete(name='M', values=(np.arange(len(mat_probs)), mat_probs))\n",
    "        \n",
    "    def _rvs(self):\n",
    "        \"\"\"\n",
    "        Generate a single random rod.\n",
    "        \"\"\"\n",
    "        # Draw the number of segments\n",
    "        d = self.D.rvs()\n",
    "        # Draw the coordinates\n",
    "        segment_coords = np.hstack([[0.0], np.sort(self.U.rvs(size=d - 1)), [1.0]])\n",
    "        # Draw the material type on each segment\n",
    "        mat_ids = self.M.rvs(size=d)\n",
    "        # Generate the rod\n",
    "        return Rod(segment_coords, mat_ids, self.mat_cond)\n",
    "    \n",
    "    def rvs(self, size=1):\n",
    "        \"\"\"\n",
    "        Generate many random rods.\n",
    "        \"\"\"\n",
    "        if size == 1:\n",
    "            return self._rvs()\n",
    "        return [self._rvs() for _ in range(size)]"
   ]
  },
  {
   "cell_type": "code",
   "execution_count": 259,
   "metadata": {},
   "outputs": [
    {
     "data": {
      "image/png": "[encoded data removed]",
      "text/plain": [
       "<Figure size 300x200 with 1 Axes>"
      ]
     },
     "metadata": {},
     "output_type": "display_data"
    },
    {
     "data": {
      "image/png": "[encoded data removed]",
      "text/plain": [
       "<Figure size 300x200 with 1 Axes>"
      ]
     },
     "metadata": {},
     "output_type": "display_data"
    },
    {
     "data": {
      "image/png": "[encoded data removed]",
      "text/plain": [
       "<Figure size 300x200 with 1 Axes>"
      ]
     },
     "metadata": {},
     "output_type": "display_data"
    },
    {
     "data": {
      "image/png": "[encoded data removed]",
      "text/plain": [
       "<Figure size 300x200 with 1 Axes>"
      ]
     },
     "metadata": {},
     "output_type": "display_data"
    },
    {
     "data": {
      "image/png": "[encoded data removed]",
      "text/plain": [
       "<Figure size 300x200 with 1 Axes>"
      ]
     },
     "metadata": {},
     "output_type": "display_data"
    }
   ],
   "source": [
    "# Create the random rod object\n",
    "R = RandomRod(20,         # The number of segments\n",
    "              [0.3, 0.7],  # The concentration of each material\n",
    "              [0.045, 38.0])  # The thermal conductivity of each material\n",
    "# Let's sample a few of them and plot them\n",
    "for n in range(5):\n",
    "    fig, ax = plt.subplots(dpi=50)\n",
    "    R.rvs().plot(ax=ax)"
   ]
  },
  {
   "cell_type": "markdown",
   "metadata": {},
   "source": [
    "We also had a solver for the equation for random rods.\n",
    "Let's bring it back."
   ]
  },
  {
   "cell_type": "code",
   "execution_count": 260,
   "metadata": {},
   "outputs": [
    {
     "name": "stdout",
     "output_type": "stream",
     "text": [
      "Requirement already satisfied: fipy in /Users/iliasbilionis/opt/anaconda3/lib/python3.7/site-packages (3.3)\n",
      "Requirement already satisfied: numpy in /Users/iliasbilionis/opt/anaconda3/lib/python3.7/site-packages (from fipy) (1.18.1)\n",
      "Requirement already satisfied: scipy in /Users/iliasbilionis/opt/anaconda3/lib/python3.7/site-packages (from fipy) (1.4.1)\n",
      "Requirement already satisfied: matplotlib in /Users/iliasbilionis/opt/anaconda3/lib/python3.7/site-packages (from fipy) (3.1.3)\n",
      "Requirement already satisfied: future in /Users/iliasbilionis/opt/anaconda3/lib/python3.7/site-packages (from fipy) (0.18.2)\n",
      "Requirement already satisfied: pyparsing!=2.0.4,!=2.1.2,!=2.1.6,>=2.0.1 in /Users/iliasbilionis/opt/anaconda3/lib/python3.7/site-packages (from matplotlib->fipy) (2.4.6)\n",
      "Requirement already satisfied: cycler>=0.10 in /Users/iliasbilionis/opt/anaconda3/lib/python3.7/site-packages (from matplotlib->fipy) (0.10.0)\n",
      "Requirement already satisfied: kiwisolver>=1.0.1 in /Users/iliasbilionis/opt/anaconda3/lib/python3.7/site-packages (from matplotlib->fipy) (1.1.0)\n",
      "Requirement already satisfied: python-dateutil>=2.1 in /Users/iliasbilionis/opt/anaconda3/lib/python3.7/site-packages (from matplotlib->fipy) (2.8.1)\n",
      "Requirement already satisfied: six in /Users/iliasbilionis/opt/anaconda3/lib/python3.7/site-packages (from cycler>=0.10->matplotlib->fipy) (1.14.0)\n",
      "Requirement already satisfied: setuptools in /Users/iliasbilionis/opt/anaconda3/lib/python3.7/site-packages (from kiwisolver>=1.0.1->matplotlib->fipy) (46.1.1.post20200323)\n"
     ]
    }
   ],
   "source": [
    "# Fipy is used to solve the boundary value problem using a finite volume scheme\n",
    "# You may have to install it if you don't have it using:\n",
    "# RUN THIS BLOCK IF YOU HAVEN'T INSTALLED fipy yet\n",
    "!pip install fipy"
   ]
  },
  {
   "cell_type": "code",
   "execution_count": 261,
   "metadata": {},
   "outputs": [],
   "source": [
    "import fipy\n",
    "\n",
    "class SteadyStateHeat1DSolver(object):\n",
    "    \n",
    "    \"\"\"\n",
    "    Solves the 1D steady state heat equation with dirichlet boundary conditions.\n",
    "    It uses the stochastic model we developed above to define the random conductivity.\n",
    "    \n",
    "    Arguments:\n",
    "    nx          -    Number of grid points\n",
    "    value_left  -    The value at the left side of the boundary.\n",
    "    value_right -    The value at the right side of the boundary.\n",
    "    \"\"\"\n",
    "    \n",
    "    def __init__(self, nx=500, value_left=1.0, value_right=0):\n",
    "        self.nx = nx\n",
    "        self.dx = 1. / nx\n",
    "        # A computational mesh with nx elements\n",
    "        self.mesh = fipy.Grid1D(nx=self.nx, dx=self.dx)\n",
    "        # A variable that represents that temperature on the mesh\n",
    "        self.phi = fipy.CellVariable(name='$T(x)$', mesh=self.mesh, value=0.)\n",
    "        # A variable that represents the thermal conductivity\n",
    "        self.C = fipy.FaceVariable(name='$C(x)$', mesh=self.mesh, value=1.)\n",
    "        # The constrain on the left boundary\n",
    "        self.phi.constrain(value_left, self.mesh.facesLeft)\n",
    "        # The constrain on the right boundary\n",
    "        self.phi.constrain(value_right, self.mesh.facesRight)\n",
    "        # The The diffusion term\n",
    "        self.eq = fipy.DiffusionTerm(coeff=self.C)\n",
    "        \n",
    "    def __call__(self, rod):\n",
    "        \"\"\"\n",
    "        Evaluates the code at a specific xi.\n",
    "        \"\"\"\n",
    "        # Find the values of the mesh points\n",
    "        x = self.mesh.faceCenters.value.flatten()\n",
    "        # Evaluate the conductivity on these points using the rod model\n",
    "        cond_val = rod.get_conductivity(x)\n",
    "        # Update conductivity values in the equation\n",
    "        self.C.setValue(cond_val)\n",
    "        # Solve the equation\n",
    "        self.eq.solve(var=self.phi)\n",
    "        # Return the solution\n",
    "        return x, self.phi.faceValue()"
   ]
  },
  {
   "cell_type": "markdown",
   "metadata": {},
   "source": [
    "And recall here, that the solver is used as follows:"
   ]
  },
  {
   "cell_type": "code",
   "execution_count": 262,
   "metadata": {},
   "outputs": [
    {
     "data": {
      "image/png": "[encoded data removed]",
      "text/plain": [
       "<Figure size 300x200 with 2 Axes>"
      ]
     },
     "metadata": {},
     "output_type": "display_data"
    },
    {
     "data": {
      "image/png": "[encoded data removed]",
      "text/plain": [
       "<Figure size 300x200 with 2 Axes>"
      ]
     },
     "metadata": {},
     "output_type": "display_data"
    }
   ],
   "source": [
    "solver = SteadyStateHeat1DSolver(nx=500)\n",
    "for i in range(2):\n",
    "    fig, ax = plt.subplots(dpi=50)\n",
    "    rod = R.rvs()\n",
    "    x, y = solver(rod)\n",
    "    # plot the rod\n",
    "    rod.plot(ax=ax)\n",
    "    # Get rid of the y ticks for the rod\n",
    "    ax.set_yticks([])\n",
    "    # Get another axis to plot the temperature\n",
    "    ax1 = ax.twinx()\n",
    "    # Make sure the ticks for this axis are on the left\n",
    "    ax1.yaxis.tick_left()\n",
    "    # Same for the label\n",
    "    ax1.yaxis.set_label_position(\"left\")\n",
    "    # Plot the temperature\n",
    "    ax1.plot(x, y, 'r', lw=1)\n",
    "    ax.set_xlabel('$x$ (m)')\n",
    "    ax1.set_ylabel(r'$T(x)\\;(^\\circ C)$');"
   ]
  },
  {
   "cell_type": "markdown",
   "metadata": {},
   "source": [
    "Alright. Now that we have recalled where we were, let's get back to physics informed neural network.\n",
    "We will use one to learn the temperature $T(x,\\xi)$ as a function of any thermal conductivity captured by $\\xi$.\n",
    "What exactly do we mean by $\\xi$ here? We mean the rod conductivity. But we would have to pick a fixed dimensional parameterization of the rod conductivity.\n",
    "The way we will achieve this is by assuming that the conductivity is always sampled on the same spatial positions.\n",
    "Here is how:"
   ]
  },
  {
   "cell_type": "code",
   "execution_count": 263,
   "metadata": {},
   "outputs": [
    {
     "name": "stdout",
     "output_type": "stream",
     "text": [
      "[-3.10109279 -3.10109279 -3.10109279  3.63758616  3.63758616  3.63758616\n",
      "  3.63758616  3.63758616  3.63758616  3.63758616  3.63758616  3.63758616\n",
      "  3.63758616  3.63758616  3.63758616  3.63758616  3.63758616  3.63758616\n",
      "  3.63758616 -3.10109279  3.63758616  3.63758616  3.63758616  3.63758616\n",
      "  3.63758616  3.63758616  3.63758616  3.63758616  3.63758616  3.63758616\n",
      "  3.63758616  3.63758616  3.63758616  3.63758616  3.63758616  3.63758616\n",
      "  3.63758616  3.63758616  3.63758616  3.63758616  3.63758616  3.63758616\n",
      "  3.63758616  3.63758616  3.63758616  3.63758616  3.63758616  3.63758616\n",
      "  3.63758616  3.63758616  3.63758616  3.63758616  3.63758616  3.63758616\n",
      "  3.63758616  3.63758616  3.63758616  3.63758616  3.63758616  3.63758616\n",
      "  3.63758616  3.63758616  3.63758616  3.63758616  3.63758616  3.63758616\n",
      "  3.63758616  3.63758616  3.63758616  3.63758616  3.63758616  3.63758616\n",
      "  3.63758616  3.63758616  3.63758616  3.63758616  3.63758616  3.63758616\n",
      "  3.63758616  3.63758616  3.63758616 -3.10109279 -3.10109279 -3.10109279\n",
      " -3.10109279 -3.10109279 -3.10109279 -3.10109279 -3.10109279 -3.10109279\n",
      " -3.10109279 -3.10109279 -3.10109279 -3.10109279 -3.10109279 -3.10109279\n",
      " -3.10109279 -3.10109279 -3.10109279 -3.10109279]\n"
     ]
    }
   ],
   "source": [
    "# Here are the fixed spatial positions on which we will be sampling the conductivity\n",
    "xs = np.linspace(0, 1, 100)\n",
    "# Here is a random rod\n",
    "rod = R.rvs()\n",
    "# And here is the discretization as 500-dimensional vector\n",
    "xi = np.log(rod.get_conductivity(xs))\n",
    "# Here it is\n",
    "print(xi)"
   ]
  },
  {
   "cell_type": "markdown",
   "metadata": {},
   "source": [
    "Notice that I took the log of the conductivity because the neural network will like it more...\n",
    "\n",
    "Now that we have $\\xi$, let's introduce our parameteterization of the temperature using a neural network.\n",
    "We need to make sure that the left and right boundary conditions are satisfied.\n",
    "We will take it to be:\n",
    "$$\n",
    "T(x,\\xi) = A(x) + x(1-x)N(x,\\xi;\\theta),\n",
    "$$\n",
    "where $A(x)$ must be picked so that the boundary conditions are satisfied, and $N(x,\\xi;\\theta)$ is a neural network with parameters $\\theta$.\n",
    "\n",
    "Here is the simplest such choice for the boundary function:\n",
    "$$\n",
    "A(x) = T_0 + (T_1-T_0)x,\n",
    "$$\n",
    "where $T_0 = T(0)$ and $T_1 = T(1)$.\n",
    "That was easy...\n",
    "\n",
    "Finally, we need to specify what is the loss function we should be minimizing.\n",
    "We are going to use this the expectation of the Dirichlet principle (energy):\n",
    "$$\n",
    "L(\\theta) = \\frac{1}{2}\\mathbb{E}_{\\xi}\\left[\\int_0^1 \\parallel c(x,\\xi)\\nabla_x T(x,\\xi)\\parallel^2dx\\right].\n",
    "$$\n",
    "Okay, let's do it."
   ]
  },
  {
   "cell_type": "code",
   "execution_count": 241,
   "metadata": {},
   "outputs": [],
   "source": [
    "import torch.nn.functional as F\n",
    "\n",
    "# left boundary\n",
    "T0 = 1.0\n",
    "# right boundary\n",
    "T1 = 0.0\n",
    "\n",
    "# The number of xi's we are going to have\n",
    "num_xi = xs.shape[0]\n",
    "\n",
    "# The part for satisfying the boundary\n",
    "A = lambda x: T0 + (T1 - T0) * x\n",
    "\n",
    "# And the neural network\n",
    "class NNModel(nn.Module):\n",
    "    \n",
    "    def __init__(self, num_xi=100, num_resnet_blocks=3,\n",
    "                 num_layers_per_block=2, num_neurons=200):\n",
    "        super(NNModel, self).__init__()\n",
    "        self.num_resnet_blocks = num_resnet_blocks\n",
    "        self.num_layers_per_block = num_layers_per_block\n",
    "        self.num_neurons = num_neurons\n",
    "        self.first = nn.Linear(1 + num_xi, num_neurons)\n",
    "        self.resblocks = [\n",
    "            [nn.Linear(num_neurons, num_neurons)\n",
    "             for __ in range(num_layers_per_block)]\n",
    "            for _ in range(num_resnet_blocks)\n",
    "        ]\n",
    "        self.last = nn.Linear(num_neurons, 1)\n",
    "    \n",
    "    def forward(self, x, xi):\n",
    "        \"\"\"\n",
    "        Assume that xi and x have the same first dimension.\n",
    "        \"\"\"\n",
    "        #expanded_xi = xi.expand((x.shape[0], -1))\n",
    "        x_xi = torch.cat((x, xi), dim=1)\n",
    "        o = F.relu(self.first(x_xi))\n",
    "        for i in range(self.num_resnet_blocks):\n",
    "            z = F.relu(self.resblocks[i][0](o))\n",
    "            for j in range(1, self.num_layers_per_block):\n",
    "                z = F.relu(self.resblocks[i][j](z))\n",
    "            o = z + o\n",
    "        out = self.last(o)\n",
    "        return out\n",
    "    \n",
    "# And here is an instance of the net\n",
    "N = NNModel(num_xi)\n",
    "\n",
    "# Here is our model for T\n",
    "T = lambda x, xi: A(x) + x * (1 - x) * N(x, xi)\n",
    "\n",
    "# The conductivity model\n",
    "dx = xs[1] - xs[0]\n",
    "c = lambda x, xi: torch.exp(xi[:, torch.floor(x / dx).long().flatten()])\n",
    "\n",
    "# The loss function\n",
    "def loss(x, Xi, c_vals): \n",
    "    x.requires_grad = True\n",
    "    return torch.mean((c_vals * grad(T(x, Xi), x)) ** 2)"
   ]
  },
  {
   "cell_type": "code",
   "execution_count": 243,
   "metadata": {},
   "outputs": [
    {
     "data": {
      "text/plain": [
       "torch.Size([100, 1])"
      ]
     },
     "execution_count": 243,
     "metadata": {},
     "output_type": "execute_result"
    }
   ],
   "source": [
    "xi = torch.Tensor(np.log(rod.get_conductivity(xs)))[None, :]\n",
    "xst = torch.Tensor(xs)[:, None]\n",
    "Xi = xi.expand((xst.shape[0], -1))\n",
    "T(xst, Xi).shape"
   ]
  },
  {
   "cell_type": "code",
   "execution_count": 244,
   "metadata": {},
   "outputs": [
    {
     "data": {
      "image/png": "[encoded data removed]",
      "text/plain": [
       "<Figure size 600x400 with 1 Axes>"
      ]
     },
     "metadata": {},
     "output_type": "display_data"
    }
   ],
   "source": [
    "fig, ax = plt.subplots(dpi=100)\n",
    "ax.plot(xs, T(xst, Xi).detach().numpy());"
   ]
  },
  {
   "cell_type": "code",
   "execution_count": 256,
   "metadata": {},
   "outputs": [
    {
     "name": "stdout",
     "output_type": "stream",
     "text": [
      "torch.Size([100, 1])\n",
      "torch.Size([100, 100])\n"
     ]
    },
    {
     "data": {
      "text/plain": [
       "torch.Size([1, 100])"
      ]
     },
     "execution_count": 256,
     "metadata": {},
     "output_type": "execute_result"
    }
   ],
   "source": [
    "# We need to get the values of the conductivity at each one of the\n",
    "# values\n",
    "print(xst.shape)\n",
    "print(Xi.shape)\n",
    "# c_vals must be 100 x 1\n",
    "c(xst, xi).shape"
   ]
  },
  {
   "cell_type": "code",
   "execution_count": 267,
   "metadata": {},
   "outputs": [
    {
     "name": "stdout",
     "output_type": "stream",
     "text": [
      "torch.Size([16, 1])\n",
      "torch.Size([128, 16])\n",
      "tensor([ 0.0450,  0.0450,  0.0450, 38.0000, 38.0000,  0.0450, 38.0000, 38.0000,\n",
      "         0.0450,  0.0450,  0.0450, 38.0000, 38.0000, 38.0000, 38.0000, 38.0000])\n"
     ]
    }
   ],
   "source": [
    "# Let's see now if a stochastic optimizer makes a difference\n",
    "adam = torch.optim.Adam(N.parameters(), lr=0.0001)\n",
    "\n",
    "# The batch size you want to use (how many points to use per iteration)\n",
    "n_batch_x = 16\n",
    "\n",
    "n_batch_xi = 128\n",
    "\n",
    "# The maximum number of iterations to do\n",
    "max_it = 10000\n",
    "\n",
    "losses = []\n",
    "for i in range(max_it):\n",
    "    # Randomly pick n_batch random x's:\n",
    "    xst = torch.rand(n_batch_x, 1)\n",
    "    # Randomly pick conductivities\n",
    "    xis = torch.Tensor([np.log(R.rvs().get_conductivity(xs))\n",
    "                        for _ in range(n_batch_xi)])\n",
    "    # The conductivities at the xst locations for all these xis\n",
    "    c_vals = c(xst, xis)\n",
    "    # Now reconcile all dimensions so that we can put together\n",
    "    # the loss\n",
    "    # Repeat the locations\n",
    "    Xst = torch.\n",
    "    break\n",
    "    # Zero-out the gradient buffers\n",
    "    adam.zero_grad()\n",
    "    # Evaluate the loss\n",
    "    l = loss(x, Xi)\n",
    "    # Calculate the gradients\n",
    "    l.backward()\n",
    "    # Update the network\n",
    "    adam.step()\n",
    "    losses.append(l.item())\n",
    "    # Print the iteration number\n",
    "    if i % 100 == 99:\n",
    "        print('{0:5d}: {1:1.2e}'.format(i, l.item()))"
   ]
  },
  {
   "cell_type": "code",
   "execution_count": 229,
   "metadata": {},
   "outputs": [
    {
     "data": {
      "text/plain": [
       "[<matplotlib.lines.Line2D at 0x7f8d1231c750>]"
      ]
     },
     "execution_count": 229,
     "metadata": {},
     "output_type": "execute_result"
    },
    {
     "data": {
      "image/png": "[encoded data removed]",
      "text/plain": [
       "<Figure size 600x400 with 1 Axes>"
      ]
     },
     "metadata": {},
     "output_type": "display_data"
    }
   ],
   "source": [
    "fig, ax = plt.subplots(dpi=100)\n",
    "xi = torch.Tensor(np.log(rod.get_conductivity(xs)))[None, :]\n",
    "xst = torch.Tensor(xs)[:, None]\n",
    "ax.plot(xs, N(xst, xi).detach().numpy())"
   ]
  },
  {
   "cell_type": "code",
   "execution_count": 230,
   "metadata": {},
   "outputs": [
    {
     "data": {
      "text/plain": [
       "[<matplotlib.lines.Line2D at 0x7f8d07ccd450>]"
      ]
     },
     "execution_count": 230,
     "metadata": {},
     "output_type": "execute_result"
    },
    {
     "data": {
      "image/png": "[encoded data removed]",
      "text/plain": [
       "<Figure size 432x288 with 1 Axes>"
      ]
     },
     "metadata": {},
     "output_type": "display_data"
    }
   ],
   "source": [
    "plt.plot(losses)"
   ]
  },
  {
   "cell_type": "code",
   "execution_count": null,
   "metadata": {},
   "outputs": [],
   "source": []
  }
 ],
 "metadata": {
  "kernelspec": {
   "display_name": "Python 3",
   "language": "python",
   "name": "python3"
  },
  "language_info": {
   "codemirror_mode": {
    "name": "ipython",
    "version": 3
   },
   "file_extension": ".py",
   "mimetype": "text/x-python",
   "name": "python",
   "nbconvert_exporter": "python",
   "pygments_lexer": "ipython3",
   "version": "3.7.7"
  }
 },
 "nbformat": 4,
 "nbformat_minor": 2
}
