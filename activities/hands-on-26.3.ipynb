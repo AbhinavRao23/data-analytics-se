{
 "cells": [
  {
   "cell_type": "markdown",
   "metadata": {},
   "source": [
    "# Artifical Neural Netowrks for Solving Ordinary and Partial Differential Equations\n",
    "\n",
    "by I. E. Lagaris et al.\n",
    "\n",
    "This notebook replicates the result of [Lagaris et al. 2017)](https://arxiv.org/pdf/physics/9705023.pdf)."
   ]
  },
  {
   "cell_type": "code",
   "execution_count": 89,
   "metadata": {},
   "outputs": [],
   "source": [
    "import matplotlib.pyplot as plt\n",
    "%matplotlib inline\n",
    "import numpy as np\n",
    "import torch\n",
    "import torch.nn as nn\n",
    "\n",
    "# This is useful for taking derivatives:\n",
    "def grad(outputs, inputs):\n",
    "    return torch.autograd.grad(outputs, inputs, grad_outputs=torch.ones_like(outputs), create_graph=True)[0]"
   ]
  },
  {
   "cell_type": "markdown",
   "metadata": {},
   "source": [
    "## Example 1: Single ODE\n",
    "\n",
    "Consider the ode:\n",
    "$$\n",
    "\\frac{d\\Psi}{dx} = f(x, \\Psi),\n",
    "$$\n",
    "with $x \\in [0,1]$ and initial conditions (IC):\n",
    "$$\n",
    "\\Psi(0) = A.\n",
    "$$\n",
    "We write the trial solution by:\n",
    "$$\n",
    "\\Psi_t(x; \\theta) = A + x N(x; \\theta),\n",
    "$$\n",
    "where $N(x; theta)$ is a neural network (NN).\n",
    "The loss function we would like to minimize to train the NN is:\n",
    "$$\n",
    "L(\\theta) = \\int_0^1 \\left[\\frac{d\\Psi_t(x;\\theta)}{dx} - f(x_i,\\Psi_t(x;\\theta))\\right]^2dx.\n",
    "$$"
   ]
  },
  {
   "cell_type": "code",
   "execution_count": 4,
   "metadata": {},
   "outputs": [],
   "source": [
    "# N is a Neural Network - This is exactly the network used by Lagaris et al. 1997\n",
    "N = nn.Sequential(nn.Linear(1, 10), nn.Sigmoid(), nn.Linear(10,1, bias=False))\n",
    "\n",
    "# Initial condition\n",
    "A = 0.\n",
    "\n",
    "# The Psi_t function\n",
    "Psi_t = lambda x: A + x * N(x)\n",
    "\n",
    "# The right hand side function\n",
    "f = lambda x, Psi: torch.exp(-x / 5.0) * torch.cos(x) - Psi / 5.0\n",
    "\n",
    "# The loss function\n",
    "def loss(x):\n",
    "    x.requires_grad = True\n",
    "    outputs = Psi_t(x)\n",
    "    Psi_t_x = torch.autograd.grad(outputs, x, grad_outputs=torch.ones_like(outputs),\n",
    "                                  create_graph=True)[0]\n",
    "    return torch.mean((Psi_t_x - f(x, outputs)) ** 2)"
   ]
  },
  {
   "cell_type": "code",
   "execution_count": 5,
   "metadata": {},
   "outputs": [
    {
     "name": "stdout",
     "output_type": "stream",
     "text": [
      "loss: 0.4335455000400543\n",
      "loss: 0.5343429446220398\n",
      "loss: 0.34412989020347595\n",
      "loss: 0.31067609786987305\n",
      "loss: 0.08582349121570587\n",
      "loss: 0.008198630064725876\n",
      "loss: 0.0016247667372226715\n",
      "loss: 0.0012700955849140882\n",
      "loss: 0.0012624918017536402\n",
      "loss: 0.0012373499339446425\n",
      "loss: 0.0008719113538973033\n",
      "loss: 0.0005360014038160443\n",
      "loss: 0.0003214187454432249\n",
      "loss: 0.0003028032660949975\n",
      "loss: 0.00030005406006239355\n",
      "loss: 0.00029935460770502687\n",
      "loss: 0.0002982299483846873\n",
      "loss: 0.0002977572730742395\n",
      "loss: 0.00029362665372900665\n",
      "loss: 0.0002853805781342089\n",
      "loss: 0.00025270532933063805\n",
      "loss: 0.03082495927810669\n",
      "loss: 0.00023714068811386824\n",
      "loss: 0.00022418840671889484\n",
      "loss: 8.52536392211914\n",
      "loss: 0.0001725468027871102\n",
      "loss: 0.00015735180932097137\n",
      "loss: 0.00014556446694768965\n",
      "loss: 0.00013589003356173635\n",
      "loss: 0.00010127199493581429\n",
      "loss: 8.925200381781906e-05\n",
      "loss: 8.751245331950486e-05\n",
      "loss: 8.63711247802712e-05\n",
      "loss: 8.28857664600946e-05\n",
      "loss: 7.501343498006463e-05\n",
      "loss: 5.958637848380022e-05\n",
      "loss: 3.852450754493475e-05\n",
      "loss: 1.685826646280475e-05\n",
      "loss: 4.145066668570507e-06\n",
      "loss: 2.6857462671614485e-06\n",
      "loss: 2.6391473966214107e-06\n",
      "loss: 2.6336992959841155e-06\n",
      "loss: 2.6336670089222025e-06\n",
      "loss: 2.6336670089222025e-06\n",
      "loss: 2.6336620067013428e-06\n",
      "loss: 2.6336620067013428e-06\n",
      "loss: 2.6336331302445615e-06\n",
      "loss: 2.6336331302445615e-06\n",
      "loss: 2.633653366501676e-06\n",
      "loss: 2.633653366501676e-06\n",
      "loss: 2.633635403981316e-06\n",
      "loss: 2.633635403981316e-06\n",
      "loss: 2.633631766002509e-06\n",
      "loss: 2.633631766002509e-06\n",
      "loss: 2.6336188057030085e-06\n",
      "loss: 2.6336188057030085e-06\n",
      "loss: 2.6336347218602896e-06\n"
     ]
    },
    {
     "data": {
      "text/plain": [
       "[<matplotlib.lines.Line2D at 0x129fe8978>]"
      ]
     },
     "execution_count": 5,
     "metadata": {},
     "output_type": "execute_result"
    },
    {
     "data": {
      "image/png": "[encoded data removed]",
      "text/plain": [
       "<Figure size 432x288 with 1 Axes>"
      ]
     },
     "metadata": {
      "needs_background": "light"
     },
     "output_type": "display_data"
    }
   ],
   "source": [
    "# Optimize (same algorithm as in Lagaris)\n",
    "optimizer = torch.optim.LBFGS(N.parameters())\n",
    "\n",
    "# The collocation points used by Lagaris\n",
    "x = torch.Tensor(np.linspace(0, 2, 10)[:, None])\n",
    "\n",
    "# Run the optimizer\n",
    "def closure():\n",
    "    optimizer.zero_grad()\n",
    "    l = loss(x)\n",
    "    print('loss:', l.item())\n",
    "    l.backward()\n",
    "    return l\n",
    "    \n",
    "for i in range(10):\n",
    "    optimizer.step(closure)\n",
    "\n",
    "# Let's compare the result to the true solution\n",
    "xx = np.linspace(0, 4, 100)[:, None]\n",
    "with torch.no_grad():\n",
    "    yy = Psi_t(torch.Tensor(xx)).numpy()\n",
    "yt = np.exp(-xx / 5.0) * np.sin(xx)\n",
    "\n",
    "fig, ax = plt.subplots()\n",
    "ax.plot(xx, yt)\n",
    "ax.plot(xx, yy)"
   ]
  },
  {
   "cell_type": "code",
   "execution_count": 6,
   "metadata": {},
   "outputs": [
    {
     "name": "stdout",
     "output_type": "stream",
     "text": [
      "999\n",
      "1999\n",
      "2999\n",
      "3999\n",
      "4999\n",
      "5999\n",
      "6999\n",
      "7999\n",
      "8999\n",
      "9999\n"
     ]
    }
   ],
   "source": [
    "# Let's see now if a stochastic optimizer makes a difference\n",
    "adam = torch.optim.Adam(N.parameters())\n",
    "n_batch = 1\n",
    "\n",
    "def closure():\n",
    "    x = torch.Tensor(2.0 * np.random.rand(n_batch, 1))\n",
    "    adam.zero_grad()\n",
    "    l = loss(x)\n",
    "    #print('loss:', l.item())\n",
    "    l.backward()\n",
    "    return l\n",
    "\n",
    "for i in range(10000):\n",
    "    if i % 1000 == 999:\n",
    "        print(i)\n",
    "    adam.step(closure)"
   ]
  },
  {
   "cell_type": "code",
   "execution_count": 7,
   "metadata": {},
   "outputs": [
    {
     "data": {
      "text/plain": [
       "[<matplotlib.lines.Line2D at 0x12a00cf28>]"
      ]
     },
     "execution_count": 7,
     "metadata": {},
     "output_type": "execute_result"
    },
    {
     "data": {
      "image/png": "[encoded data removed]",
      "text/plain": [
       "<Figure size 432x288 with 1 Axes>"
      ]
     },
     "metadata": {
      "needs_background": "light"
     },
     "output_type": "display_data"
    }
   ],
   "source": [
    "# Let's compare the result to the true solution\n",
    "xx = np.linspace(0, 4, 100)[:, None]\n",
    "with torch.no_grad():\n",
    "    yy = Psi_t(torch.Tensor(xx)).numpy()\n",
    "yt = np.exp(-xx / 5.0) * np.sin(xx)\n",
    "\n",
    "fig, ax = plt.subplots()\n",
    "ax.plot(xx, yt)\n",
    "ax.plot(xx, yy)"
   ]
  },
  {
   "cell_type": "markdown",
   "metadata": {},
   "source": [
    "Let's write some code that will allow us to solve any 1D ODE problem:"
   ]
  },
  {
   "cell_type": "code",
   "execution_count": 74,
   "metadata": {},
   "outputs": [],
   "source": [
    "class DynamicalSystem(object):\n",
    "    \"\"\"\n",
    "    A class representing an initial value problem.\n",
    "    \n",
    "    :param dim:               The dimensionality of the problem.\n",
    "    :param rhs:               The right hand side of the equation.\n",
    "                              This must be a function with signature rhs(t, y)\n",
    "                              where t is time and y is the state of the system.\n",
    "    :param init_conditions:   Initial conditions. Must be a vector of dimension dim.\n",
    "    :param net:               A neural network for representing the solution. This must have\n",
    "                              one-dimensional input and dim-dimensional output.\n",
    "    \"\"\"\n",
    "    \n",
    "    def __init__(self, dim, rhs, init_conditions, net):\n",
    "        assert isinstance(dim, int)\n",
    "        assert dim > 0\n",
    "        self._dim = dim\n",
    "        self._rhs = rhs\n",
    "        if isinstance(init_conditions, float):\n",
    "            init_conditions = np.atleast_1d(init_conditions)\n",
    "        init_conditions = torch.Tensor(init_conditions)\n",
    "        self._init_conditions = init_conditions\n",
    "        self._net = net\n",
    "        self._solution = lambda T: self.init_conditions + T * self.net(T)\n",
    "        \n",
    "    @property\n",
    "    def dim(self):\n",
    "        return self._dim\n",
    "    \n",
    "    @property\n",
    "    def rhs(self):\n",
    "        return self._rhs\n",
    "    \n",
    "    @property\n",
    "    def init_conditions(self):\n",
    "        return self._init_conditions\n",
    "    \n",
    "    @property\n",
    "    def net(self):\n",
    "        return self._net\n",
    "    \n",
    "    @property\n",
    "    def solution(self):\n",
    "        \"\"\"\n",
    "        Return the solution function.\n",
    "        \"\"\"\n",
    "        return self._solution\n",
    "    \n",
    "    def squared_residual_loss(self, T):\n",
    "        \"\"\"\n",
    "        Returns the squared residual loss at times T.\n",
    "        \n",
    "        :param T:    Must be a 1D torch tensor.\n",
    "        \"\"\"\n",
    "        T.requires_grad = True\n",
    "        sol = self.solution(T)\n",
    "        dsol_dt = torch.empty_like(sol)\n",
    "        for d in range(self.dim):\n",
    "            go = torch.zeros_like(sol)\n",
    "            go[:, d] = 1.0\n",
    "            dsol_dt[:, d] = torch.autograd.grad(sol, T, grad_outputs=go,\n",
    "                                                create_graph=True)[0][:, 0]\n",
    "        return torch.mean((dsol_dt - self.rhs(T, sol)) ** 2.)\n",
    "    \n",
    "    def solve_lbfgs(self, T_colloc, max_iter=10):\n",
    "        \"\"\"\n",
    "        Solve the problem by minimizing the squared residual loss.\n",
    "        \n",
    "        :param T_colloc: The collocation points used to solve the problem.\n",
    "        \"\"\"\n",
    "        optimizer = torch.optim.LBFGS(self.net.parameters())\n",
    "\n",
    "        # Run the optimizer\n",
    "        def closure():\n",
    "            optimizer.zero_grad()\n",
    "            l = self.squared_residual_loss(T_colloc)\n",
    "            l.backward()\n",
    "            return l\n",
    "    \n",
    "        for i in range(max_iter):\n",
    "            optimizer.step(closure)"
   ]
  },
  {
   "cell_type": "code",
   "execution_count": 75,
   "metadata": {},
   "outputs": [],
   "source": [
    "# Let's use this class with Problem 2 of Lagaris\n",
    "ex2 = DynamicalSystem(1,\n",
    "                      lambda t, y: torch.exp(-t / 5.0) * torch.cos(t) - y / 5.0,\n",
    "                      0.0,\n",
    "                      nn.Sequential(nn.Linear(1, 10), nn.Sigmoid(), nn.Linear(10,1, bias=False))\n",
    "                      )\n",
    "T_colloc = torch.Tensor(np.linspace(0, 2, 20)[:, None])\n",
    "ex2.solve_lbfgs(T_colloc)"
   ]
  },
  {
   "cell_type": "code",
   "execution_count": 76,
   "metadata": {},
   "outputs": [
    {
     "data": {
      "text/plain": [
       "<matplotlib.legend.Legend at 0x12bb0b908>"
      ]
     },
     "execution_count": 76,
     "metadata": {},
     "output_type": "execute_result"
    },
    {
     "data": {
      "image/png": "[encoded data removed]",
      "text/plain": [
       "<Figure size 432x288 with 1 Axes>"
      ]
     },
     "metadata": {
      "needs_background": "light"
     },
     "output_type": "display_data"
    }
   ],
   "source": [
    "# Now we can evaluate the solution anywhere\n",
    "\n",
    "T = torch.Tensor(np.linspace(0, 4, 100)[:, None])\n",
    "sol = ex2.solution(T)\n",
    "y_true = np.exp(-T / 5.0) * np.sin(T)\n",
    "fig, ax = plt.subplots()\n",
    "ax.plot(T.numpy(), y_true.numpy(), label='True solution')\n",
    "ax.plot(T.numpy(), sol.detach().numpy(), label='Net solution')\n",
    "ax.set_xlabel('$t$')\n",
    "ax.set_ylabel('$y(t)$')\n",
    "plt.legend(loc='best')"
   ]
  },
  {
   "cell_type": "code",
   "execution_count": 77,
   "metadata": {},
   "outputs": [
    {
     "data": {
      "text/plain": [
       "<matplotlib.legend.Legend at 0x12bd9d5c0>"
      ]
     },
     "execution_count": 77,
     "metadata": {},
     "output_type": "execute_result"
    },
    {
     "data": {
      "image/png": "[encoded data removed]",
      "text/plain": [
       "<Figure size 432x288 with 1 Axes>"
      ]
     },
     "metadata": {
      "needs_background": "light"
     },
     "output_type": "display_data"
    }
   ],
   "source": [
    "# Here is another problem - Problem 1 of Lagaris\n",
    "rhs = lambda t, y: t ** 3 + 2 * t + t ** 2 * (1.0 + 3.0 * t ** 2) / (1.0 + t + t ** 3) \\\n",
    "                   -(t + (1.0 + 3.0 * t ** 2) / (1.0 + t + t ** 3)) * y\n",
    "ex1 = DynamicalSystem(1,\n",
    "                      rhs,\n",
    "                      1.0,\n",
    "                      nn.Sequential(nn.Linear(1, 10), nn.Sigmoid(), nn.Linear(10,1, bias=False))\n",
    "                      )\n",
    "T_colloc = torch.Tensor(np.linspace(0, 1, 10)[:, None])\n",
    "ex1.solve_lbfgs(T_colloc)\n",
    "T = torch.Tensor(np.linspace(0, 2, 100)[:, None])\n",
    "sol = ex1.solution(T)\n",
    "y_true = np.exp( -0.5 * T ** 2) / (1.0 + T + T ** 3) + T ** 2\n",
    "fig, ax = plt.subplots()\n",
    "ax.plot(T.numpy(), y_true.numpy(), label='True solution')\n",
    "ax.plot(T.numpy(), sol.detach().numpy(), label='Net solution')\n",
    "ax.set_xlabel('$t$')\n",
    "ax.set_ylabel('$y(t)$')\n",
    "plt.legend(loc='best')"
   ]
  },
  {
   "cell_type": "code",
   "execution_count": 78,
   "metadata": {},
   "outputs": [],
   "source": [
    "# Let's do a 2D problem - Problem 4 of Lagaris\n",
    "def rhs(t, y):\n",
    "    t = torch.flatten(t)\n",
    "    res = torch.empty_like(y)\n",
    "    res[:, 0] = torch.cos(t) + y[:, 0] ** 2 + y[:, 1] - (1.0 + t ** 2 + torch.sin(t) ** 2)\n",
    "    res[:, 1] = 2.0 * t - (1.0 + t ** 2) * torch.sin(t) + y[:, 0] * y[:, 1]\n",
    "    return res\n",
    "ex4 = DynamicalSystem(2,\n",
    "                      rhs,\n",
    "                      torch.Tensor([0.0, 1.0]),\n",
    "                      nn.Sequential(nn.Linear(1, 20), nn.Sigmoid(), nn.Linear(20,2, bias=False))\n",
    "                      )\n",
    "T_colloc = torch.Tensor(np.linspace(0, 3, 10)[:, None])\n",
    "ex4.solve_lbfgs(T_colloc, max_iter=20) # Does not work everytime. Sometimes the optimization fails."
   ]
  },
  {
   "cell_type": "code",
   "execution_count": 79,
   "metadata": {},
   "outputs": [
    {
     "data": {
      "text/plain": [
       "<matplotlib.legend.Legend at 0x12adc1b38>"
      ]
     },
     "execution_count": 79,
     "metadata": {},
     "output_type": "execute_result"
    },
    {
     "data": {
      "image/png": "[encoded data removed]",
      "text/plain": [
       "<Figure size 432x288 with 1 Axes>"
      ]
     },
     "metadata": {
      "needs_background": "light"
     },
     "output_type": "display_data"
    }
   ],
   "source": [
    "T = torch.Tensor(np.linspace(0, 5, 100)[:, None])\n",
    "sol = ex4.solution(T)\n",
    "y1_true = np.sin(T)\n",
    "y2_true = 1.0 + T ** 2\n",
    "fig, ax = plt.subplots()\n",
    "ax.plot(T.numpy(), y1_true.numpy(), label='True solution')\n",
    "ax.plot(T.numpy(), sol.detach().numpy()[:, 0], label='Net solution')\n",
    "ax.plot(T.numpy(), y2_true.numpy(), label='True solution')\n",
    "ax.plot(T.numpy(), sol.detach().numpy()[:, 1], label='Net solution')\n",
    "ax.set_xlabel('$t$')\n",
    "ax.set_ylabel('$y(t)$')\n",
    "plt.legend(loc='best')"
   ]
  },
  {
   "cell_type": "markdown",
   "metadata": {},
   "source": [
    "Now, let's try their approach for PDEs of the form:\n",
    "$$\n",
    "\\frac{\\partial^2}{\\partial x^2}\\Psi(x,y) + \\frac{\\partial^2}{\\partial y^2}\\Psi(x,y) = f(x,y),\n",
    "$$\n",
    "on $(x,y) \\in [0,1]^2$ with Dirichlet boundary conditions:\n",
    "$$\n",
    "\\Psi(0, y) = f_0(y),\n",
    "$$\n",
    "$$\n",
    "\\Psi(1, y) = f_1(y),\n",
    "$$\n",
    "$$\n",
    "\\Psi(x, 0) = g_0(x),\n",
    "$$\n",
    "and\n",
    "$$\n",
    "\\Psi(x, 1) = g_1(x).\n",
    "$$\n",
    "We write:\n",
    "$$\n",
    "\\Psi_t(x,y;\\theta) = A(x,y) + x(1-x)y(1-y)N(x,y;\\theta),\n",
    "$$\n",
    "where $A(x,y)$ is chosen to satisfy the boundary conditions:\n",
    "$$\n",
    "A(x,y) = (1-x)f_0(y) + xf_1(y) + (1-y)\\{g_0(x) - [(1-x)g_0(0)+xg_0(1)]\\} + y\\{g_1(x)-[(1-x)g_1(0) + xg_1(1)]\\}.\n",
    "$$\n",
    "The loss function that we need to minimize is:\n",
    "$$\n",
    "L(\\theta) = \\int_{[0,1]^2} \\left\\{\\frac{\\partial^2}{\\partial x^2}\\Psi(x,y) + \\frac{\\partial^2}{\\partial y^2}\\Psi(x,y) = f(x,y)\\right\\}^2dxdy.\n",
    "$$"
   ]
  },
  {
   "cell_type": "code",
   "execution_count": 80,
   "metadata": {},
   "outputs": [],
   "source": [
    "class PDEProblemDC(object):\n",
    "    \"\"\"\n",
    "    A class representing PDE with DC boundary.\n",
    "    \n",
    "    :param rhs:               The right hand side of the equation.\n",
    "                              This must be a function with signature rhs((x,y))\n",
    "                              where t is time and y is the state of the system.\n",
    "    :param f0:                Left boundary conditon.\n",
    "    :param f1:                Right boundary condition.\n",
    "    :param g0:                Bottom boundary conditon.\n",
    "    :param g1:                Top boundary condition.\n",
    "    :param net:               A neural network for representing the solution. This must have\n",
    "                              two-dimensional input and one-dimensional output.\n",
    "    \"\"\"\n",
    "    \n",
    "    def __init__(self, rhs, f0, f1, g0, g1, net):\n",
    "        self._rhs = rhs\n",
    "        self._f0 = f0\n",
    "        self._f1 = f1\n",
    "        self._g0 = g0\n",
    "        self._g1 = g1\n",
    "        self._net = net\n",
    "        # This implements a function that satisfies the boundary conditions exactly\n",
    "        g00 = self.g0(torch.zeros((1,)))[0]\n",
    "        g01 = self.g0(torch.ones((1,)))[0]\n",
    "        g10 = self.g1(torch.zeros((1,)))[0]\n",
    "        g11 = self.g1(torch.ones((1,)))[0]\n",
    "        def A(x):\n",
    "            res = (1.0 - x[:, 0]) * self.f0(x[:, 1])\n",
    "            res += x[:, 0] * self.f1(x[:, 1])\n",
    "            res += (1.0 - x[:, 1]) * (self.g0(x[:, 0]) - ((1.0 - x[:, 0]) * g00 + x[:, 0] * g01))\n",
    "            res += x[:, 1] * (self.g1(x[:, 0]) - ((1.0 - x[:, 0]) * g10 + x[:, 0] * g11))\n",
    "            return res\n",
    "        self._A = A\n",
    "        self._solution = lambda x: self.A(x) + x[:, 0] * (1.0 - x[:, 0]) * x[:, 1] * (1.0 - x[:, 1]) * self.net(x)[:, 0]\n",
    "    \n",
    "    @property\n",
    "    def rhs(self):\n",
    "        return self._rhs\n",
    "    \n",
    "    @property\n",
    "    def f0(self):\n",
    "        return self._f0\n",
    "    \n",
    "    @property\n",
    "    def f1(self):\n",
    "        return self._f1\n",
    "    \n",
    "    @property\n",
    "    def g0(self):\n",
    "        return self._g0\n",
    "    \n",
    "    @property\n",
    "    def g1(self):\n",
    "        return self._g1\n",
    "    \n",
    "    @property\n",
    "    def A(self):\n",
    "        return self._A\n",
    "    \n",
    "    @property\n",
    "    def net(self):\n",
    "        return self._net\n",
    "    \n",
    "    @property\n",
    "    def solution(self):\n",
    "        \"\"\"\n",
    "        Return the solution function.\n",
    "        \"\"\"\n",
    "        return self._solution\n",
    "    \n",
    "    def squared_residual_loss(self, X):\n",
    "        \"\"\"\n",
    "        Returns the squared residual loss at spatial locations X.\n",
    "        \n",
    "        :param T:    Must be a 1D torch tensor.\n",
    "        \"\"\"\n",
    "        X.requires_grad = True\n",
    "        sol = self.solution(X)\n",
    "        A = self.A(X)\n",
    "        sol_x = grad(sol, X)\n",
    "        # Get the second derivatives\n",
    "        sol_xx = grad(sol_x[:, 0], X)[:, 0]\n",
    "        sol_yy = grad(sol_x[:, 1], X)[:, 1]\n",
    "        rhs = self.rhs(X)\n",
    "        return torch.mean((sol_xx + sol_yy - rhs) ** 2)\n",
    "    \n",
    "    def solve_lbfgs(self, X_colloc, max_iter=10):\n",
    "        \"\"\"\n",
    "        Solve the problem by minimizing the squared residual loss.\n",
    "        \n",
    "        :param T_colloc: The collocation points used to solve the problem.\n",
    "        \"\"\"\n",
    "        optimizer = torch.optim.LBFGS(self.net.parameters())\n",
    "\n",
    "        # Run the optimizer\n",
    "        def closure():\n",
    "            optimizer.zero_grad()\n",
    "            l = self.squared_residual_loss(X_colloc)\n",
    "            l.backward()\n",
    "            return l\n",
    "        for i in range(max_iter):\n",
    "            res = optimizer.step(closure)\n",
    "            print(res)\n",
    "            \n",
    "\n",
    "def plot_contour(ex, true_sol):\n",
    "    xx = np.linspace(0, 1, 64)\n",
    "    X, Y = np.meshgrid(xx, xx)\n",
    "    X_flat = torch.Tensor(np.hstack([X.flatten()[:, None], Y.flatten()[:, None]]))\n",
    "    Z_flat = ex.solution(X_flat).detach().numpy()\n",
    "    Z_t_flat = true_sol(X_flat)\n",
    "    Z_t_flat = Z_t_flat.detach().numpy()\n",
    "    Z = Z_flat.reshape(64, 64)\n",
    "    Z_t = Z_t_flat.reshape(64, 64)\n",
    "    fig, ax = plt.subplots()\n",
    "    c = ax.contourf(X, Y, Z)\n",
    "    plt.colorbar(c)\n",
    "    fig, ax = plt.subplots()\n",
    "    c = ax.contourf(X, Y, Z_t)\n",
    "    plt.colorbar(c)"
   ]
  },
  {
   "cell_type": "code",
   "execution_count": 81,
   "metadata": {
    "scrolled": true
   },
   "outputs": [
    {
     "name": "stdout",
     "output_type": "stream",
     "text": [
      "tensor(0.0663, grad_fn=<MeanBackward0>)\n",
      "tensor(0.0002, grad_fn=<MeanBackward0>)\n",
      "tensor(1.0699e-05, grad_fn=<MeanBackward0>)\n",
      "tensor(1.8027e-06, grad_fn=<MeanBackward0>)\n",
      "tensor(8.5007e-07, grad_fn=<MeanBackward0>)\n",
      "tensor(1.9530e-06, grad_fn=<MeanBackward0>)\n",
      "tensor(3.6752e-07, grad_fn=<MeanBackward0>)\n",
      "tensor(3.6752e-07, grad_fn=<MeanBackward0>)\n",
      "tensor(3.6752e-07, grad_fn=<MeanBackward0>)\n",
      "tensor(3.6752e-07, grad_fn=<MeanBackward0>)\n"
     ]
    }
   ],
   "source": [
    "# Problem 5 of Lagaris\n",
    "rhs = lambda x: torch.exp(-x[:, 0]) * (x[:, 0] - 2.0 + x[:, 1] ** 3 + 6.0 * x[:, 1])\n",
    "f0 = lambda x2: x2 ** 3\n",
    "f1 = lambda x2: (1.0 + x2 ** 3) * np.exp(-1.0)\n",
    "g0 = lambda x1: x1 * torch.exp(-x1)\n",
    "g1 = lambda x1: torch.exp(-x1) * (x1 + 1.0)\n",
    "ex5 = PDEProblemDC(rhs, f0, f1, g0, g1,\n",
    "                   nn.Sequential(nn.Linear(2, 10), nn.Sigmoid(), nn.Linear(10,1, bias=False)))\n",
    "x = np.linspace(0, 1, 10)\n",
    "X, Y = np.meshgrid(x, x)\n",
    "X_flat = torch.Tensor(np.hstack([X.flatten()[:, None], Y.flatten()[:, None]]))\n",
    "ex5.solve_lbfgs(X_flat)"
   ]
  },
  {
   "cell_type": "code",
   "execution_count": 82,
   "metadata": {},
   "outputs": [
    {
     "data": {
      "image/png": "[encoded data removed]",
      "text/plain": [
       "<Figure size 432x288 with 2 Axes>"
      ]
     },
     "metadata": {
      "needs_background": "light"
     },
     "output_type": "display_data"
    },
    {
     "data": {
      "image/png": "[encoded data removed]",
      "text/plain": [
       "<Figure size 432x288 with 2 Axes>"
      ]
     },
     "metadata": {
      "needs_background": "light"
     },
     "output_type": "display_data"
    }
   ],
   "source": [
    "ex5_true_sol = lambda x: torch.exp(-x[:, 0]) * (x[:, 0] + x[:, 1] ** 3)\n",
    "plot_contour(ex5, ex5_true_sol)"
   ]
  },
  {
   "cell_type": "code",
   "execution_count": 88,
   "metadata": {},
   "outputs": [
    {
     "name": "stdout",
     "output_type": "stream",
     "text": [
      "tensor(28.7162, grad_fn=<MeanBackward0>)\n",
      "tensor(28.6921, grad_fn=<MeanBackward0>)\n",
      "tensor(28.6812, grad_fn=<MeanBackward0>)\n",
      "tensor(19.6109, grad_fn=<MeanBackward0>)\n",
      "tensor(6.3334, grad_fn=<MeanBackward0>)\n",
      "tensor(1.3209, grad_fn=<MeanBackward0>)\n",
      "tensor(0.2367, grad_fn=<MeanBackward0>)\n",
      "tensor(0.0365, grad_fn=<MeanBackward0>)\n",
      "tensor(0.0297, grad_fn=<MeanBackward0>)\n",
      "tensor(0.0243, grad_fn=<MeanBackward0>)\n"
     ]
    }
   ],
   "source": [
    "# Problem 6 of Lagaris\n",
    "a = 3.0\n",
    "def rhs(x):\n",
    "    tmp1 = torch.exp(-(a * x[:, 0] + x[:, 1]) / 5.0)\n",
    "    tmp2 = (-4.0 / 5.0 * a ** 3 * x[:, 0] - 2.0 / 5.0 + 2.0 * a ** 2) * torch.cos(a ** 2 * x[:, 0] ** 2 + x[:, 1])\n",
    "    tmp2 += (1.0 / 25.0 - 1.0 - 4.0 * a ** 4 * x[:, 0] ** 2 + a ** 2 / 25.0) * torch.sin(a ** 2 * x[:, 0] ** 2 + x[:, 1])\n",
    "    return tmp1 * tmp2\n",
    "ex6_true_sol = lambda x: torch.exp(-(a * x[:, 0] + x[:, 1]) / 5.0) * torch.sin(a ** 2 * x[:, 0] ** 2 + x[:, 1])\n",
    "f0 = lambda x2: ex6_true_sol(torch.stack((torch.zeros_like(x2), x2), dim=1))\n",
    "f1 = lambda x2: ex6_true_sol(torch.stack((torch.ones_like(x2), x2), dim=1))\n",
    "g0 = lambda x1: ex6_true_sol(torch.stack((x1, torch.zeros_like(x1)), dim=1))\n",
    "g1 = lambda x1: ex6_true_sol(torch.stack((x1, torch.ones_like(x1)), dim=1))\n",
    "net = nn.Sequential(nn.Linear(2, 10), nn.Sigmoid(), nn.Linear(10, 1, bias=False))\n",
    "ex6 = PDEProblemDC(rhs, f0, f1, g0, g1, net)\n",
    "x = np.linspace(0, 1, 10)\n",
    "X, Y = np.meshgrid(x, x)\n",
    "X_flat = torch.Tensor(np.hstack([X.flatten()[:, None], Y.flatten()[:, None]]))\n",
    "ex6.solve_lbfgs(X_flat, max_iter=10) # Does not always work"
   ]
  },
  {
   "cell_type": "code",
   "execution_count": 90,
   "metadata": {},
   "outputs": [
    {
     "data": {
      "image/png": "[encoded data removed]",
      "text/plain": [
       "<Figure size 432x288 with 2 Axes>"
      ]
     },
     "metadata": {
      "needs_background": "light"
     },
     "output_type": "display_data"
    },
    {
     "data": {
      "image/png": "[encoded data removed]",
      "text/plain": [
       "<Figure size 432x288 with 2 Axes>"
      ]
     },
     "metadata": {
      "needs_background": "light"
     },
     "output_type": "display_data"
    }
   ],
   "source": [
    "plot_contour(ex6, ex6_true_sol)"
   ]
  }
 ],
 "metadata": {
  "kernelspec": {
   "display_name": "Python 3",
   "language": "python",
   "name": "python3"
  },
  "language_info": {
   "codemirror_mode": {
    "name": "ipython",
    "version": 3
   },
   "file_extension": ".py",
   "mimetype": "text/x-python",
   "name": "python",
   "nbconvert_exporter": "python",
   "pygments_lexer": "ipython3",
   "version": "3.6.8"
  }
 },
 "nbformat": 4,
 "nbformat_minor": 2
}
