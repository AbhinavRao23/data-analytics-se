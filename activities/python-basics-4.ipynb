{
 "cells": [
  {
   "cell_type": "markdown",
   "metadata": {},
   "source": [
    "# Python Basics 4: Basics of Strings\n",
    "\n",
    "Python ``str``'s (\"str\" stands for \"string\") are used to represent text. Here is a string:"
   ]
  },
  {
   "cell_type": "code",
   "execution_count": null,
   "metadata": {},
   "outputs": [],
   "source": [
    "x = \"This is a string\"\n",
    "x"
   ]
  },
  {
   "cell_type": "markdown",
   "metadata": {},
   "source": [
    "We could have also used double quotes:"
   ]
  },
  {
   "cell_type": "code",
   "execution_count": null,
   "metadata": {},
   "outputs": [],
   "source": [
    "x = 'This is the same string'\n",
    "x"
   ]
  },
  {
   "cell_type": "markdown",
   "metadata": {},
   "source": [
    "Here is the string type:"
   ]
  },
  {
   "cell_type": "code",
   "execution_count": null,
   "metadata": {},
   "outputs": [],
   "source": [
    "type(x)"
   ]
  },
  {
   "cell_type": "markdown",
   "metadata": {},
   "source": [
    "You can do many things with strings. For a complete list see ``help(str)``. Here we will survey the most frequently encountered string operations.\n",
    "\n",
    "First, you can join two strings together:"
   ]
  },
  {
   "cell_type": "code",
   "execution_count": null,
   "metadata": {},
   "outputs": [],
   "source": [
    "y = ', and another string.'\n",
    "y"
   ]
  },
  {
   "cell_type": "code",
   "execution_count": null,
   "metadata": {},
   "outputs": [],
   "source": [
    "z = x + y\n",
    "z"
   ]
  },
  {
   "cell_type": "markdown",
   "metadata": {},
   "source": [
    "Here is how you can center a string:"
   ]
  },
  {
   "cell_type": "code",
   "execution_count": null,
   "metadata": {},
   "outputs": [],
   "source": [
    "z.center(80) # 80 is the total number of characters in a row:"
   ]
  },
  {
   "cell_type": "markdown",
   "metadata": {},
   "source": [
    "You can also multiply a string with a number to repeat it many times:"
   ]
  },
  {
   "cell_type": "code",
   "execution_count": null,
   "metadata": {},
   "outputs": [],
   "source": [
    "'=' * 80"
   ]
  },
  {
   "cell_type": "markdown",
   "metadata": {},
   "source": [
    "You can ask how many characters are in a string:"
   ]
  },
  {
   "cell_type": "code",
   "execution_count": null,
   "metadata": {},
   "outputs": [],
   "source": [
    "len(z)"
   ]
  },
  {
   "cell_type": "markdown",
   "metadata": {},
   "source": [
    "You can also make substrings using indices. These work in exactly the same way as the do for tuples and lists:"
   ]
  },
  {
   "cell_type": "code",
   "execution_count": null,
   "metadata": {},
   "outputs": [],
   "source": [
    "z[::-1]"
   ]
  },
  {
   "cell_type": "code",
   "execution_count": null,
   "metadata": {},
   "outputs": [],
   "source": [
    "z[2:10]"
   ]
  },
  {
   "cell_type": "code",
   "execution_count": null,
   "metadata": {},
   "outputs": [],
   "source": [
    "z[0]"
   ]
  },
  {
   "cell_type": "markdown",
   "metadata": {},
   "source": [
    "Another useful thing is padding a string representing a number with zeros. This is particularly useful when reading many data files numbered as \"001, 002, 003,\" etc.\n",
    "Here it is:"
   ]
  },
  {
   "cell_type": "code",
   "execution_count": null,
   "metadata": {},
   "outputs": [],
   "source": [
    "'23'.zfill(5)"
   ]
  },
  {
   "cell_type": "code",
   "execution_count": null,
   "metadata": {},
   "outputs": [],
   "source": [
    "'1'.zfill(4)"
   ]
  },
  {
   "cell_type": "markdown",
   "metadata": {},
   "source": [
    "There is also an empty string:"
   ]
  },
  {
   "cell_type": "code",
   "execution_count": null,
   "metadata": {},
   "outputs": [],
   "source": [
    "''"
   ]
  },
  {
   "cell_type": "code",
   "execution_count": null,
   "metadata": {},
   "outputs": [],
   "source": [
    "''.zfill(4)"
   ]
  },
  {
   "cell_type": "code",
   "execution_count": null,
   "metadata": {},
   "outputs": [],
   "source": [
    "len('')"
   ]
  },
  {
   "cell_type": "markdown",
   "metadata": {},
   "source": [
    "Now I am going to show you the most important thing you need to remember: How to turn into strings integers and floats so that you present the result of your analysis.\n",
    "Let's get some numbers first:"
   ]
  },
  {
   "cell_type": "code",
   "execution_count": null,
   "metadata": {},
   "outputs": [],
   "source": [
    "# an integer\n",
    "a = 123\n",
    "# a floating point number\n",
    "b = 12.908450"
   ]
  },
  {
   "cell_type": "markdown",
   "metadata": {},
   "source": [
    "Let's say that you want to put these numbers into a string so that you print them on the screen or maybe write something in a text file.\n",
    "Let's keep it simple. Say that we want to write: \"After my calculation I found out that a=*replace with value for a* and that b=*replace with value for b*.\"\n",
    "Here is one way to do this:"
   ]
  },
  {
   "cell_type": "code",
   "execution_count": null,
   "metadata": {},
   "outputs": [],
   "source": [
    "x = (\"After my calculation I found out that a=\" + str(a)\n",
    "     + \" and that b=\" + str(b))\n",
    "x"
   ]
  },
  {
   "cell_type": "markdown",
   "metadata": {},
   "source": [
    "So, all we did is turn the numbers into strings (using ``str(number)``) and the add the strings together.\n",
    "This is not the best way it doesn't allow us to change the number of significant digists we present.\n",
    "The *best* way to do it is to use *string formating*:"
   ]
  },
  {
   "cell_type": "code",
   "execution_count": null,
   "metadata": {},
   "outputs": [],
   "source": [
    "x = f\"After my calculation I found out that a={a} and that b={b:.3f}\"\n",
    "x"
   ]
  },
  {
   "cell_type": "markdown",
   "metadata": {},
   "source": [
    "Let me explain what this does. First notice the `f` right before the quote.\n",
    "This tells Python the string contains variable names that need to be replaced with values.\n",
    "Strings that start with `f` are called [formatted string literals](https://docs.python.org/3/reference/lexical_analysis.html#f-strings).\n",
    "\n",
    "Next, notice the `{a}`.\n",
    "When Python sees the curly bracket it understands that whatever is inside is a variable the value of which you want to get.\n",
    "So, in our example, `{a}` will be replaced by the value of `a`, i.e., it will become `123`.\n",
    "\n",
    "The second thing you should notice is `{b:.3f}`.\n",
    "This is more complicated.\n",
    "It's a curly bracket, so Python will replace it with some value.\n",
    "But insider the bracket there are two parts separated by a `:`.\n",
    "The first part is the variable the value of which you want to get, `b` in this case.\n",
    "The second part tells Python how you want this number formatted.\n",
    "The string `.3f` means that you want this formated as a **f**loating point number with **3** significant digits.\n",
    "\n",
    "Here are some other examples of formating:"
   ]
  },
  {
   "cell_type": "code",
   "execution_count": null,
   "metadata": {},
   "outputs": [],
   "source": [
    "f\"This is a={a:5d} with five characters in total padding with empty space\""
   ]
  },
  {
   "cell_type": "code",
   "execution_count": null,
   "metadata": {},
   "outputs": [],
   "source": [
    "import math\n",
    "f\"This is pi={math.pi:.30f} (thirty digits of pi)\""
   ]
  },
  {
   "cell_type": "code",
   "execution_count": null,
   "metadata": {},
   "outputs": [],
   "source": [
    "f\"This is b={b:1.3e} in scientific notation with three significant digits\""
   ]
  },
  {
   "cell_type": "code",
   "execution_count": null,
   "metadata": {},
   "outputs": [],
   "source": [
    "f\"This is a={a:o} in octal format.\""
   ]
  },
  {
   "cell_type": "code",
   "execution_count": null,
   "metadata": {},
   "outputs": [],
   "source": [
    "f\"And this is a={a:x} in hex format\""
   ]
  },
  {
   "cell_type": "markdown",
   "metadata": {},
   "source": [
    "A complete overview of the formating language is, of course, beyond the scope of this tutorial. You can find it [here](https://www.geeksforgeeks.org/formatted-string-literals-f-strings-python/).\n",
    "\n",
    "### Questions\n",
    "\n",
    "+ Rerun the code blocks above playing with the formatting brackets. Increase/decrease the number of digits. Change from decimal to float and vice versa. Add a third number 'c=whatever you like' in our ``x`` string above.\n"
   ]
  },
  {
   "cell_type": "markdown",
   "metadata": {},
   "source": [
    "## The print function\n",
    "\n"
   ]
  },
  {
   "cell_type": "markdown",
   "metadata": {},
   "source": [
    "So far, we were only able to show things in the screen if we did something like this:"
   ]
  },
  {
   "cell_type": "code",
   "execution_count": null,
   "metadata": {},
   "outputs": [],
   "source": [
    "x"
   ]
  },
  {
   "cell_type": "markdown",
   "metadata": {},
   "source": [
    "This doesn't work in an actual Python program, however. It only works in a Jupyter notebook. But even in Jupyter notebooks, if you wanted to show more than one thing, this doesn't work. See this:"
   ]
  },
  {
   "cell_type": "code",
   "execution_count": null,
   "metadata": {},
   "outputs": [],
   "source": [
    "x\n",
    "y"
   ]
  },
  {
   "cell_type": "markdown",
   "metadata": {},
   "source": [
    "Only ``y`` was displayed.\n",
    "To display ``x`` and then ``y``, you need to use the ``print()`` function.\n",
    "Here it is:"
   ]
  },
  {
   "cell_type": "code",
   "execution_count": null,
   "metadata": {},
   "outputs": [],
   "source": [
    "print(x)\n",
    "print(y)"
   ]
  },
  {
   "cell_type": "markdown",
   "metadata": {},
   "source": [
    "Just like formating, there are a lot of details in ``print()``. Here, we will be only covering the very basics.\n",
    "Let's start by printing some numerical variables:"
   ]
  },
  {
   "cell_type": "code",
   "execution_count": null,
   "metadata": {},
   "outputs": [],
   "source": [
    "a = 123\n",
    "b = 98.2082\n",
    "print(a)\n",
    "print(b)"
   ]
  },
  {
   "cell_type": "markdown",
   "metadata": {},
   "source": [
    "You can also print the variables one after the other:"
   ]
  },
  {
   "cell_type": "code",
   "execution_count": null,
   "metadata": {},
   "outputs": [],
   "source": [
    "print(a, b)"
   ]
  },
  {
   "cell_type": "markdown",
   "metadata": {},
   "source": [
    "Notice that print adds an empty space between the arguments that you want to print.\n",
    "There is no limit to how many arguments print can have.\n",
    "The following also works:"
   ]
  },
  {
   "cell_type": "code",
   "execution_count": null,
   "metadata": {},
   "outputs": [],
   "source": [
    "print(a, b, x, y, 'and some more')"
   ]
  },
  {
   "cell_type": "markdown",
   "metadata": {},
   "source": [
    "Of course when you print numerics, you probably want to do it like this:"
   ]
  },
  {
   "cell_type": "code",
   "execution_count": null,
   "metadata": {},
   "outputs": [],
   "source": [
    "print('a={0:d}, b={1:1.2f}'.format(a,b))"
   ]
  },
  {
   "cell_type": "markdown",
   "metadata": {},
   "source": [
    "That is, instead of just printing ``a`` and then ``b``, you make a string with just the desired format and you print that string.\n",
    "\n",
    "Notice that ``print()`` puts a newline each time it is called.\n",
    "See this:"
   ]
  },
  {
   "cell_type": "code",
   "execution_count": null,
   "metadata": {},
   "outputs": [],
   "source": [
    "print('This is the first line.')\n",
    "print('This will appear in the second line.')"
   ]
  },
  {
   "cell_type": "markdown",
   "metadata": {},
   "source": [
    "There is a way, a special character called ``\\n`` which can be used to mark a newline in a string. When ``print()`` sees this character, then it adds a newline. See how it works:"
   ]
  },
  {
   "cell_type": "code",
   "execution_count": null,
   "metadata": {},
   "outputs": [],
   "source": [
    "print('This is the first line.\\nThis will appear in the second line.')"
   ]
  },
  {
   "cell_type": "markdown",
   "metadata": {},
   "source": [
    "Here, let me just print 5 new lines:"
   ]
  },
  {
   "cell_type": "code",
   "execution_count": null,
   "metadata": {},
   "outputs": [],
   "source": [
    "print('\\n\\n\\n\\n\\n')"
   ]
  },
  {
   "cell_type": "markdown",
   "metadata": {},
   "source": [
    "Characters like ``\\n`` are called [special characters](https://www.w3schools.com/python/gloss_python_escape_characters.asp). In this class, we will use the ``\\t`` character very often to align what we print.\n",
    "This is called the tab character.\n",
    "Here is what it does:"
   ]
  },
  {
   "cell_type": "code",
   "execution_count": null,
   "metadata": {},
   "outputs": [],
   "source": [
    "print('A\\tB\\tC')"
   ]
  },
  {
   "cell_type": "markdown",
   "metadata": {},
   "source": [
    "Get it? Here is why it is useful. Let's print a table of some fake data:"
   ]
  },
  {
   "cell_type": "code",
   "execution_count": null,
   "metadata": {},
   "outputs": [],
   "source": [
    "print('ID\\tTime (s)\\tMass (kg)\\t')\n",
    "print('-' * 40) # Prints 40 '-'\n",
    "print('{0:d}\\t{1:1.2f}\\t\\t{2:1.2f}'.format(0, 0.01, 12.2))\n",
    "print('{0:d}\\t{1:1.2f}\\t\\t{2:1.2f}'.format(1, 0.02, 12.5))\n",
    "print('{0:d}\\t{1:1.2f}\\t\\t{2:1.2f}'.format(2, 0.05, 13.1))\n",
    "print('{0:d}\\t{1:1.2f}\\t\\t{2:1.2f}'.format(3, 0.07, 13.6))\n",
    "print('{0:d}\\t{1:1.2f}\\t\\t{2:1.2f}'.format(4, 0.08, 14.2))"
   ]
  },
  {
   "cell_type": "markdown",
   "metadata": {},
   "source": [
    "Notice that I had to use two ``\\t``'s to allign the mass.\n",
    "It's probably too much to try to remember all these details.\n",
    "We will see many more examples in the hands-on activities and you will pick up certain tricks."
   ]
  },
  {
   "cell_type": "markdown",
   "metadata": {},
   "source": [
    "## Questions\n",
    "\n",
    "Here are some data:"
   ]
  },
  {
   "cell_type": "code",
   "execution_count": null,
   "metadata": {},
   "outputs": [],
   "source": [
    "data = [23.0, 21.0, 23.0, 23.0, 23.84, 24.52]"
   ]
  },
  {
   "cell_type": "markdown",
   "metadata": {},
   "source": [
    "Use ``print()`` and formating to present the data like this:\n",
    "```\n",
    "DATA\n",
    "------\n",
    "2.3e+1\n",
    "2.1e+1\n",
    "...\n",
    "```\n",
    "etc. Then calculate the average of the data and print it with two significant digits."
   ]
  },
  {
   "cell_type": "code",
   "execution_count": null,
   "metadata": {},
   "outputs": [],
   "source": [
    "# your code here"
   ]
  }
 ],
 "metadata": {
  "kernelspec": {
   "display_name": "Python 3 (ipykernel)",
   "language": "python",
   "name": "python3"
  },
  "language_info": {
   "codemirror_mode": {
    "name": "ipython",
    "version": 3
   },
   "file_extension": ".py",
   "mimetype": "text/x-python",
   "name": "python",
   "nbconvert_exporter": "python",
   "pygments_lexer": "ipython3",
   "version": "3.9.7"
  }
 },
 "nbformat": 4,
 "nbformat_minor": 4
}
