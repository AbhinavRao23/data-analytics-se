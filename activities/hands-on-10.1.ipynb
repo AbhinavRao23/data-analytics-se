{
 "cells": [
  {
   "cell_type": "code",
   "execution_count": 1,
   "metadata": {},
   "outputs": [],
   "source": [
    "# Import some basic libraries\n",
    "import numpy as np\n",
    "import matplotlib.pyplot as plt\n",
    "%matplotlib inline\n",
    "import seaborn as sns\n",
    "sns.set_context('paper')"
   ]
  },
  {
   "cell_type": "markdown",
   "metadata": {},
   "source": [
    "# Hands-on Activity 10.1: Visualizing Monte Carlo Uncertainty\n",
    "\n",
    "## Objectives\n",
    "\n",
    "- To build intuition about the uncertainty in Monte Carlo estimates.\n",
    "\n",
    "## Reminder\n",
    "\n",
    "In the last two lectures, we repeatedly used the strong law of large numbers to estimate expectations using samples.\n",
    "In particular, we studied  this integral:\n",
    "$$\n",
    "I = \\mathbb{E}[g(X)]=\\int g(x) p(x) dx,\n",
    "$$\n",
    "where $X\\sim p(x)$ and $g(x)$ is a function of $x$.\n",
    "The sampling-based approximation required $X_1,X_2,\\dots$ be independent copies of $X$.\n",
    "Then, we considered the random variables $Y_1 = g(X_1), Y_2 = g(X_2), \\dots$, which are also independent and identically distributed.\n",
    "The strong law of large states that their sampling average converges to their mean:\n",
    "$$\n",
    "\\bar{I}_N=\\frac{g(X_1)+\\dots+g(X_N)}{N}=\\frac{Y_1+\\dots+Y_N}{N}\\rightarrow I,\\;\\text{a.s.}\n",
    "$$\n",
    "This is the *Monte Carlo way for estimating integrals*.\n",
    "If you played with the hands-on activities you probably noticed that for small $N$ we can get very different answers.\n",
    "Here we will build some intuition about this epistemic uncertainty induced by finite samples.\n",
    "\n",
    "### Example: 1D expectation\n",
    "Let's try it out with a test function in 1D (Example 3.4 of Robert & Casella (2004)).\n",
    "Assume that $X\\sim\\mathcal{U}([0,1])$ and pick:\n",
    "$$\n",
    "g(x) = \\left(\\cos(50x) + \\sin(20x)\\right)^2.\n",
    "$$\n",
    "The correct value for the expectation can be found analytically and it is:\n",
    "$$\n",
    "\\mathbb{E}[g(x)] = 0.965.\n",
    "$$\n",
    "Let's calculate the Monte Carlo estimate a few times and visualize its uncertainty:"
   ]
  },
  {
   "cell_type": "code",
   "execution_count": 2,
   "metadata": {},
   "outputs": [
    {
     "data": {
      "image/png": "[encoded data removed]",
      "text/plain": [
       "<Figure size 900x600 with 1 Axes>"
      ]
     },
     "metadata": {
      "needs_background": "light"
     },
     "output_type": "display_data"
    }
   ],
   "source": [
    "# The function of x we would like to consider\n",
    "g = lambda x: (np.cos(50 * x) + np.sin(20 * x)) ** 2\n",
    "\n",
    "# How many times do you want to run MC\n",
    "num_mc = 1\n",
    "# Number of samples to take\n",
    "N = 100\n",
    "\n",
    "# A common plot for all estimates\n",
    "fig, ax = plt.subplots(dpi=150)\n",
    "# So do it ``num_mc`` times:\n",
    "for i in range(num_mc):\n",
    "    # Generate samples from X\n",
    "    x_samples = np.random.rand(N)\n",
    "    # Get the corresponding Y's\n",
    "    y_samples = g(x_samples)\n",
    "    # Evaluate the sample average for all sample sizes (see https://docs.scipy.org/doc/numpy/reference/generated/numpy.cumsum.html)\n",
    "    I_running = np.cumsum(y_samples) / np.arange(1, N + 1)\n",
    "    ax.plot(np.arange(1, N+1), I_running, 'b', lw=0.1)\n",
    "# The true value\n",
    "ax.plot(np.arange(1, N+1), [0.965] * N, color='r')\n",
    "# and the labels\n",
    "ax.set_xlabel('$N$')\n",
    "ax.set_ylabel(r'$\\bar{I}_N$');"
   ]
  },
  {
   "cell_type": "markdown",
   "metadata": {},
   "source": [
    "+ Run the code 2-3 times to observe that every time you get a slightly different answer...\n",
    "+ Set ``num_mc`` to 100 (or higher). Observe how different MC runs envelop the correct answer. This is epistemic uncertainty. How can we get it without running this repeatedly?\n",
    "+ Now increase ``N`` to 10000 and see how the uncertainty dies off."
   ]
  }
 ],
 "metadata": {
  "kernelspec": {
   "display_name": "Python 3",
   "language": "python",
   "name": "python3"
  },
  "language_info": {
   "codemirror_mode": {
    "name": "ipython",
    "version": 3
   },
   "file_extension": ".py",
   "mimetype": "text/x-python",
   "name": "python",
   "nbconvert_exporter": "python",
   "pygments_lexer": "ipython3",
   "version": "3.7.6"
  }
 },
 "nbformat": 4,
 "nbformat_minor": 4
}
