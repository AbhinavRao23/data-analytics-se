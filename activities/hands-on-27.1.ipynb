{
 "cells": [
  {
   "cell_type": "code",
   "execution_count": 1,
   "metadata": {},
   "outputs": [],
   "source": [
    "import numpy as np\n",
    "import scipy.stats as st\n",
    "import matplotlib.pyplot as plt\n",
    "%matplotlib inline\n",
    "import seaborn as sns\n",
    "sns.set_context('paper')\n",
    "sns.set_style('white')\n",
    "# A helper function for downloading files\n",
    "import requests\n",
    "import os\n",
    "def download(url, local_filename=None):\n",
    "    \"\"\"\n",
    "    Downloads the file in the ``url`` and saves it in the current working directory.\n",
    "    \"\"\"\n",
    "    data = requests.get(url)\n",
    "    if local_filename is None:\n",
    "        local_filename = os.path.basename(url)\n",
    "    with open(local_filename, 'wb') as fd:\n",
    "        fd.write(data.content)"
   ]
  },
  {
   "cell_type": "markdown",
   "metadata": {},
   "source": [
    "# Lecture 27.1 - Probabilistic programming with `PyMC3` \n",
    "\n",
    "## Objectives\n",
    "\n",
    "+ To introduce probabilistic programming as a flexible paradigm for data-driven inference.\n",
    "+ Introduce `PyMC3` - a popular probabilistic programming library. \n",
    "+ Demonstrate key features of the `PyMC3` API and demonstrate it's use with some simple examples. \n",
    "\n",
    "**Note:** The first version of this notebook was compiled by [Dr. Rohit Tripathy](https://rohittripathy.netlify.app)."
   ]
  },
  {
   "cell_type": "markdown",
   "metadata": {},
   "source": [
    "## Probabilistic programming and PyMC3 - very brief introduction\n",
    "\n",
    "Probabilistic programming is a paradigm for:\n",
    "\n",
    "1. easily translating abstract probabilistic models into executable software, and, \n",
    "2. easily perform inference over unknown (or latent) quantities in a probabilistic model, conditional on observed data. \n",
    "\n",
    "There are numerous probabilistic programming libraries (PPLs) in Python - the specific choice of PPL for an application is a matter of personal taste and comfort - all major PPLs have implementations of all standard inference algorithms and are very flexible in what kinds of probabilistic models can be setup. The most popular choices are `PyMC3`, `pyro`, and `tensorflow-probability`. \n",
    "\n",
    "The Python based PPL we will use, for this class, is `PyMC3`. `PyMC3` relies on `theano` for it's backend. `theano` is a numerical computing library (similar to `PyTorch` and `TensorFlow`) that has several neat features such as:\n",
    " + the ability to easily take derivatives of complex functions of `theano` variables without any hand computation or symbolic differentiation (i.e. automatic differentiation), \n",
    " + internal optimizations to accelerate linear algebraic operations.\n",
    " + GPU support.\n",
    "\n",
    "The original purpose of the `theano` library was to efficiently implement complex deep neural network architectures without worrying about gradient computations necessary for network optimization. While `theano` has gone out of fashion (and is no longer under active development, because of `PyTorch` and `TensorFlow`), the developers of `PyMC3` have ensured that the users of their library need minimal interactions with `theano` code so we will not worry too much about it. \n",
    "The reason modern PPLs such as `PyMC3` use backends such as `theano` is their automatic differentiation (AD) capabilities.\n",
    "State-of-the-art inference methods such as the Hamiltonian Monte Carlo (or improved variants like No U-Turn Sampler (NUTS)), or black-box variational inference (BBVI) necessitate the computation of $\\nabla_{\\theta} p(\\theta, \\mathcal{D})$ - the gradient of a joint probability model with respect to the latent variables (or variational parameters in case of BBVI). This task can become very difficult for even moderately complex probabalistic models but if one leverages the AD capabilities of `theano`, one can obtain these gradients at a very low cost without writing any additional code.\n",
    "\n",
    "### Quick recap of Bayesian inference \n",
    "\n",
    "The goal of Bayesian inference is to derive a probability distribution over unknown quantities, conditional on any observed data (i.e. a posterior distribution). \n",
    "Without loss of generality, let us denote the unknown quantities in a system as $\\theta$ and the observed data as $\\mathcal{D}$. \n",
    "\n",
    "We start with a description of our prior state of knowledge over $\\theta$ - $p(\\theta)$. We then specify a conditional probabilistic model that links the observed data with the unknown quantities $p(\\mathcal{D}|\\theta)$ (the likelihood). \n",
    "We want $p(\\theta|\\mathcal{D})$ which we know, from Bayes rule, to be:\n",
    "$\n",
    "p(\\theta | \\mathcal{D}) \\propto p(\\mathcal{D}, \\theta).\n",
    "$\n",
    "\n",
    "PPL exist to - 1. set up $p(\\mathcal{D}, \\theta)$, and 2. estimate $p(\\theta | \\mathcal{D})$ in the most simple manner possible. Notice that we do not make ANY assumption on what form the priors or likelihoods should take (no need to try and fit conjugate models or setup simplistic models for ease of computation). "
   ]
  },
  {
   "cell_type": "markdown",
   "metadata": {},
   "source": [
    "## `PyMC3` - Quick tour"
   ]
  },
  {
   "cell_type": "markdown",
   "metadata": {},
   "source": [
    "### 1. Setting up distributions \n",
    "\n",
    "Distributions in `PyMC3` are defined within `pymc3.distributions` and are exposed at the top of the library. To define a distribution, one simply needs to add a statement of the `pymc3.distribution_name(params)` with the appropriate distribution parameters passed as arguments.\n",
    "\n",
    "For example, suppose we wish to define a Gaussian random variable with mean 1 and variance 2, i.e.,$x \\sim \\mathcal{N}(1, 2)$. `x` is defined in `PyMC3` as follows:"
   ]
  },
  {
   "cell_type": "code",
   "execution_count": 2,
   "metadata": {},
   "outputs": [
    {
     "data": {
      "image/png": "[encoded data removed]",
      "text/plain": [
       "<Figure size 432x288 with 1 Axes>"
      ]
     },
     "metadata": {},
     "output_type": "display_data"
    }
   ],
   "source": [
    "import pymc3 as pm\n",
    "\n",
    "# define the context manager \n",
    "model = pm.Model()\n",
    "\n",
    "# define the distribution \n",
    "with model:\n",
    "    x = pm.Normal(name='x', mu=1., sigma=np.sqrt(2.)) \n",
    "    \n",
    "# generate samples from x \n",
    "_=plt.hist(model.x.random(size=5000), bins=30, density=True)\n",
    "_=plt.title('Histogram of $x$')"
   ]
  },
  {
   "cell_type": "markdown",
   "metadata": {},
   "source": [
    "You can also define tensors, with arbitrary shapes, of i.i.d. samples from any given distribution. "
   ]
  },
  {
   "cell_type": "code",
   "execution_count": 4,
   "metadata": {},
   "outputs": [
    {
     "name": "stdout",
     "output_type": "stream",
     "text": [
      "(100, 3)\n"
     ]
    }
   ],
   "source": [
    "model = pm.Model()\n",
    "with model:\n",
    "    A = pm.Normal(name='A', mu=1., sigma=np.sqrt(2.), shape=3)\n",
    "Asamples = model.A.random(size = 100)\n",
    "print(Asamples.shape)"
   ]
  },
  {
   "cell_type": "markdown",
   "metadata": {},
   "source": [
    "Every `PyMC3` distribution is equipped with a `distribution.logp` function which computes the logarithm of the probability density (or mass) function of the distribution for a given input value. You can either compute the log probability as an elementwise operation or the sum of the log probability over all the elements."
   ]
  },
  {
   "cell_type": "code",
   "execution_count": 5,
   "metadata": {
    "scrolled": false
   },
   "outputs": [
    {
     "data": {
      "image/png": "[encoded data removed]",
      "text/plain": [
       "<Figure size 432x288 with 1 Axes>"
      ]
     },
     "metadata": {},
     "output_type": "display_data"
    }
   ],
   "source": [
    "model = pm.Model()\n",
    "with model:\n",
    "    x = pm.Normal(name='x', mu=1., sigma=np.sqrt(2.))\n",
    "\n",
    "xs = np.linspace(-5, 7, 100)\n",
    "logpdfs = model.x.distribution.logp(xs).eval() # note the .eval() ; \n",
    "                                               #it converts a theano tensor \n",
    "                                               #into a numpy array \n",
    "    \n",
    "plt.plot(xs, np.exp(logpdfs), linewidth=2.5)\n",
    "_=plt.title('pdf of x', fontsize=15)\n",
    "plt.tight_layout()"
   ]
  },
  {
   "cell_type": "code",
   "execution_count": 6,
   "metadata": {},
   "outputs": [
    {
     "name": "stdout",
     "output_type": "stream",
     "text": [
      "The total log probability of all the samples is -86.60515.\n"
     ]
    }
   ],
   "source": [
    "xsamples = 1 + np.sqrt(2.)*np.random.randn(50)  # generate 50 iid samples \n",
    "total_logprob = model.x.distribution.logp_sum(xsamples).eval()\n",
    "print('The total log probability of all the samples is %.5f.'%total_logprob)"
   ]
  },
  {
   "cell_type": "markdown",
   "metadata": {},
   "source": [
    "Note that all model specification in `PyMC3` must happen within the `pymc3.Model` context manager."
   ]
  },
  {
   "cell_type": "markdown",
   "metadata": {},
   "source": [
    "If this approach for computing the log probability feels complicated, do not worry - we will rarely (if ever) have to perform log probability explicitly when setting up inference models in `PyMC3` - the inference algorithms perform these computations under the hood for us."
   ]
  },
  {
   "cell_type": "markdown",
   "metadata": {},
   "source": [
    "### 2. Setting up a joint model -  the `pymc3.Model` context \n",
    "\n",
    "To reiterate a previous point, `PyMC3.Model` context serves as a wrapper for the entire probabilistic model in `PyMC3`. Let's re-visit a simple problem - the coin toss example, and demonstrate how to setup a probabilistic model in `PyMC3`. "
   ]
  },
  {
   "cell_type": "code",
   "execution_count": 7,
   "metadata": {
    "scrolled": true
   },
   "outputs": [
    {
     "data": {
      "image/png": "[encoded data removed]",
      "text/plain": [
       "<Figure size 432x288 with 1 Axes>"
      ]
     },
     "metadata": {},
     "output_type": "display_data"
    }
   ],
   "source": [
    "# data \n",
    "ptrue = 0.3  # prob of heads \n",
    "N = 25\n",
    "data = np.random.binomial(1, ptrue, size=(N,))\n",
    "\n",
    "# plot data \n",
    "_=plt.bar(*np.unique(data, return_counts=True), width=0.2)\n",
    "_=plt.xticks([0, 1], fontsize=15)\n",
    "_=plt.title('Observed H/T frequencies', fontsize = 15)"
   ]
  },
  {
   "cell_type": "markdown",
   "metadata": {},
   "source": [
    "#### The coin toss model \n",
    "\n",
    "We observe data on repeated flipping of a coin with unknown probability of heads. \n",
    "\n",
    "Suppose the true probability of heads is $\\theta$.\n",
    "\n",
    "We do not know what $\\theta$ really is, but we know it is somewhere in the interal $(0, 1)$. Let's be as vague about this as possible and assign equal probability density to all values in that interval, i.e., the prior is:\n",
    "$$\n",
    "\\theta \\sim \\mathrm{Unif}([0, 1]).\n",
    "$$\n",
    "\n",
    "Each coin flip has a binary outcome - 1 (heads) or 0 (tails) and we can safely assume that each individual coin flip is independent of each other. \n",
    "Thus our likelihood model is:\n",
    "$$\n",
    "x_i|\\theta \\overset{\\mathrm{i.i.d.}}{\\sim} \\mathrm{Bernoulli}(\\theta).\n",
    "$$\n",
    "\n",
    "\"Specifying\" a probability model in a PPL means setting up a function for the joint distribution of latent and observed quantities - in this case,$p(\\theta, \\mathbf{x})$, where $\\theta$ and $\\mathbf{x} = (x_1, x_2, \\dots, x_N)^T$. \n",
    "Here's the graphical description of this model:"
   ]
  },
  {
   "cell_type": "code",
   "execution_count": 9,
   "metadata": {},
   "outputs": [
    {
     "data": {
      "image/svg+xml": [
       "<?xml version=\"1.0\" encoding=\"UTF-8\" standalone=\"no\"?>\n",
       "<!DOCTYPE svg PUBLIC \"-//W3C//DTD SVG 1.1//EN\"\n",
       " \"http://www.w3.org/Graphics/SVG/1.1/DTD/svg11.dtd\">\n",
       "<!-- Generated by graphviz version 2.40.1 (20161225.0304)\n",
       " -->\n",
       "<!-- Title: coin_toss_bayes_plate Pages: 1 -->\n",
       "<svg width=\"94pt\" height=\"155pt\"\n",
       " viewBox=\"0.00 0.00 94.00 155.00\" xmlns=\"http://www.w3.org/2000/svg\" xmlns:xlink=\"http://www.w3.org/1999/xlink\">\n",
       "<g id=\"graph0\" class=\"graph\" transform=\"scale(1 1) rotate(0) translate(4 151)\">\n",
       "<title>coin_toss_bayes_plate</title>\n",
       "<polygon fill=\"#ffffff\" stroke=\"transparent\" points=\"-4,4 -4,-151 90,-151 90,4 -4,4\"/>\n",
       "<g id=\"clust1\" class=\"cluster\">\n",
       "<title>cluster_0</title>\n",
       "<polygon fill=\"none\" stroke=\"#000000\" points=\"8,-8 8,-83 78,-83 78,-8 8,-8\"/>\n",
       "<text text-anchor=\"middle\" x=\"43\" y=\"-15.8\" font-family=\"Times,serif\" font-size=\"14.00\" fill=\"#000000\">n=1,...,N</text>\n",
       "</g>\n",
       "<!-- theta -->\n",
       "<g id=\"node1\" class=\"node\">\n",
       "<title>theta</title>\n",
       "<ellipse fill=\"none\" stroke=\"#000000\" cx=\"43\" cy=\"-129\" rx=\"27\" ry=\"18\"/>\n",
       "<text text-anchor=\"start\" x=\"39\" y=\"-125.3\" font-family=\"Times,serif\" font-size=\"14.00\" fill=\"#000000\">θ</text>\n",
       "</g>\n",
       "<!-- xn -->\n",
       "<g id=\"node2\" class=\"node\">\n",
       "<title>xn</title>\n",
       "<ellipse fill=\"#d3d3d3\" stroke=\"#000000\" cx=\"43\" cy=\"-57\" rx=\"27\" ry=\"18\"/>\n",
       "<text text-anchor=\"start\" x=\"36\" y=\"-54.3\" font-family=\"Times,serif\" font-size=\"14.00\" fill=\"#000000\">x</text>\n",
       "<text text-anchor=\"start\" x=\"44\" y=\"-54.3\" font-family=\"Times,serif\" baseline-shift=\"sub\" font-size=\"14.00\" fill=\"#000000\">n</text>\n",
       "</g>\n",
       "<!-- theta&#45;&gt;xn -->\n",
       "<g id=\"edge1\" class=\"edge\">\n",
       "<title>theta&#45;&gt;xn</title>\n",
       "<path fill=\"none\" stroke=\"#000000\" d=\"M43,-110.8314C43,-103.131 43,-93.9743 43,-85.4166\"/>\n",
       "<polygon fill=\"#000000\" stroke=\"#000000\" points=\"46.5001,-85.4132 43,-75.4133 39.5001,-85.4133 46.5001,-85.4132\"/>\n",
       "</g>\n",
       "</g>\n",
       "</svg>\n"
      ],
      "text/plain": [
       "<graphviz.dot.Digraph at 0x7fed8fdb96d0>"
      ]
     },
     "execution_count": 9,
     "metadata": {},
     "output_type": "execute_result"
    }
   ],
   "source": [
    "from graphviz import Digraph\n",
    "gcp = Digraph('coin_toss_bayes_plate')\n",
    "gcp.node('theta', label='<&theta;>')\n",
    "with gcp.subgraph(name='cluster_0') as sg:\n",
    "    sg.node('xn', label='<x<sub>n</sub>>', style='filled')\n",
    "    sg.attr(label='n=1,...,N')\n",
    "    sg.attr(labelloc='b')\n",
    "gcp.edge('theta', 'xn')\n",
    "gcp"
   ]
  },
  {
   "cell_type": "markdown",
   "metadata": {},
   "source": [
    "And here's the `PyMC3` description of the model:"
   ]
  },
  {
   "cell_type": "code",
   "execution_count": 10,
   "metadata": {},
   "outputs": [
    {
     "name": "stdout",
     "output_type": "stream",
     "text": [
      "Coin flip probability model:\n"
     ]
    },
    {
     "data": {
      "text/latex": [
       "$$\n",
       "            \\begin{array}{rcl}\n",
       "            \\text{theta} &\\sim & \\text{Uniform}(\\mathit{lower}=0.0,~\\mathit{upper}=1.0)\\\\\\text{x} &\\sim & \\text{Bernoulli}(\\mathit{p}=\\text{theta})\n",
       "            \\end{array}\n",
       "            $$"
      ],
      "text/plain": [
       "<pymc3.model.Model at 0x7fed8ff532d0>"
      ]
     },
     "execution_count": 10,
     "metadata": {},
     "output_type": "execute_result"
    }
   ],
   "source": [
    "# instantiate a model context \n",
    "model = pm.Model()\n",
    "theta_transform = pm.transforms.Interval(0, 1)\n",
    "\n",
    "with model:\n",
    "    # set up the prior \n",
    "    theta = pm.Uniform(name='theta', lower=0., upper=1.)\n",
    "    \n",
    "    # set up the likelihood \n",
    "    x = pm.Bernoulli(name='x', p=theta, observed=data)\n",
    "\n",
    "    \n",
    "print(\"Coin flip probability model:\")\n",
    "model"
   ]
  },
  {
   "cell_type": "markdown",
   "metadata": {},
   "source": [
    "### 3.  Model variables in `PyMC3`\n",
    "\n",
    "All unobserved (or latent) variables in a `pymc3` model are wrapped up into the user defined `model` context and exposed through the `model.vars` list. These are the variables over which inference is performed. "
   ]
  },
  {
   "cell_type": "code",
   "execution_count": 11,
   "metadata": {},
   "outputs": [
    {
     "name": "stdout",
     "output_type": "stream",
     "text": [
      "[theta_interval__]\n"
     ]
    }
   ],
   "source": [
    "latent_vars = model.vars\n",
    "print(latent_vars)"
   ]
  },
  {
   "cell_type": "markdown",
   "metadata": {},
   "source": [
    "The coin flip model has only 1 latent variable, $\\theta$. Notice that the `model.vars` list does not contain `theta` directly. Instead it contains a variable with the name `theta_interval__`. This is because, by default, variables that have finite suppport are passed through a bijective transformation to create a new variable that has support over the entire real line. \n",
    "\n",
    "For instance, $\\theta$ in the coin flip example has support over the interval $(0, 1)$. For a variable constrained to lie within such the interval $[a, b]$, `pymc3` applies the transformation $g(x) = \\log \\frac{x - a}{b - x}$ ([see here](https://github.com/pymc-devs/pymc3/blob/683faaa9d7e58701f0689b1a1fd4080151f7e057/pymc3/distributions/transforms.py#L262)). \n",
    "The user-defined `model` context then adds the random variable $g(\\theta)$ (rather than $\\theta$ itself) to the `model.vars` list. \n",
    "In `PyMC3`, $g(\\theta)$ is an instance of the `FreeRV` random variable class, i.e., it is a random variable that has support over entire $\\mathbb{R}$. \n",
    "This automatic transformation is applied to make MCMC inference more efficient."
   ]
  },
  {
   "cell_type": "markdown",
   "metadata": {},
   "source": [
    "### 4. Maximum a posteriori estimation using `pymc3.find_map`\n",
    "\n",
    "Once you have set up the model, you need one extra line to perform any kind of inference. The `pymc3.find_map` does exactly what the name suggests - it finds a point estimate of the latent variables by maximizing the joint probability model."
   ]
  },
  {
   "cell_type": "code",
   "execution_count": 12,
   "metadata": {},
   "outputs": [
    {
     "name": "stderr",
     "output_type": "stream",
     "text": [
      "logp = -17.329, ||grad|| = 3.5: 100%|██████████| 7/7 [00:00<00:00, 1733.90it/s]\n"
     ]
    }
   ],
   "source": [
    "init_val = {'theta':0.5}  # starting point for optimization\n",
    "res = pm.find_MAP(model=model, start=init_val, progressbar=True)"
   ]
  },
  {
   "cell_type": "code",
   "execution_count": 13,
   "metadata": {},
   "outputs": [
    {
     "name": "stdout",
     "output_type": "stream",
     "text": [
      "True p(H): 0.30 ; Estimated p(H): 0.36\n"
     ]
    }
   ],
   "source": [
    "theta_MAP = res['theta']\n",
    "print('True p(H): %.2f ; Estimated p(H): %.2f'%(ptrue, theta_MAP))"
   ]
  },
  {
   "cell_type": "markdown",
   "metadata": {},
   "source": [
    "### 5. Inference using `pymc3.sample`\n",
    "\n",
    "Fully Bayesian inference is handled through the `pymc3.sample` interface, regardless of the inference technique, be it MCMC or VI.  \n",
    "Let's infer the posterior over $\\theta$ for this coin flip example. \n",
    "\n",
    "Note that you need to place the pm.sample within the context of the appropriate model."
   ]
  },
  {
   "cell_type": "code",
   "execution_count": 17,
   "metadata": {},
   "outputs": [
    {
     "name": "stderr",
     "output_type": "stream",
     "text": [
      "Multiprocess sampling (4 chains in 4 jobs)\n",
      "NUTS: [theta]\n",
      "Sampling 4 chains, 0 divergences: 100%|██████████| 42000/42000 [00:12<00:00, 3270.84draws/s]\n"
     ]
    }
   ],
   "source": [
    "with model:\n",
    "    mcmc_res = pm.sample(draws = 10000, step=pm.NUTS())"
   ]
  },
  {
   "cell_type": "markdown",
   "metadata": {},
   "source": [
    "You can then use `pymc3.traceplot` for visualizing the estimated posterior over the latent variables. "
   ]
  },
  {
   "cell_type": "code",
   "execution_count": 18,
   "metadata": {
    "scrolled": false
   },
   "outputs": [
    {
     "name": "stderr",
     "output_type": "stream",
     "text": [
      "/Users/iliasbilionis/opt/anaconda3/lib/python3.7/site-packages/arviz/plots/backends/matplotlib/distplot.py:38: UserWarning: Argument backend_kwargs has not effect in matplotlib.plot_distSupplied value won't be used\n",
      "  \"Argument backend_kwargs has not effect in matplotlib.plot_dist\"\n",
      "/Users/iliasbilionis/opt/anaconda3/lib/python3.7/site-packages/arviz/plots/backends/matplotlib/distplot.py:38: UserWarning: Argument backend_kwargs has not effect in matplotlib.plot_distSupplied value won't be used\n",
      "  \"Argument backend_kwargs has not effect in matplotlib.plot_dist\"\n",
      "/Users/iliasbilionis/opt/anaconda3/lib/python3.7/site-packages/arviz/plots/backends/matplotlib/distplot.py:38: UserWarning: Argument backend_kwargs has not effect in matplotlib.plot_distSupplied value won't be used\n",
      "  \"Argument backend_kwargs has not effect in matplotlib.plot_dist\"\n",
      "/Users/iliasbilionis/opt/anaconda3/lib/python3.7/site-packages/arviz/plots/backends/matplotlib/distplot.py:38: UserWarning: Argument backend_kwargs has not effect in matplotlib.plot_distSupplied value won't be used\n",
      "  \"Argument backend_kwargs has not effect in matplotlib.plot_dist\"\n"
     ]
    },
    {
     "data": {
      "image/png": "[encoded data removed]",
      "text/plain": [
       "<Figure size 864x288 with 2 Axes>"
      ]
     },
     "metadata": {},
     "output_type": "display_data"
    }
   ],
   "source": [
    "fig_args = {'figsize':(12, 4)}\n",
    "pm.traceplot(mcmc_res, **fig_args);"
   ]
  },
  {
   "cell_type": "markdown",
   "metadata": {},
   "source": [
    "You can get a quantitative summary of the posterior as a `pandas.DataFrame` object using `pymc3.summary`:"
   ]
  },
  {
   "cell_type": "code",
   "execution_count": 19,
   "metadata": {},
   "outputs": [
    {
     "data": {
      "text/html": [
       "<div>\n",
       "<style scoped>\n",
       "    .dataframe tbody tr th:only-of-type {\n",
       "        vertical-align: middle;\n",
       "    }\n",
       "\n",
       "    .dataframe tbody tr th {\n",
       "        vertical-align: top;\n",
       "    }\n",
       "\n",
       "    .dataframe thead th {\n",
       "        text-align: right;\n",
       "    }\n",
       "</style>\n",
       "<table border=\"1\" class=\"dataframe\">\n",
       "  <thead>\n",
       "    <tr style=\"text-align: right;\">\n",
       "      <th></th>\n",
       "      <th>mean</th>\n",
       "      <th>sd</th>\n",
       "      <th>hpd_3%</th>\n",
       "      <th>hpd_97%</th>\n",
       "      <th>mcse_mean</th>\n",
       "      <th>mcse_sd</th>\n",
       "      <th>ess_mean</th>\n",
       "      <th>ess_sd</th>\n",
       "      <th>ess_bulk</th>\n",
       "      <th>ess_tail</th>\n",
       "      <th>r_hat</th>\n",
       "    </tr>\n",
       "  </thead>\n",
       "  <tbody>\n",
       "    <tr>\n",
       "      <th>theta</th>\n",
       "      <td>0.371</td>\n",
       "      <td>0.091</td>\n",
       "      <td>0.203</td>\n",
       "      <td>0.544</td>\n",
       "      <td>0.001</td>\n",
       "      <td>0.001</td>\n",
       "      <td>15751.0</td>\n",
       "      <td>15751.0</td>\n",
       "      <td>15701.0</td>\n",
       "      <td>24281.0</td>\n",
       "      <td>1.0</td>\n",
       "    </tr>\n",
       "  </tbody>\n",
       "</table>\n",
       "</div>"
      ],
      "text/plain": [
       "        mean     sd  hpd_3%  hpd_97%  mcse_mean  mcse_sd  ess_mean   ess_sd  \\\n",
       "theta  0.371  0.091   0.203    0.544      0.001    0.001   15751.0  15751.0   \n",
       "\n",
       "       ess_bulk  ess_tail  r_hat  \n",
       "theta   15701.0   24281.0    1.0  "
      ]
     },
     "execution_count": 19,
     "metadata": {},
     "output_type": "execute_result"
    }
   ],
   "source": [
    "summary = pm.summary(mcmc_res)\n",
    "summary"
   ]
  },
  {
   "cell_type": "code",
   "execution_count": 20,
   "metadata": {},
   "outputs": [
    {
     "data": {
      "text/plain": [
       "array([0.20132597, 0.36842141, 0.55693392])"
      ]
     },
     "execution_count": 20,
     "metadata": {},
     "output_type": "execute_result"
    }
   ],
   "source": [
    "np.percentile(mcmc_res.theta, [2.5, 50, 97.5])"
   ]
  },
  {
   "cell_type": "markdown",
   "metadata": {},
   "source": [
    "You can access the generated MCMC samples for any latent variable through the `mcmc_res` object. See for example:"
   ]
  },
  {
   "cell_type": "code",
   "execution_count": 22,
   "metadata": {},
   "outputs": [
    {
     "data": {
      "image/png": "[encoded data removed]",
      "text/plain": [
       "<Figure size 432x288 with 1 Axes>"
      ]
     },
     "metadata": {},
     "output_type": "display_data"
    }
   ],
   "source": [
    "theta_mcmc_samples = mcmc_res.theta\n",
    "plt.plot(theta_mcmc_samples);"
   ]
  },
  {
   "cell_type": "markdown",
   "metadata": {},
   "source": [
    "### 6. Visualization utilities \n",
    "\n",
    "`PyMC3` has numerous utility functions for generating various standard visualizations after performing inference. We demonstrate a few common ones here. "
   ]
  },
  {
   "cell_type": "markdown",
   "metadata": {},
   "source": [
    "#### Plotting the posterior of the latent variables "
   ]
  },
  {
   "cell_type": "code",
   "execution_count": 23,
   "metadata": {},
   "outputs": [
    {
     "data": {
      "image/png": "[encoded data removed]",
      "text/plain": [
       "<Figure size 432x288 with 1 Axes>"
      ]
     },
     "metadata": {},
     "output_type": "display_data"
    }
   ],
   "source": [
    "_=pm.plot_posterior(mcmc_res)   # just pass the mcmc trace to pm.plot_posterior"
   ]
  },
  {
   "cell_type": "markdown",
   "metadata": {},
   "source": [
    "#### Autocorrelation plots "
   ]
  },
  {
   "cell_type": "code",
   "execution_count": 24,
   "metadata": {},
   "outputs": [
    {
     "data": {
      "image/png": "[encoded data removed]",
      "text/plain": [
       "<Figure size 432x288 with 1 Axes>"
      ]
     },
     "metadata": {},
     "output_type": "display_data"
    }
   ],
   "source": [
    "_=pm.plot_autocorr(mcmc_res, combined=True)   # just pass the mcmc trace to pm.plot_autocorr"
   ]
  },
  {
   "cell_type": "markdown",
   "metadata": {},
   "source": [
    "For generating pair plots in models with more than 1 latent variables, you can use `pm.plot_pairs`."
   ]
  },
  {
   "cell_type": "markdown",
   "metadata": {},
   "source": [
    "### 7. Burning and thinning \n",
    "\n",
    "If you need to burn some initial samples or thin later samples to remove autocorrelation, you can simply apply standard numpy slicing operations."
   ]
  },
  {
   "cell_type": "code",
   "execution_count": 25,
   "metadata": {},
   "outputs": [
    {
     "data": {
      "image/png": "[encoded data removed]",
      "text/plain": [
       "<Figure size 864x360 with 2 Axes>"
      ]
     },
     "metadata": {},
     "output_type": "display_data"
    }
   ],
   "source": [
    "mcmc_res_burn_thin = mcmc_res[1000::4]  # remove the first 1000 samples and take every 4th sample after that \n",
    "\n",
    "fig,ax = plt.subplots(1, 2, figsize = (12, 5))\n",
    "pm.autocorrplot(mcmc_res_burn_thin, ax=ax[0], textsize=15)   # this should almost no autocorrelation \n",
    "pm.autocorrplot(mcmc_res, ax=ax[1], textsize=15)\n",
    "ax[0].set_title('Autocorrelation after burning and thinning', fontsize=15)\n",
    "ax[1].set_title('Autocorrelation before burning and thinning', fontsize=15)\n",
    "fig.tight_layout()"
   ]
  },
  {
   "cell_type": "markdown",
   "metadata": {},
   "source": [
    "### Posterior predictive distribution\n",
    "\n",
    "You can generate samples from the posterior predictive distribution, using the `pymc3.sample_posterior_predictive` functionality (see below)."
   ]
  },
  {
   "cell_type": "code",
   "execution_count": 26,
   "metadata": {},
   "outputs": [
    {
     "name": "stderr",
     "output_type": "stream",
     "text": [
      "/Users/iliasbilionis/opt/anaconda3/lib/python3.7/site-packages/pymc3/sampling.py:1247: UserWarning: samples parameter is smaller than nchains times ndraws, some draws and/or chains may not be represented in the returned posterior predictive sample\n",
      "  \"samples parameter is smaller than nchains times ndraws, some draws \"\n",
      "100%|██████████| 500/500 [00:00<00:00, 1694.63it/s]\n"
     ]
    },
    {
     "data": {
      "text/plain": [
       "(500, 25)"
      ]
     },
     "execution_count": 26,
     "metadata": {},
     "output_type": "execute_result"
    }
   ],
   "source": [
    "pp_samples = pm.sample_posterior_predictive(trace=mcmc_res, samples=500, model=model)\n",
    "x_post = pp_samples['x']\n",
    "x_post.shape # num samples of theta \\times size of the dataset "
   ]
  },
  {
   "cell_type": "code",
   "execution_count": 27,
   "metadata": {},
   "outputs": [
    {
     "data": {
      "image/png": "[encoded data removed]",
      "text/plain": [
       "<Figure size 720x720 with 20 Axes>"
      ]
     },
     "metadata": {},
     "output_type": "display_data"
    }
   ],
   "source": [
    "plt.figure( figsize=(10, 10) )\n",
    "for i in range(20):\n",
    "    plt.subplot(5, 4, i+1)\n",
    "    plt.bar(*np.unique(x_post[i], return_counts=True), width=0.2)\n",
    "    plt.bar(*np.unique(data, return_counts=True), width=0.12, \n",
    "            alpha=0.5, label='Observed data')\n",
    "    plt.xticks([0, 1])\n",
    "    plt.legend(loc='best', fontsize=8)"
   ]
  },
  {
   "cell_type": "markdown",
   "metadata": {},
   "source": [
    "## Real Data Example 1 - Coal Mining Disaster "
   ]
  },
  {
   "cell_type": "markdown",
   "metadata": {},
   "source": [
    "We are going to work on Coal Mining disaster dataset. Consider the following time series dataset of recorded coal mining disasters in the UK from 1851 to 1962. Let us first import this dataset and visualize it."
   ]
  },
  {
   "cell_type": "code",
   "execution_count": 30,
   "metadata": {},
   "outputs": [
    {
     "data": {
      "text/html": [
       "<div>\n",
       "<style scoped>\n",
       "    .dataframe tbody tr th:only-of-type {\n",
       "        vertical-align: middle;\n",
       "    }\n",
       "\n",
       "    .dataframe tbody tr th {\n",
       "        vertical-align: top;\n",
       "    }\n",
       "\n",
       "    .dataframe thead th {\n",
       "        text-align: right;\n",
       "    }\n",
       "</style>\n",
       "<table border=\"1\" class=\"dataframe\">\n",
       "  <thead>\n",
       "    <tr style=\"text-align: right;\">\n",
       "      <th></th>\n",
       "      <th>year</th>\n",
       "      <th>disasters</th>\n",
       "    </tr>\n",
       "  </thead>\n",
       "  <tbody>\n",
       "    <tr>\n",
       "      <th>0</th>\n",
       "      <td>1851</td>\n",
       "      <td>4</td>\n",
       "    </tr>\n",
       "    <tr>\n",
       "      <th>1</th>\n",
       "      <td>1852</td>\n",
       "      <td>5</td>\n",
       "    </tr>\n",
       "    <tr>\n",
       "      <th>2</th>\n",
       "      <td>1853</td>\n",
       "      <td>4</td>\n",
       "    </tr>\n",
       "    <tr>\n",
       "      <th>3</th>\n",
       "      <td>1854</td>\n",
       "      <td>0</td>\n",
       "    </tr>\n",
       "    <tr>\n",
       "      <th>4</th>\n",
       "      <td>1855</td>\n",
       "      <td>1</td>\n",
       "    </tr>\n",
       "    <tr>\n",
       "      <th>...</th>\n",
       "      <td>...</td>\n",
       "      <td>...</td>\n",
       "    </tr>\n",
       "    <tr>\n",
       "      <th>106</th>\n",
       "      <td>1957</td>\n",
       "      <td>0</td>\n",
       "    </tr>\n",
       "    <tr>\n",
       "      <th>107</th>\n",
       "      <td>1958</td>\n",
       "      <td>0</td>\n",
       "    </tr>\n",
       "    <tr>\n",
       "      <th>108</th>\n",
       "      <td>1959</td>\n",
       "      <td>1</td>\n",
       "    </tr>\n",
       "    <tr>\n",
       "      <th>109</th>\n",
       "      <td>1960</td>\n",
       "      <td>0</td>\n",
       "    </tr>\n",
       "    <tr>\n",
       "      <th>110</th>\n",
       "      <td>1961</td>\n",
       "      <td>1</td>\n",
       "    </tr>\n",
       "  </tbody>\n",
       "</table>\n",
       "<p>111 rows × 2 columns</p>\n",
       "</div>"
      ],
      "text/plain": [
       "     year  disasters\n",
       "0    1851          4\n",
       "1    1852          5\n",
       "2    1853          4\n",
       "3    1854          0\n",
       "4    1855          1\n",
       "..    ...        ...\n",
       "106  1957          0\n",
       "107  1958          0\n",
       "108  1959          1\n",
       "109  1960          0\n",
       "110  1961          1\n",
       "\n",
       "[111 rows x 2 columns]"
      ]
     },
     "execution_count": 30,
     "metadata": {},
     "output_type": "execute_result"
    }
   ],
   "source": [
    "import pandas as pd\n",
    "disaster_data = pd.read_csv('coal_mining_disasters.csv')\n",
    "disaster_data.dropna()\n",
    "disasters = disaster_data.disasters.values\n",
    "years = disaster_data.year.values\n",
    "disaster_data"
   ]
  },
  {
   "cell_type": "code",
   "execution_count": null,
   "metadata": {},
   "outputs": [],
   "source": [
    "plt.figure(figsize=(12, 8))\n",
    "plt.plot(disaster_data.year, disaster_data.disasters, 'o', markersize=10)\n",
    "plt.xlabel('Year', fontsize=15)\n",
    "plt.ylabel('Number of disasters', fontsize=15)\n",
    "plt.title('Recorded coal mining disasters in the UK.', fontsize=15)\n",
    "plt.xticks(fontsize=15)\n",
    "plt.yticks(fontsize=15)\n",
    "plt.tight_layout()"
   ]
  },
  {
   "cell_type": "code",
   "execution_count": null,
   "metadata": {},
   "outputs": [],
   "source": [
    "plt.figure(figsize=(12, 8))\n",
    "bp = plt.bar(disaster_data.year, disaster_data.disasters, width=1.)\n",
    "plt.xlabel(\"Year\", fontsize=15)\n",
    "plt.ylabel(\"Number of disasters\", fontsize=15)\n",
    "plt.title(\"Recorded coal mining disasters in the UK.\", fontsize=15)\n",
    "plt.xticks(fontsize=15)\n",
    "plt.yticks(fontsize=15)\n",
    "plt.tight_layout()"
   ]
  },
  {
   "cell_type": "markdown",
   "metadata": {},
   "source": [
    "### 1. Questions\n",
    "\n",
    "1. How can we represent this disaster time series data? What are quantities of interests?\n",
    "2. Is 'disasters' variable categorial or continous? Can it be negative? What are some other constraints?"
   ]
  },
  {
   "cell_type": "markdown",
   "metadata": {},
   "source": [
    "### 2. Information about the dataset \n",
    "\n",
    "Occurrences of disasters in the time series is thought to be derived from a Poisson process with a large rate parameter in the early part of the time series (more disasters in early years), and from one with a smaller rate in the later part (less number of disasters in later years). We are interested in locating the change point in the series, which might be because of changes in mining safety regulations in latter years."
   ]
  },
  {
   "cell_type": "markdown",
   "metadata": {},
   "source": [
    "### 3. Modeling Approach\n",
    "\n",
    "How are we going to develop model for this data? A good starting point would be to think about *how this data might be generated?* Try to imagine how you would recreate the dataset. We begin by asking how our observations might have been generated [3].\n",
    "\n",
    "1. We start by thinking \"what is the best random variable to describe this count data?\" A Poisson random variable is a good candidate because it can represent count data. So we model the number of coal mining related disasters as sampled from a Poisson distribution.\n",
    "\n",
    "2. Next, we think, \"Ok, assuming number of disasters are Poisson-distributed, what do I need for the Poisson distribution?\" Well, the Poisson distribution has a rate parameter $\\lambda$. \n",
    "\n",
    "3.  Do we know $\\lambda$? No. In fact, we have a suspicion that there are *two* $\\lambda$ values, one for the earlier years and one for the later years. We don't know when the change in this rate parameter occurs though, but call the switchpoint $\\tau$.\n",
    "\n",
    "4. What is a good distribution for the two $\\lambda$s? The exponential is good, as it assigns probabilities to positive real numbers. Well the exponential distribution has a parameter too, call it $\\alpha$.\n",
    "\n",
    "5.  Do we know what the parameter $\\alpha$ might be? No. At this point, we could continue and assign a distribution to $\\alpha$, but it's better to stop once we reach a set level of ignorance: whereas we have a prior belief about $\\lambda$, (\"it probably changes over time\", \"it's likely between 1 and 3\", etc.), we don't really have any strong beliefs about $\\alpha$. So it's best to stop here. \n",
    "\n",
    "    What is a good value for $\\alpha$ then? We think that the $\\lambda$s are between 1-3, so if we set $\\alpha$ really low (which corresponds to larger probability on high values) we are not reflecting our prior well. Similar, a too-high alpha misses our prior belief as well. A good idea for $\\alpha$ as to reflect our belief is to set the value so that the mean of $\\lambda$, given $\\alpha$, is equal to our observed mean. \n",
    "\n",
    "6. We have no expert opinion of when $\\tau$ might have occurred. So we will suppose $\\tau$ is from a discrete uniform distribution over the entire timespan.\n",
    "\n",
    "Here's a graphical model describing the relationships between the variables in our model:"
   ]
  },
  {
   "cell_type": "code",
   "execution_count": null,
   "metadata": {},
   "outputs": [],
   "source": [
    "gcp = Digraph('coal_mining_disasters_model')\n",
    "\n",
    "# define the nodes \n",
    "gcp.node('alpha', label='<&alpha;>')\n",
    "gcp.node('tau', label='<&tau;>')\n",
    "gcp.node('lambda_1', label='<&lambda;<sub>1</sub>>')\n",
    "gcp.node('lambda_2', label='<&lambda;<sub>2</sub>>')\n",
    "gcp.node('lambda', label='<&lambda;>')\n",
    "gcp.node('tau', label='<&tau;>')\n",
    "gcp.node('obs', label='obs', style='filled')\n",
    "\n",
    "# define the edges \n",
    "gcp.edge('alpha', 'lambda_1')\n",
    "gcp.edge('alpha', 'lambda_2')\n",
    "gcp.edge('tau', 'lambda')\n",
    "gcp.edge('lambda_1', 'lambda')\n",
    "gcp.edge('lambda_2', 'lambda')\n",
    "gcp.edge('lambda', 'obs')\n",
    "gcp"
   ]
  },
  {
   "cell_type": "markdown",
   "metadata": {},
   "source": [
    "More formally, the generative model is expressed as:\n",
    "\n",
    "$$\\lambda_1 \\sim \\mathrm{Exp}(\\lambda_1 | \\alpha),$$\n",
    "$$\\lambda_2 \\sim \\mathrm{Exp}(\\lambda_2 | \\alpha),$$\n",
    "$$ \\tau \\sim \\mathrm{DiscreteUniform}([1851, 1852, \\dots, 1961]), $$\n",
    "$$\\lambda = \n",
    "\\begin{cases}\n",
    "\\lambda_1  & \\text{if } t \\lt \\tau \\cr\n",
    "\\lambda_2 & \\text{if } t \\ge \\tau\n",
    "\\end{cases}$$\n",
    "$$\\mathrm{obs}_i \\sim \\mathrm{Poisson}(\\lambda_i)$$\n",
    "\n",
    "We will set the rate parameter $\\alpha$ on the exponential priors on $\\lambda_1$ and $\\lambda_2$ as a constant. \n",
    "The latent variables to be inferred are $\\lambda_1, \\lambda_2, \\tau$."
   ]
  },
  {
   "cell_type": "markdown",
   "metadata": {},
   "source": [
    "### 4. `PyMC3` model "
   ]
  },
  {
   "cell_type": "code",
   "execution_count": null,
   "metadata": {},
   "outputs": [],
   "source": [
    "disaster_model = pm.Model()\n",
    "lower_year, upper_year = years.min(), years.max()\n",
    "alpha = 1.\n",
    "\n",
    "with disaster_model:\n",
    "    # define the prior \n",
    "    lambda_1 = pm.Exponential(\"lambda_1\", lam=alpha)\n",
    "    lambda_2 = pm.Exponential(\"lambda_2\", lam=alpha)\n",
    "    tau      = pm.DiscreteUniform('tau', lower=lower_year, upper=upper_year)\n",
    "    lmbda = pm.Deterministic('lambda', tt.switch(tau >= years, lambda_1, lambda_2))\n",
    "    \n",
    "    # define the likelihood \n",
    "    x = pm.Poisson('x', lmbda, observed=disasters)"
   ]
  },
  {
   "cell_type": "markdown",
   "metadata": {},
   "source": [
    "### 5. Inference and posterior visualization\n",
    "\n",
    "Now let's infer the hidden parameters with MCMC. We will use the default NUTS sampler. "
   ]
  },
  {
   "cell_type": "code",
   "execution_count": null,
   "metadata": {
    "scrolled": false
   },
   "outputs": [],
   "source": [
    "with disaster_model:\n",
    "    trace = pm.sample(draws=40000, progressbar=True)"
   ]
  },
  {
   "cell_type": "code",
   "execution_count": null,
   "metadata": {},
   "outputs": [],
   "source": [
    "_=pm.traceplot(trace, var_names=['tau', 'lambda_1', 'lambda_2'])"
   ]
  },
  {
   "cell_type": "code",
   "execution_count": null,
   "metadata": {},
   "outputs": [],
   "source": [
    "_=pm.plot_posterior(trace, var_names=['tau', 'lambda_1', 'lambda_2'])"
   ]
  },
  {
   "cell_type": "code",
   "execution_count": null,
   "metadata": {},
   "outputs": [],
   "source": [
    "_=pm.plot_autocorr(trace, var_names=['tau','lambda_1', 'lambda_2'], combined=True)"
   ]
  },
  {
   "cell_type": "code",
   "execution_count": null,
   "metadata": {},
   "outputs": [],
   "source": [
    "thinned_trace = trace[10000::10]\n",
    "_=pm.plot_autocorr(thinned_trace, var_names=['tau', 'lambda_1', 'lambda_2'], combined=True)"
   ]
  },
  {
   "cell_type": "code",
   "execution_count": null,
   "metadata": {
    "scrolled": false
   },
   "outputs": [],
   "source": [
    "pm.traceplot(thinned_trace, var_names=['tau', 'lambda_1', 'lambda_2'])"
   ]
  },
  {
   "cell_type": "markdown",
   "metadata": {},
   "source": [
    "We can now use the samples from the posterior of the unknown parameters in this model to estimate the expected number of disasters between $t = 1851$ and $t=1962$. "
   ]
  },
  {
   "cell_type": "code",
   "execution_count": null,
   "metadata": {},
   "outputs": [],
   "source": [
    "ppsamples = pm.sample_posterior_predictive(samples=2000, \n",
    "                                           model=disaster_model, \n",
    "                                           trace=thinned_trace)['x']\n",
    "plt.figure(figsize=(12, 8))\n",
    "bp = plt.bar(disaster_data.year, disaster_data.disasters, width=1.)\n",
    "plt.plot(disaster_data.year, ppsamples.mean(axis=0), 'ro', \n",
    "         markersize=10, label='Posterior predictive expectation')\n",
    "plt.xlabel(\"Year\", fontsize=15)\n",
    "plt.ylabel(\"Number of disasters\", fontsize=15)\n",
    "plt.title(\"Recorded coal mining disasters in the UK.\", fontsize=15)\n",
    "plt.xticks(fontsize=15)\n",
    "plt.yticks(fontsize=15)\n",
    "plt.legend(loc='best', fontsize=15)\n",
    "plt.tight_layout()"
   ]
  },
  {
   "cell_type": "markdown",
   "metadata": {},
   "source": [
    "## Real Data Example 2 - Challenger Space Shuttle Disaster\n",
    "\n",
    "For this tutorial, we are going to work on Challenger space shuttle disaster dataset. \n",
    "\n",
    "On January 28, 1986, the twenty-fifth flight of the U.S. space shuttle program ended in disaster when one of the rocket boosters of the Shuttle Challenger exploded shortly after lift-off, killing all seven crew members. The presidential commission on the accident concluded that it was caused by the failure of an O-ring in a field joint on the rocket booster, and that this failure was due to a faulty design that made the O-ring unacceptably sensitive to a number of factors including outside temperature. Of the previous 24 flights, data were available on failures of O-rings on 23, (one was lost at sea), and these data were discussed on the evening preceding the Challenger launch, but unfortunately only the data corresponding to the 7 flights on which there was a damage incident were considered important and these were thought to show no obvious trend. The data are shown below:"
   ]
  },
  {
   "cell_type": "code",
   "execution_count": null,
   "metadata": {},
   "outputs": [],
   "source": [
    "# load data \n",
    "challenger_data = np.genfromtxt(\"challenger_data.csv\", skip_header=1,\n",
    "                                usecols=[1, 2], missing_values=\"NA\",\n",
    "                                delimiter=\",\")\n",
    "challenger_data = challenger_data[~np.isnan(challenger_data[:, 1])]\n",
    "print(\"Temp (F), O-Ring failure?\")\n",
    "print(challenger_data)"
   ]
  },
  {
   "cell_type": "code",
   "execution_count": null,
   "metadata": {},
   "outputs": [],
   "source": [
    "# plot it, as a function of temperature (the first column)\n",
    "plt.figure(figsize=(12, 5))\n",
    "plt.plot(challenger_data[:, 0], challenger_data[:, 1], 'ro', \n",
    "         markersize=15)\n",
    "plt.ylabel(\"Damage Incident?\",fontsize=20)\n",
    "plt.xlabel(\"Outside temperature (Fahrenheit)\",fontsize=20)\n",
    "plt.title(\"Defects of the Space Shuttle O-Rings vs temperature\",\n",
    "          fontsize=20)\n",
    "plt.yticks([0, 1], fontsize=15)\n",
    "plt.xticks(fontsize=15)\n",
    "plt.tight_layout()"
   ]
  },
  {
   "cell_type": "markdown",
   "metadata": {},
   "source": [
    "### 1. Information about the dataset \n",
    "It looks clear that *the probability* of damage incidents occurring increases as the outside temperature decreases. We are interested in modeling the probability here because it does not look like there is a strict cutoff point between temperature and a damage incident occurring. The best we can do is ask \"At temperature $t$, what is the probability of a damage incident?\". The goal of this example is to answer that question."
   ]
  },
  {
   "cell_type": "markdown",
   "metadata": {},
   "source": [
    "### 2. Questions\n",
    "\n",
    "1. How can we represent this disaster binary 1/0 data? What are quantities of interests?\n",
    "2. Is 'damage incident' variable categorial or continous? What are some other constraints?"
   ]
  },
  {
   "cell_type": "markdown",
   "metadata": {},
   "source": [
    "### 3. Modeling approach\n",
    "\n",
    "How are we going to develop model for this data? A good starting point would be to think about *how this data might be generated?* Try to imagine how you would recreate the dataset. We begin by asking how our observations might have been generated.\n",
    "\n",
    "- We start by thinking \"what is the best random variable to describe this binary categorical data?\" A Bernoulli random variable is a good candidate because it can represent binary data. So we model the variable of 'damage incident' as sampled from a Bernoulli distribution. A *Bernoulli* random variable with parameter $p$, denoted $\\text{Ber}(p)$, is a random variable that takes value 1 with probability $p$, and 0 else. Thus, our model can look like:\n",
    "$$ \\text{Defect Incident, $D_i$} \\sim \\text{Ber}( \\;p_i\\; ), \\;\\; i=1..N$$\n",
    "\n",
    "- Next, we think, \"Ok, assuming damage incident variable is Bernoulli-distributed, what do I need for the Bernoulli distribution?\" Well, the Bernoulli distribution has a probability parameter $p_i$. \n",
    "\n",
    "-  Do we know $p_i$ parameter? No. But we have a suspicion (intuition) that this parameter is dependent on outside temperature values. Less the value of outside temperature, more is the probability of damage incident. More the value of outside temperature, less is the probability of damage incident. With slight abuse in notation, we can define this as:\n",
    "$$p_i = p(t_i) = \\sigma(t_i),$$\n",
    "\n",
    "where $\\sigma: \\mathbb{R} \\rightarrow (0, 1)$ is a suitable function that maps arbitrary temperature values to the interval $(0, 1)$ (so that we can then interpret the output of $\\sigma$ as a probability). For this problem, we are going to use logistic link function which is given as:\n",
    "$$\\sigma(t) = \\frac{1}{ 1 + e^{ \\;\\beta t + \\alpha } } $$\n",
    "\n",
    "Some plots are shown below, with differing $\\alpha$ and $\\beta$ parameter values:"
   ]
  },
  {
   "cell_type": "code",
   "execution_count": null,
   "metadata": {
    "scrolled": true
   },
   "outputs": [],
   "source": [
    "def logistic(x, beta, alpha=0):\n",
    "    return 1.0 / (1.0 + np.exp(np.dot(beta, x) + alpha))\n",
    "\n",
    "x = np.linspace(-4, 4, 100)\n",
    "plt.figure(figsize=(12, 5))\n",
    "alphas = [0, 0, 0, 1, 3, 5]\n",
    "betas  = [1, 3, -5, 1, 3, -5]\n",
    "params = zip(alphas, betas)\n",
    "for param in params:\n",
    "    alpha, beta = param\n",
    "    label=\"$\\\\alpha$ = %d, $\\\\beta$ = %d\"%(alpha, beta)\n",
    "    plt.plot(x, logistic(x, beta, alpha),\n",
    "             label=label, \n",
    "             linewidth=2.5)\n",
    "plt.title(\"Logistic functon with bias\", fontsize=20)\n",
    "plt.xticks(fontsize=15)\n",
    "plt.yticks(fontsize=15)\n",
    "plt.legend(loc=\"best\", fontsize=15)\n",
    "_=plt.tight_layout()"
   ]
  },
  {
   "cell_type": "markdown",
   "metadata": {},
   "source": [
    "#### Question:\n",
    "__How can we represent  $\\alpha$ and $\\beta$ parameter values? Are they categorical or continous? Do they need to be positive?__\n",
    "\n",
    "The $\\beta, \\alpha$ parameters have no reason to be positive, bounded or relatively large, so they are best modeled by a *Normal random variable*. Since we dont have any prior beliefs about the value of parameters beta or alpha, we place a vague prior Normal distribution (small precision, large variance) over their values.\n",
    "\n",
    "The graphical model for the data generation process is shown below. "
   ]
  },
  {
   "cell_type": "code",
   "execution_count": null,
   "metadata": {},
   "outputs": [],
   "source": [
    "gcp = Digraph('space_shuttle_disaster')\n",
    "\n",
    "# setup the nodes \n",
    "gcp.node('alpha', label='<&alpha;>')\n",
    "gcp.node('beta', label='<&beta;>')\n",
    "with gcp.subgraph(name='cluster_0') as sg:\n",
    "    sg.node('pi', label='<p<sub>i</sub>>')\n",
    "    sg.node('xi', label='<x<sub>i</sub>>', style='filled')\n",
    "    sg.attr(color='blue')\n",
    "    sg.attr(label='i=1,2...')\n",
    "    sg.attr(labelloc='b')\n",
    "\n",
    "# setup the edges \n",
    "gcp.edge('alpha', 'pi')\n",
    "gcp.edge('beta', 'pi')\n",
    "gcp.edge('pi', 'xi')\n",
    "gcp"
   ]
  },
  {
   "cell_type": "markdown",
   "metadata": {},
   "source": [
    "### 4. `PyMC3` model "
   ]
  },
  {
   "cell_type": "code",
   "execution_count": null,
   "metadata": {},
   "outputs": [],
   "source": [
    "# gather the data and apply preprocessing if any \n",
    "temp = challenger_data[:, 0]\n",
    "temp_scaled = (temp - np.mean(temp))/np.std(temp)\n",
    "data = challenger_data[:, 1]\n",
    "\n",
    "# instantiate the pymc3 model\n",
    "challenger_model = pm.Model()\n",
    "\n",
    "# define the graph \n",
    "with challenger_model:\n",
    "    # define the prior\n",
    "    alpha = pm.Normal('alpha', mu=0., sigma=10.)\n",
    "    beta = pm.Normal('beta', mu=0., sigma=10.)\n",
    "    \n",
    "    # get the probabilities of failure at each observed temp \n",
    "    p = pm.Deterministic('p', 1./(1. + tt.exp(alpha + beta*temp_scaled)))\n",
    "    \n",
    "    # define the likelihood \n",
    "    x = pm.Bernoulli('x', p=p, observed=data)\n",
    "print(\"Challenger space shuttle disaster model:\")\n",
    "challenger_model"
   ]
  },
  {
   "cell_type": "markdown",
   "metadata": {},
   "source": [
    "### 5. Inference and posterior visualization\n",
    "\n",
    "Now let's infer the hidden parameters with MCMC. We will use the default NUTS sampler. "
   ]
  },
  {
   "cell_type": "code",
   "execution_count": null,
   "metadata": {},
   "outputs": [],
   "source": [
    "with challenger_model:\n",
    "    trace = pm.sample(draws=40000, progressbar=True)"
   ]
  },
  {
   "cell_type": "code",
   "execution_count": null,
   "metadata": {
    "scrolled": false
   },
   "outputs": [],
   "source": [
    "var_names=['alpha', 'beta']\n",
    "pm.traceplot(trace, var_names=var_names)"
   ]
  },
  {
   "cell_type": "code",
   "execution_count": null,
   "metadata": {},
   "outputs": [],
   "source": [
    "_=pm.plot_posterior(trace, var_names=var_names)"
   ]
  },
  {
   "cell_type": "code",
   "execution_count": null,
   "metadata": {},
   "outputs": [],
   "source": [
    "_=pm.plot_autocorr(trace, var_names=var_names, figsize=(12, 8), combined=True)"
   ]
  },
  {
   "cell_type": "code",
   "execution_count": null,
   "metadata": {},
   "outputs": [],
   "source": [
    "thinned_trace = trace[10000::10]\n",
    "_=pm.autocorrplot(thinned_trace, var_names=var_names, figsize=(12, 8), combined=True)"
   ]
  },
  {
   "cell_type": "markdown",
   "metadata": {},
   "source": [
    "### 6. Posterior predictive distribution\n",
    "\n",
    "We can use the samples of posterior generated from MCMC to get a predictive over the probability of failure at any given temperature. "
   ]
  },
  {
   "cell_type": "code",
   "execution_count": null,
   "metadata": {},
   "outputs": [],
   "source": [
    "with challenger_model:\n",
    "    ppsamples = pm.sample_posterior_predictive(trace=thinned_trace, \n",
    "                                               samples=2000,\n",
    "                                               var_names=['p'])['p']"
   ]
  },
  {
   "cell_type": "code",
   "execution_count": null,
   "metadata": {},
   "outputs": [],
   "source": [
    "# get posterior predictive mean and 95% interval\n",
    "ppmean = ppsamples.mean(axis=0)\n",
    "pp_lower, pp_upper = np.percentile(ppsamples, axis=0, q=[2.5, 97.5])"
   ]
  },
  {
   "cell_type": "code",
   "execution_count": null,
   "metadata": {},
   "outputs": [],
   "source": [
    "plt.figure(figsize=(15, 8))\n",
    "plt.plot(temp, data, 'ro', markersize=12, label='Observed data')\n",
    "idx=np.argsort(temp)\n",
    "plt.plot(temp[idx], ppmean[idx], linestyle='--', linewidth=2.5, \n",
    "         label='Post. pred. mean prob.')\n",
    "plt.fill_between(temp[idx], pp_lower[idx], pp_upper[idx], \n",
    "                color='purple', alpha=0.25, label='95% Confidence')\n",
    "plt.ylabel(\"Probability estimate\",fontsize=20)\n",
    "plt.xlabel(\"Outside temperature (Fahrenheit)\",fontsize=20)\n",
    "plt.title(\"Defects of the Space Shuttle O-Rings vs temperature\",\n",
    "          fontsize=20)\n",
    "plt.yticks(np.arange(0., 1.01, 0.2), fontsize=20)\n",
    "plt.xticks(fontsize=20)\n",
    "plt.legend(loc='best', fontsize=20)\n",
    "plt.tight_layout()"
   ]
  },
  {
   "cell_type": "markdown",
   "metadata": {},
   "source": [
    "The *95% credible interval*, or 95% CI, painted in purple, represents the interval, for each temperature, that contains 95% of the distribution. For example, at 65 degrees, we can be 95% sure that the probability of defect lies between 0.25 and 0.75.\n",
    "\n",
    "More generally, we can see that as the temperature nears 60 degrees, the CI's spread out quickly. As we pass 70 degrees, the CI's tighten again. This can give us insight about how to proceed next: we should probably test more O-rings around 60-65 temperature to get a better estimate of probabilities in that range. Similarly, when reporting to scientists your estimates, you should be very cautious about simply telling them the expected probability, as we can see this does not reflect how *wide* the posterior distribution is."
   ]
  },
  {
   "cell_type": "markdown",
   "metadata": {},
   "source": [
    "### 7. Question\n",
    "\n",
    "On the day of the Challenger disaster, the outside temperature was 31 degrees Fahrenheit. What is the posterior distribution of a defect occurring,  given this temperature? The distribution is plotted below. It looks almost guaranteed that the Challenger was going to be subject to defective O-rings."
   ]
  }
 ],
 "metadata": {
  "kernelspec": {
   "display_name": "Python 3",
   "language": "python",
   "name": "python3"
  },
  "language_info": {
   "codemirror_mode": {
    "name": "ipython",
    "version": 3
   },
   "file_extension": ".py",
   "mimetype": "text/x-python",
   "name": "python",
   "nbconvert_exporter": "python",
   "pygments_lexer": "ipython3",
   "version": "3.7.7"
  }
 },
 "nbformat": 4,
 "nbformat_minor": 2
}
