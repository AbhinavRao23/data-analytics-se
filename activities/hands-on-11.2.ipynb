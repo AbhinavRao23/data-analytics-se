{
 "cells": [
  {
   "cell_type": "code",
   "execution_count": 1,
   "metadata": {},
   "outputs": [],
   "source": [
    "# Import some basic libraries\n",
    "import numpy as np\n",
    "import matplotlib.pyplot as plt\n",
    "%matplotlib inline\n",
    "import seaborn as sns\n",
    "sns.set_context('paper')"
   ]
  },
  {
   "attachments": {},
   "cell_type": "markdown",
   "metadata": {},
   "source": [
    "# Hands-on Activity 11.2: The principle of maximum entropy for discrete random variables\n",
    "\n",
    "## Objectives\n",
    "+ Learn how to find the maximum entropy distribution for discrete random variables.\n",
    "\n",
    "## The Brandeis Dice Problem\n",
    "This is from the 1962 Brandeis lectures of E. T. Jaynes.\n",
    "\n",
    "> When a die is tossed, the number of spots up can have any value $x$ in $1,\\dots,6$. Suppose a die has been tossed $N$ times and we are told only that the average number of spots up was not $3.5$ (as we might expect from an \"honest\" die) but 4.5. Given this information, <u>and nothing else</u>, what probability should we assign to $x$ spots on the next toss?\n",
    "\n",
    "Let $X$ be a random variable corresponding to the result of tossing the die.\n",
    "The description above imposes the following mean value constraint on the random variable $X$:\n",
    "$$\n",
    "\\sum_{x=1}^6 x p(x) = 4.5.\n",
    "$$\n",
    "As we discussed in the lecture, to come up with a probability mass function for $X$ you have to maximize the entropy subject to the constraints above.\n",
    "We saw that this constrained optimization problem has a unique solution of the form:\n",
    "$$\n",
    "p(x) = \\frac{\\exp\\{-\\lambda x\\}}{Z(\\lambda)},\n",
    "$$\n",
    "where $Z(\\lambda)$ is the *partition function*:\n",
    "$$\n",
    "Z(\\lambda) = \\sum_{i}e^{-\\lambda i} = e^{-\\lambda} + e^{-2\\lambda} + \\dots + e^{-6\\lambda},\n",
    "$$\n",
    "and $\\lambda$ is a parameter to be tuned so that the constraint is satisfied.\n",
    "We will identify $\\lambda$ by solving a root finding problem.\n",
    "To this end, let us write the partition function as:\n",
    "$$\n",
    "Z(\\lambda) = \\left(e^{-\\lambda}\\right)^1+\\left(e^{-\\lambda}\\right)^2 + \\dots + \\left(e^{-\\lambda}\\right)^6,\n",
    "$$\n",
    "which is equal to:\n",
    "$$\n",
    "Z(\\lambda) = \\frac{e^{-\\lambda}\\left(1-e^{-6\\lambda}\\right)}{1 - e^{-\\lambda}}.\n",
    "$$\n",
    "According to the theory, in order to find $\\lambda$ we must solve:\n",
    "$$\n",
    "-\\frac{\\partial Z}{\\partial \\lambda} = 4.5.\n",
    "$$\n",
    "This becomes:\n",
    "$$\n",
    "\\frac{1 - 7e^{-6\\lambda} + 6e^{7\\lambda}}{(1 - e^{-\\lambda})(1 - e^{-6\\lambda})} = 4.5,\n",
    "$$\n",
    "or\n",
    "$$\n",
    "3\\left(e^{-\\lambda}\\right)^7 - 5 \\left(e^{-\\lambda}\\right)^6 + 9e^{-\\lambda} - 7 = 0.\n",
    "$$\n",
    "So, it is sufficient to find the positive root $u^*$ of the following:\n",
    "$$\n",
    "3u^7 - 5u^6 + 9u - 7 = 0,\n",
    "$$\n",
    "and then set $\\lambda = -\\ln u$.\n",
    "Let's solve this root-finding problem numerically using the [Brent's method](https://en.wikipedia.org/wiki/Brent%27s_method)."
   ]
  },
  {
   "cell_type": "code",
   "execution_count": 2,
   "metadata": {},
   "outputs": [
    {
     "name": "stdout",
     "output_type": "stream",
     "text": [
      "Lambda = -0.37\n",
      "p =  [0.05435317 0.07877155 0.11415998 0.1654468  0.23977444 0.34749407]\n"
     ]
    }
   ],
   "source": [
    "from scipy.optimize import brentq\n",
    "\n",
    "# The function of which the root we want to find\n",
    "def f(u):\n",
    "    return 3. * u ** 7 - 5 * u ** 6 + 9. * u - 7.\n",
    "\n",
    "# Brent's method searchers for the root within an interval.\n",
    "# We know that u must be positive, so let's just look in [0,10]:\n",
    "# Left bound for x\n",
    "a = 0.\n",
    "# Right bound for x\n",
    "b = 10.\n",
    "u_star = brentq(f, a, b)\n",
    "lam = -np.log(u_star)\n",
    "print('Lambda = {0:1.2f}'.format(lam))\n",
    "# Evaluate the partition function at this lambda\n",
    "Z = np.exp(-lam) * (1. - np.exp(-6 * lam)) / (1. - np.exp(-lam))\n",
    "# The maximum entropy probabilities\n",
    "p = np.exp(-lam * np.arange(1, 7)) / Z\n",
    "print('p = ', p)"
   ]
  },
  {
   "cell_type": "code",
   "execution_count": 3,
   "metadata": {},
   "outputs": [
    {
     "data": {
      "text/plain": [
       "Text(0, 0.5, 'Probability $p(x)$')"
      ]
     },
     "execution_count": 3,
     "metadata": {},
     "output_type": "execute_result"
    },
    {
     "data": {
      "image/png": "[encoded data removed]",
      "text/plain": [
       "<Figure size 900x600 with 1 Axes>"
      ]
     },
     "metadata": {
      "needs_background": "light"
     },
     "output_type": "display_data"
    }
   ],
   "source": [
    "fig, ax = plt.subplots(dpi=150)\n",
    "plt.bar(np.arange(1, 7), p, alpha=0.5)\n",
    "ax.set_xlabel('Die result ($x$)')\n",
    "ax.set_ylabel('Probability $p(x)$')"
   ]
  },
  {
   "cell_type": "markdown",
   "metadata": {},
   "source": [
    "## Questions\n",
    "\n",
    "+ Rerun the code above assuming that the mean is 3.5. What kind of distribution do you find? Why?\n",
    "+ If you have some time to spare, modify the example above to add the constraint that the variance of $X$ should be 0.2. Hint: First, translate the constraint about the variance to a constraint about $\\mathbb{E}[X^2]$. Second, you need to introduce one more parameter to optimize for. Call it $\\mu$. The distribution would be $p(x) = \\frac{\\exp\\{-\\lambda x - \\mu x^2\\}}{Z(\\lambda,\\mu)}$. Then derive the set of non-linear equations you need solve to find $\\lambda$ and $\\mu$ by expanding these two equations:\n",
    "$$\n",
    "-\\frac{\\partial Z}{\\partial \\lambda} = \\mathbb{E}[X],\n",
    "$$\n",
    "and\n",
    "$$\n",
    "-\\frac{\\partial Z}{\\partial \\mu} = \\mathbb{E}[X^2].\n",
    "$$\n",
    "Finally, use [scipy.optimize.root](https://docs.scipy.org/doc/scipy/reference/generated/scipy.optimize.root.html#scipy.optimize.root) to solve the root-finding problem.\n",
    "Be careful with this because it could take several hours to do right..."
   ]
  }
 ],
 "metadata": {
  "kernelspec": {
   "display_name": "Python 3",
   "language": "python",
   "name": "python3"
  },
  "language_info": {
   "codemirror_mode": {
    "name": "ipython",
    "version": 3
   },
   "file_extension": ".py",
   "mimetype": "text/x-python",
   "name": "python",
   "nbconvert_exporter": "python",
   "pygments_lexer": "ipython3",
   "version": "3.7.7"
  }
 },
 "nbformat": 4,
 "nbformat_minor": 4
}
