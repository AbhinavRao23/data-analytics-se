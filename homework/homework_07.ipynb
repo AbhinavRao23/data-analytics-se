{
 "cells": [
  {
   "cell_type": "markdown",
   "metadata": {},
   "source": [
    "# Homework 7\n",
    "\n",
    "**Due: 11/06/2020 on gradescope**\n",
    "\n",
    "## References\n",
    "\n",
    "+ Lectures 19-20 (inclusive).\n",
    "\n",
    "\n",
    "## Instructions\n",
    "\n",
    "+ Type your name and email in the \"Student details\" section below.\n",
    "+ Develop the code and generate the figures you need to solve the problems using this notebook.\n",
    "+ For the answers that require a mathematical proof or derivation you can either:\n",
    "    \n",
    "    - Type the answer using the built-in latex capabilities. In this case, simply export the notebook as a pdf and upload it on gradescope; or\n",
    "    - You can print the notebook (after you are done with all the code), write your answers by hand, scan, turn your response to a single pdf, and upload on gradescope.\n",
    "\n",
    "+ The total homework points are 100. Please note that the problems are not weighed equally.\n",
    "\n",
    "**Note**: Please match all the pages corresponding to each of the questions when you submit on gradescope. "
   ]
  },
  {
   "cell_type": "markdown",
   "metadata": {},
   "source": [
    "## Student details\n",
    "\n",
    "+ **First Name:**\n",
    "+ **Last Name:**\n",
    "+ **Email:**"
   ]
  },
  {
   "cell_type": "code",
   "execution_count": null,
   "metadata": {},
   "outputs": [],
   "source": [
    "import matplotlib.pyplot as plt\n",
    "%matplotlib inline\n",
    "import numpy as np\n",
    "import pandas as pd\n",
    "import seaborn as sns\n",
    "sns.set_context('paper')\n",
    "sns.set_style('white')\n",
    "import scipy.stats as st\n",
    "# A helper function for downloading files\n",
    "import requests\n",
    "import os\n",
    "def download(url, local_filename=None):\n",
    "    \"\"\"\n",
    "    Downloads the file in the ``url`` and saves it in the current working directory.\n",
    "    \"\"\"\n",
    "    data = requests.get(url)\n",
    "    if local_filename is None:\n",
    "        local_filename = os.path.basename(url)\n",
    "    with open(local_filename, 'wb') as fd:\n",
    "        fd.write(data.content)"
   ]
  },
  {
   "cell_type": "markdown",
   "metadata": {},
   "source": [
    "# Problem 1 - Filtering of an Oscillator with Dumping\n",
    "\n",
    "Assume that you are dealing with a one-degree-of-freedom system which follows the equation:\n",
    "$$\n",
    "\\ddot{x} + 2\\zeta \\omega_0 \\dot{x} + \\omega^2_0 x = u_0 \\cos(\\omega t),\n",
    "$$\n",
    "where $x = x(t)$ is the generalized coordinate of the oscillator at time $t$, and the parameters $\\zeta$, $\\omega_0$, $u_0$, and $\\omega$ are known to you (we will give them specific values later).\n",
    "Furthermore, assume that you are making noisy observations of the acceleration at discrete timesteps $\\Delta t$ (also known):\n",
    "$$\n",
    "y_j = \\ddot{x}(j\\Delta t)+w_j,\n",
    "$$\n",
    "for $j=1,\\dots,n$, where $w_j \\sim N(0, \\sigma^2)$ with $\\sigma^2$ also known.\n",
    "Finally, assume that the initial conditions for the position and the velocity (you need both to get a unique solution) are given by:\n",
    "$$\n",
    "x_0 = x(0) \\sim N(0, \\sigma_x^2),\n",
    "$$\n",
    "and\n",
    "$$\n",
    "v_0 = \\dot{x} \\sim N(0, \\sigma_v^2).\n",
    "$$\n",
    "Of course assume taht $\\sigma_x^2$ and $\\sigma_v^2$ are specific numbers that we are going to specify below.\n",
    "\n",
    "Before I we go over the questions, let's write code that generates the true trajectory of the system at some random initial conditions as well as some observations.\n",
    "We will use the code to generate a synthetic dataset with known ground truth which you will use in your filtering analysis.\n",
    "\n",
    "The first step we need to do, is to turn the problem into a first order differential equation.\n",
    "This is trivial.\n",
    "We set:\n",
    "$$\n",
    "\\mathbf{x} = \n",
    "\\begin{bmatrix}\n",
    "x\\\\\n",
    "\\dot{x}\n",
    "\\end{bmatrix}.\n",
    "$$\n",
    "Assuming $\\mathbf{x} = (x_1,x_2)$, then the dynamics are described by:\n",
    "$$\n",
    "\\dot{\\mathbf{x}} = \n",
    "\\begin{bmatrix}\n",
    "\\dot{x}\\\\\n",
    "\\ddot{x}\n",
    "\\end{bmatrix}\n",
    "= \n",
    "\\begin{bmatrix}\n",
    "x_2\\\\\n",
    "-2\\zeta \\omega_0 \\dot{x} - \\omega^2_0 x + u_0 \\cos(\\omega t)\n",
    "\\end{bmatrix}\n",
    "=\n",
    "\\begin{bmatrix}\n",
    "x_2\\\\\n",
    "-2\\zeta \\omega_0 x_2 - \\omega^2_0 x_1 + u_0 \\cos(\\omega t)\n",
    "\\end{bmatrix}\n",
    "$$\n",
    "The initial conditions are of course just:\n",
    "$$\n",
    "\\mathbf{x}_0 =\n",
    "\\begin{bmatrix}\n",
    "x_0\\\\\n",
    "v_0\n",
    "\\end{bmatrix}.\n",
    "$$\n",
    "\n",
    "This first order system can solved using [scipy.integrate.solve_ivp](https://docs.scipy.org/doc/scipy/reference/generated/scipy.integrate.solve_ivp.html#scipy.integrate.solve_ivp).\n",
    "Here is how:"
   ]
  },
  {
   "cell_type": "code",
   "execution_count": null,
   "metadata": {},
   "outputs": [],
   "source": [
    "from scipy.integrate import solve_ivp\n",
    "\n",
    "# You need to define the right hand side of the equation\n",
    "def rhs(t, x, omega0, zeta, u0, omega):\n",
    "    \"\"\"\n",
    "    Returns the right hand side of the dynamical system.\n",
    "    \n",
    "    Arguments\n",
    "    t       -    Time\n",
    "    x       -    The state\n",
    "    omega0  -    Natural frequency\n",
    "    zeta    -    Dumping factor (0<=zeta)\n",
    "    u0      -    External force amplitude\n",
    "    omega   -    Excitation frequency\n",
    "    \"\"\"\n",
    "    res = np.ndarray((2,))\n",
    "    res[0] = x[1]\n",
    "    res[1] = -2.0 * zeta * omega0 * x[1] - omega0 ** 2 * x[0] + u0 * np.cos(omega * t)\n",
    "    return res"
   ]
  },
  {
   "cell_type": "markdown",
   "metadata": {},
   "source": [
    "And here is how you solve it for given initial conditions and parameters:"
   ]
  },
  {
   "cell_type": "code",
   "execution_count": null,
   "metadata": {},
   "outputs": [],
   "source": [
    "# Initial conditions\n",
    "x0 = np.array([0.0, 1.0])\n",
    "# Natural frequency\n",
    "omega0 = 2.0\n",
    "# Dumping factor\n",
    "zeta = 0.4\n",
    "# External forcing amplitude\n",
    "u0 = 0.5\n",
    "# Excitation frequency\n",
    "omega = 2.1\n",
    "# Timestep\n",
    "dt = 0.1\n",
    "# The final time\n",
    "final_time = 10.0\n",
    "# The number of timesteps to get the final time\n",
    "n_steps = int(final_time / dt)\n",
    "# The times on which you want the solution\n",
    "t_eval = np.linspace(0, final_time, n_steps)\n",
    "# The solution\n",
    "sol = solve_ivp(rhs, (0, final_time), x0, t_eval=t_eval, args=(omega0, zeta, u0, omega))"
   ]
  },
  {
   "cell_type": "markdown",
   "metadata": {},
   "source": [
    "The solution is stored here:"
   ]
  },
  {
   "cell_type": "code",
   "execution_count": null,
   "metadata": {},
   "outputs": [],
   "source": [
    "sol.y.shape"
   ]
  },
  {
   "cell_type": "markdown",
   "metadata": {},
   "source": [
    "You see that the shape is ``number of states x number of time steps``.\n",
    "Let's visualize the trajectory separating position and velocity:"
   ]
  },
  {
   "cell_type": "code",
   "execution_count": null,
   "metadata": {},
   "outputs": [],
   "source": [
    "fig, ax = plt.subplots(dpi=150)\n",
    "ax.plot(t_eval, sol.y[0, :], label='Position')\n",
    "ax.plot(t_eval, sol.y[1, :], label='Velocity')\n",
    "ax.set_xlabel('$t$')\n",
    "ax.set_ylabel('$x_i(t)$')\n",
    "plt.legend(loc='best');"
   ]
  },
  {
   "cell_type": "markdown",
   "metadata": {},
   "source": [
    "Let's now generate some synthetic observations of the acceleration with some given Gaussian noise.\n",
    "To get the true acceleration you can do this:"
   ]
  },
  {
   "cell_type": "code",
   "execution_count": null,
   "metadata": {},
   "outputs": [],
   "source": [
    "true_acc = np.array([rhs(t, x, omega0, zeta, u0, omega)[1] for (t, x) in zip(t_eval, sol.y.T)])"
   ]
  },
  {
   "cell_type": "markdown",
   "metadata": {},
   "source": [
    "And now I am going to add some Gaussian noise to it:"
   ]
  },
  {
   "cell_type": "code",
   "execution_count": null,
   "metadata": {},
   "outputs": [],
   "source": [
    "# The measurement standard deviation\n",
    "sigma_r = 0.2\n",
    "observations = true_acc + sigma_r * np.random.randn(true_acc.shape[0])"
   ]
  },
  {
   "cell_type": "markdown",
   "metadata": {},
   "source": [
    "And here is how the noisy observations of the acceleration look like compared to the true acceleration value:"
   ]
  },
  {
   "cell_type": "code",
   "execution_count": null,
   "metadata": {},
   "outputs": [],
   "source": [
    "fig, ax = plt.subplots(dpi=150)\n",
    "ax.plot(t_eval, true_acc, label='Acceleration')\n",
    "ax.plot(t_eval, observations, '.', label='Noisy observation of acceleration')\n",
    "ax.set_xlabel('$t$')\n",
    "ax.set_ylabel('$\\ddot{x}(t)$')\n",
    "plt.legend(loc='best');"
   ]
  },
  {
   "cell_type": "markdown",
   "metadata": {},
   "source": [
    "Okay. Now imagine that you only see the noisy observations of the acceleration.\n",
    "The filtering goal is to recover the state of the underlying system (as well as its acceleration).\n",
    "I am going to guide you through the steps you need to follow.\n",
    "\n",
    "## Part A - Discretize time (Transitions)\n",
    "\n",
    "Use the Euler time discretization scheme to turn the continuous dynamical system into a discrete time dynamical system like this:\n",
    "$$\n",
    "\\mathbf{x}_{j+1} = \\mathbf{A}\\mathbf{x}_j + Bu_j + \\mathbf{z}_j,\n",
    "$$\n",
    "where\n",
    "$$\n",
    "\\mathbf{x}_j = \\mathbf{x}(j\\Delta t),\n",
    "$$\n",
    "$$\n",
    "u_j = u(j\\Delta t),\n",
    "$$\n",
    "and $\\mathbf{z}_j$ is properly chosen process noise term.\n",
    "You should derive and provide mathematical exprssions for the following:\n",
    "+ The $2 \\times 2$ transition matrix $\\mathbf{A}$.\n",
    "+ The $2 \\times 1$ control \"matrix\" $B$.\n",
    "+ The process covariance $\\mathbf{Q}$. For the process covariance, you may choose your own values by hand."
   ]
  },
  {
   "cell_type": "markdown",
   "metadata": {},
   "source": [
    "**Answer:**\n",
    "*Your mathematics and text here*\n",
    "<br><br><br><br><br><br><br>\n",
    "<br><br><br><br><br><br><br>\n",
    "<br><br><br><br><br><br><br>"
   ]
  },
  {
   "cell_type": "markdown",
   "metadata": {},
   "source": [
    "## Part B - Discretize time (Emissions)\n",
    "\n",
    "Establish the map that takes you from the states to the accelerations at each timestep.\n",
    "That is, specify:\n",
    "$$\n",
    "y_j = \\mathbf{C}\\mathbf{x}_j + w_j,\n",
    "$$\n",
    "where\n",
    "$$\n",
    "y_j = \\ddot{x}(j\\Delta t) + w_j,\n",
    "$$\n",
    "and $w_j$ is a measurement noise.\n",
    "You should derive and provide mathematical expressions for the following:\n",
    "+ The $1 \\times 2$ emission matrix $\\mathbf{C}$.\n",
    "+ The $1 \\times 1$ covariance \"matrix\" $R$ of the measurement noise."
   ]
  },
  {
   "cell_type": "markdown",
   "metadata": {},
   "source": [
    "**Answer:**\n",
    "*Your mathematics and text here*\n",
    "<br><br><br><br><br><br><br>"
   ]
  },
  {
   "cell_type": "markdown",
   "metadata": {},
   "source": [
    "## Part C - Apply the Kalman filter\n",
    "\n",
    "Use ``FilterPy`` (see the hands-on activity of Lecture 20) to infer the unobserved states given the noisy observations of the accelerations.\n",
    "Plot time-evolving 95% credible intervals for the position and the velocity along with the true unobserved values of these quantities (in two separate plots)."
   ]
  },
  {
   "cell_type": "code",
   "execution_count": null,
   "metadata": {},
   "outputs": [],
   "source": [
    "# Your answer here (as many code and text blocks as you want)"
   ]
  },
  {
   "cell_type": "markdown",
   "metadata": {},
   "source": [
    "## Part D - Quantify and visualize your uncertainty about the true acceleration value\n",
    "\n",
    "Use standard uncertainty propagation techniques to quantify your epistemic uncertainty about the true acceleration value.\n",
    "You will have to use the inferred states of the system and the dynamical model.\n",
    "This can be done either analytically or by Monte Carlo. It's your choice.\n",
    "In any case, plot time-evolving 95% credible intervals for the acceleration (epistemic only) along with the true unobserved values and the noisy measurements."
   ]
  },
  {
   "cell_type": "code",
   "execution_count": null,
   "metadata": {},
   "outputs": [],
   "source": [
    "# Your answer here (as many code and text blocks as you want)"
   ]
  }
 ],
 "metadata": {
  "anaconda-cloud": {},
  "kernelspec": {
   "display_name": "Python 3",
   "language": "python",
   "name": "python3"
  },
  "language_info": {
   "codemirror_mode": {
    "name": "ipython",
    "version": 3
   },
   "file_extension": ".py",
   "mimetype": "text/x-python",
   "name": "python",
   "nbconvert_exporter": "python",
   "pygments_lexer": "ipython3",
   "version": "3.7.7"
  },
  "latex_envs": {
   "bibliofile": "biblio.bib",
   "cite_by": "apalike",
   "current_citInitial": 1,
   "eqLabelWithNumbers": true,
   "eqNumInitial": 0
  }
 },
 "nbformat": 4,
 "nbformat_minor": 2
}
